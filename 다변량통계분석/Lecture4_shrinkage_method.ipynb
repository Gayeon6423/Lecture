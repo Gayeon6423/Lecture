{
 "cells": [
  {
   "cell_type": "markdown",
   "metadata": {
    "slideshow": {
     "slide_type": "slide"
    }
   },
   "source": [
    "# <font color=navy> Lecture 4. Variable Selection and Shrinkage Method"
   ]
  },
  {
   "cell_type": "code",
   "execution_count": 1,
   "metadata": {
    "slideshow": {
     "slide_type": "skip"
    }
   },
   "outputs": [],
   "source": [
    "import pandas as pd\n",
    "import numpy as np\n",
    "import matplotlib.pylab as plt\n",
    "import scipy.stats as stats\n",
    "import statsmodels.api as sm\n",
    "import statsmodels.formula.api as smf\n",
    "from statsmodels.stats.outliers_influence import OLSInfluence\n",
    "data_path = \"../data/\"\n",
    "credit = pd.read_csv(data_path + \"Credit.csv\", index_col=0)"
   ]
  },
  {
   "cell_type": "markdown",
   "metadata": {
    "slideshow": {
     "slide_type": "fragment"
    }
   },
   "source": [
    "## 4.1 최소제곱추정량(LSE)의 개선\n",
    "- RSS를 최소화 하는 $\\hat \\beta$를 찾는 LSE 외에 다른 추정 방법을 고려 \n",
    "\n",
    "### 4.1.1 왜 LSE 대신 다른 방법을 사용하려 하는가? \n",
    "__예측 정확도__\n",
    "\n",
    "- 반응변수와 설명변수들 사이의 실제 상관관계가 거의 선형적인 경우 LSE의 편향(bias)가 작음 \n",
    "- $n>>p$인 경우 LSE는 분산이 작아 좋은 성능 \n",
    "- $n$이 $p$보다 많이 크지 않다면\n",
    "    -  LSE의 변동성 큼\n",
    "    - 과적합으로 인해 미래의 관측치에 대한 예측력 저하 \n",
    "    \n",
    "__모델 해석력(model interpretability)__\n",
    "\n",
    "- 반응변수와 관련이 없는 설명변수가 모형에 포함되면 복잡도 증가 \n",
    "- 필요없는 변수를 제거하여 해석력을 증가 \n"
   ]
  },
  {
   "cell_type": "markdown",
   "metadata": {
    "slideshow": {
     "slide_type": "slide"
    }
   },
   "source": [
    "### 4.1.2 Bias/variance tradeoff\n",
    "\n",
    "- 모델을 일반화 시킬 때 발생하는 error\n",
    "    - Bias: 모델에 대한 가정이 잘못되서 생기는 error \n",
    "    - Variance: Training data에 대해 지나치게 민감해서 발생되는 error\n",
    "\n",
    "\n",
    "\n",
    "<img src='http://drive.google.com/uc?export=view&id=1sau3vf5fueJ5bYdGf8o7FFFjz1o-vXzy' /><br>"
   ]
  },
  {
   "cell_type": "markdown",
   "metadata": {
    "slideshow": {
     "slide_type": "slide"
    }
   },
   "source": [
    "- $J_{train}(\\theta)$: Train set을 사용한 모형의 loss function \n",
    "- $J_{test}(\\theta)$: Test set을 사용한 모형의 loss function \n",
    "    - Linear regression 의 경우 RSS($\\mathbf \\beta$)$=\\sum_{i} (y_i - \\hat y_i )^2$\n",
    "\n",
    "<img src='http://drive.google.com/uc?export=view&id=1Fz2iAraKz9wwEhhVJ3Yx3ONIuYl1qZHv' width=300 /><br>"
   ]
  },
  {
   "cell_type": "markdown",
   "metadata": {
    "slideshow": {
     "slide_type": "slide"
    }
   },
   "source": [
    "\n",
    "### 4.1.3 최소제곱추정량의 대안 \n",
    "- 부분집합 선택\n",
    "    - p개의 설명변수 중 반응변수와 관련이 있다고 생각되는 서브셋을 식별 후 최소제곱법으로 추정 \n",
    "    - Backward selection, forward selection, mixed selection, best subset selection\n",
    "\n",
    "- 수축(shrinkage)\n",
    "    - p개의 설명변수를 모두 포함하는 모형을 추정\n",
    "    - 회귀계수를 LSE보다 작은 값으로 수축 \n",
    "    - 분산을 줄이는 효과 \n",
    "\n",
    "- 차원축소(Dimension reduction)\n",
    "    - p개의 설명변수를 저차원의 공간으로 projection \n",
    "    - 주성분분석(principal component analysis)"
   ]
  },
  {
   "cell_type": "markdown",
   "metadata": {
    "slideshow": {
     "slide_type": "slide"
    }
   },
   "source": [
    "## 4.2 변수선택 방법\n",
    "\n",
    "- 어느 설명변수가 반응변수와 상관성이 있는가? \n",
    "    - 전진선택 (forward selection)\n",
    "        - 절편만 포함한 null model에서 시작\n",
    "        - p 개의 단순선형회귀 적합. 가장 낮은 RSS가 발생되는 변수를 추가 \n",
    "        - 새로운 2변수 모델에 대해 가장 낮은 RSS가 발생되는 변수 추가 \n",
    "        - stopping rule을 만족할 때 까지 반복 \n",
    "    - 후진선택 (backward elimination)\n",
    "        - 모델의 모든 변수를 가지고 시작\n",
    "        - 제외했을 때 가장 RSS가 작은 변수 제외\n",
    "        - 새로운 (p-1)-변수 모델을 적합하고 RSS가 가장 작은 변수 제외\n",
    "        - stopping rule을 만족할 때 까지 계속 \n",
    "    - 혼합선택 (mixed selection)  \n",
    "        - 변수가 없는 모델에서 시작하여 하나씩 추가\n",
    "        - 새로운 설명변수가 추가됨에 따라 기존의 변수들의 유의하지 않을 수 있음 \n",
    "        - 매 단계에서 기존 변수가 제거되었을 때와 비교하여 best model 선택 \n",
    "    - 최상의 부분집합 선택 (Best subset selection)\n",
    "        - 가능한 모든 설명변수 조합의 모형들 중 최적의 모형 선택 "
   ]
  },
  {
   "cell_type": "markdown",
   "metadata": {
    "slideshow": {
     "slide_type": "slide"
    }
   },
   "source": [
    "\n",
    "### 최상의 부분집합 선택 \n",
    "- 포함하는 설명변수들이 서로 다른 많은 수의 모델을 시험하여 최상의 모델 선택 (p=2인 경우 총 4개의 모델)\n",
    "- 최고의 모델을 선택하는 기준? (총 p개 중 d개의 설명변수가 포함된 모델)\n",
    "\n",
    "    $$ AIC= \\frac 1 {n\\hat \\sigma^2 } (RSS + 2d\\hat \\sigma^2)$$\n",
    "    $$ BIC=\\frac 1 n (RSS+ \\log(n) d\\hat \\sigma^2 ) $$\n",
    "    $$ R_a^2 = 1-(1-R^2) \\frac{n-1}{n-p-1} $$\n",
    "\n",
    "- AIC, BIC\n",
    "    - 작은 오차를 가지는 모델들이 작은 값을 가지는 경향\n",
    "    - 변수의 개수에 대한 패널티 부여\n",
    "    - 각 기준으로 가장 낮은 값을 가지는 모형 선택\n",
    "    - BIC가 더 작은 크기의 모델이 선택되는 경향\n",
    "-  Adjusted $R^2$\n",
    "    - 클 수록 오차가 작은 모델\n",
    "    - 올바른 변수들이 모두 모델에 포함되고 나면 불필요한 변수의 추가로 얻는 RSS 감소는 미세한 반면 변수 개수 추가에 의한 패널티 값이 "
   ]
  },
  {
   "cell_type": "code",
   "execution_count": 22,
   "metadata": {},
   "outputs": [
    {
     "name": "stdout",
     "output_type": "stream",
     "text": [
      "<class 'pandas.core.frame.DataFrame'>\n",
      "Index: 400 entries, 1 to 400\n",
      "Data columns (total 11 columns):\n",
      " #   Column     Non-Null Count  Dtype  \n",
      "---  ------     --------------  -----  \n",
      " 0   Income     400 non-null    float64\n",
      " 1   Limit      400 non-null    int64  \n",
      " 2   Rating     400 non-null    int64  \n",
      " 3   Cards      400 non-null    int64  \n",
      " 4   Age        400 non-null    int64  \n",
      " 5   Education  400 non-null    int64  \n",
      " 6   Gender     400 non-null    object \n",
      " 7   Student    400 non-null    object \n",
      " 8   Married    400 non-null    object \n",
      " 9   Ethnicity  400 non-null    object \n",
      " 10  Balance    400 non-null    int64  \n",
      "dtypes: float64(1), int64(6), object(4)\n",
      "memory usage: 37.5+ KB\n"
     ]
    }
   ],
   "source": [
    "credit.info()"
   ]
  },
  {
   "cell_type": "code",
   "execution_count": 2,
   "metadata": {
    "scrolled": true,
    "slideshow": {
     "slide_type": "slide"
    }
   },
   "outputs": [],
   "source": [
    "model = smf.ols('Balance~'+\"+\".join(credit.columns[:-1]), data = credit)"
   ]
  },
  {
   "cell_type": "code",
   "execution_count": 18,
   "metadata": {},
   "outputs": [],
   "source": [
    "X = model.data.orig_exog\n",
    "y = model.data.orig_endog"
   ]
  },
  {
   "cell_type": "code",
   "execution_count": 20,
   "metadata": {},
   "outputs": [
    {
     "data": {
      "text/html": [
       "<div>\n",
       "<style scoped>\n",
       "    .dataframe tbody tr th:only-of-type {\n",
       "        vertical-align: middle;\n",
       "    }\n",
       "\n",
       "    .dataframe tbody tr th {\n",
       "        vertical-align: top;\n",
       "    }\n",
       "\n",
       "    .dataframe thead th {\n",
       "        text-align: right;\n",
       "    }\n",
       "</style>\n",
       "<table border=\"1\" class=\"dataframe\">\n",
       "  <thead>\n",
       "    <tr style=\"text-align: right;\">\n",
       "      <th></th>\n",
       "      <th>Intercept</th>\n",
       "      <th>Gender[T.Female]</th>\n",
       "      <th>Student[T.Yes]</th>\n",
       "      <th>Married[T.Yes]</th>\n",
       "      <th>Ethnicity[T.Asian]</th>\n",
       "      <th>Ethnicity[T.Caucasian]</th>\n",
       "      <th>Income</th>\n",
       "      <th>Limit</th>\n",
       "      <th>Rating</th>\n",
       "      <th>Cards</th>\n",
       "      <th>Age</th>\n",
       "      <th>Education</th>\n",
       "    </tr>\n",
       "  </thead>\n",
       "  <tbody>\n",
       "    <tr>\n",
       "      <th>1</th>\n",
       "      <td>1.0</td>\n",
       "      <td>0.0</td>\n",
       "      <td>0.0</td>\n",
       "      <td>1.0</td>\n",
       "      <td>0.0</td>\n",
       "      <td>1.0</td>\n",
       "      <td>14.891</td>\n",
       "      <td>3606.0</td>\n",
       "      <td>283.0</td>\n",
       "      <td>2.0</td>\n",
       "      <td>34.0</td>\n",
       "      <td>11.0</td>\n",
       "    </tr>\n",
       "    <tr>\n",
       "      <th>2</th>\n",
       "      <td>1.0</td>\n",
       "      <td>1.0</td>\n",
       "      <td>1.0</td>\n",
       "      <td>1.0</td>\n",
       "      <td>1.0</td>\n",
       "      <td>0.0</td>\n",
       "      <td>106.025</td>\n",
       "      <td>6645.0</td>\n",
       "      <td>483.0</td>\n",
       "      <td>3.0</td>\n",
       "      <td>82.0</td>\n",
       "      <td>15.0</td>\n",
       "    </tr>\n",
       "    <tr>\n",
       "      <th>3</th>\n",
       "      <td>1.0</td>\n",
       "      <td>0.0</td>\n",
       "      <td>0.0</td>\n",
       "      <td>0.0</td>\n",
       "      <td>1.0</td>\n",
       "      <td>0.0</td>\n",
       "      <td>104.593</td>\n",
       "      <td>7075.0</td>\n",
       "      <td>514.0</td>\n",
       "      <td>4.0</td>\n",
       "      <td>71.0</td>\n",
       "      <td>11.0</td>\n",
       "    </tr>\n",
       "    <tr>\n",
       "      <th>4</th>\n",
       "      <td>1.0</td>\n",
       "      <td>1.0</td>\n",
       "      <td>0.0</td>\n",
       "      <td>0.0</td>\n",
       "      <td>1.0</td>\n",
       "      <td>0.0</td>\n",
       "      <td>148.924</td>\n",
       "      <td>9504.0</td>\n",
       "      <td>681.0</td>\n",
       "      <td>3.0</td>\n",
       "      <td>36.0</td>\n",
       "      <td>11.0</td>\n",
       "    </tr>\n",
       "    <tr>\n",
       "      <th>5</th>\n",
       "      <td>1.0</td>\n",
       "      <td>0.0</td>\n",
       "      <td>0.0</td>\n",
       "      <td>1.0</td>\n",
       "      <td>0.0</td>\n",
       "      <td>1.0</td>\n",
       "      <td>55.882</td>\n",
       "      <td>4897.0</td>\n",
       "      <td>357.0</td>\n",
       "      <td>2.0</td>\n",
       "      <td>68.0</td>\n",
       "      <td>16.0</td>\n",
       "    </tr>\n",
       "  </tbody>\n",
       "</table>\n",
       "</div>"
      ],
      "text/plain": [
       "   Intercept  Gender[T.Female]  Student[T.Yes]  Married[T.Yes]  \\\n",
       "1        1.0               0.0             0.0             1.0   \n",
       "2        1.0               1.0             1.0             1.0   \n",
       "3        1.0               0.0             0.0             0.0   \n",
       "4        1.0               1.0             0.0             0.0   \n",
       "5        1.0               0.0             0.0             1.0   \n",
       "\n",
       "   Ethnicity[T.Asian]  Ethnicity[T.Caucasian]   Income   Limit  Rating  Cards  \\\n",
       "1                 0.0                     1.0   14.891  3606.0   283.0    2.0   \n",
       "2                 1.0                     0.0  106.025  6645.0   483.0    3.0   \n",
       "3                 1.0                     0.0  104.593  7075.0   514.0    4.0   \n",
       "4                 1.0                     0.0  148.924  9504.0   681.0    3.0   \n",
       "5                 0.0                     1.0   55.882  4897.0   357.0    2.0   \n",
       "\n",
       "    Age  Education  \n",
       "1  34.0       11.0  \n",
       "2  82.0       15.0  \n",
       "3  71.0       11.0  \n",
       "4  36.0       11.0  \n",
       "5  68.0       16.0  "
      ]
     },
     "execution_count": 20,
     "metadata": {},
     "output_type": "execute_result"
    }
   ],
   "source": [
    "X.head() # 범주형 변수는 자동으로 가변수 생성"
   ]
  },
  {
   "cell_type": "code",
   "execution_count": 21,
   "metadata": {},
   "outputs": [
    {
     "data": {
      "text/html": [
       "<div>\n",
       "<style scoped>\n",
       "    .dataframe tbody tr th:only-of-type {\n",
       "        vertical-align: middle;\n",
       "    }\n",
       "\n",
       "    .dataframe tbody tr th {\n",
       "        vertical-align: top;\n",
       "    }\n",
       "\n",
       "    .dataframe thead th {\n",
       "        text-align: right;\n",
       "    }\n",
       "</style>\n",
       "<table border=\"1\" class=\"dataframe\">\n",
       "  <thead>\n",
       "    <tr style=\"text-align: right;\">\n",
       "      <th></th>\n",
       "      <th>Balance</th>\n",
       "    </tr>\n",
       "  </thead>\n",
       "  <tbody>\n",
       "    <tr>\n",
       "      <th>1</th>\n",
       "      <td>333.0</td>\n",
       "    </tr>\n",
       "    <tr>\n",
       "      <th>2</th>\n",
       "      <td>903.0</td>\n",
       "    </tr>\n",
       "    <tr>\n",
       "      <th>3</th>\n",
       "      <td>580.0</td>\n",
       "    </tr>\n",
       "    <tr>\n",
       "      <th>4</th>\n",
       "      <td>964.0</td>\n",
       "    </tr>\n",
       "    <tr>\n",
       "      <th>5</th>\n",
       "      <td>331.0</td>\n",
       "    </tr>\n",
       "  </tbody>\n",
       "</table>\n",
       "</div>"
      ],
      "text/plain": [
       "   Balance\n",
       "1    333.0\n",
       "2    903.0\n",
       "3    580.0\n",
       "4    964.0\n",
       "5    331.0"
      ]
     },
     "execution_count": 21,
     "metadata": {},
     "output_type": "execute_result"
    }
   ],
   "source": [
    "y.head()"
   ]
  },
  {
   "cell_type": "code",
   "execution_count": 23,
   "metadata": {},
   "outputs": [
    {
     "name": "stdout",
     "output_type": "stream",
     "text": [
      "('Gender[T.Female]', 'Student[T.Yes]')\n",
      "('Gender[T.Female]', 'Married[T.Yes]')\n",
      "('Gender[T.Female]', 'Ethnicity[T.Asian]')\n",
      "('Gender[T.Female]', 'Ethnicity[T.Caucasian]')\n",
      "('Gender[T.Female]', 'Income')\n",
      "('Gender[T.Female]', 'Limit')\n",
      "('Gender[T.Female]', 'Rating')\n",
      "('Gender[T.Female]', 'Cards')\n",
      "('Gender[T.Female]', 'Age')\n",
      "('Gender[T.Female]', 'Education')\n",
      "('Student[T.Yes]', 'Married[T.Yes]')\n",
      "('Student[T.Yes]', 'Ethnicity[T.Asian]')\n",
      "('Student[T.Yes]', 'Ethnicity[T.Caucasian]')\n",
      "('Student[T.Yes]', 'Income')\n",
      "('Student[T.Yes]', 'Limit')\n",
      "('Student[T.Yes]', 'Rating')\n",
      "('Student[T.Yes]', 'Cards')\n",
      "('Student[T.Yes]', 'Age')\n",
      "('Student[T.Yes]', 'Education')\n",
      "('Married[T.Yes]', 'Ethnicity[T.Asian]')\n",
      "('Married[T.Yes]', 'Ethnicity[T.Caucasian]')\n",
      "('Married[T.Yes]', 'Income')\n",
      "('Married[T.Yes]', 'Limit')\n",
      "('Married[T.Yes]', 'Rating')\n",
      "('Married[T.Yes]', 'Cards')\n",
      "('Married[T.Yes]', 'Age')\n",
      "('Married[T.Yes]', 'Education')\n",
      "('Ethnicity[T.Asian]', 'Ethnicity[T.Caucasian]')\n",
      "('Ethnicity[T.Asian]', 'Income')\n",
      "('Ethnicity[T.Asian]', 'Limit')\n",
      "('Ethnicity[T.Asian]', 'Rating')\n",
      "('Ethnicity[T.Asian]', 'Cards')\n",
      "('Ethnicity[T.Asian]', 'Age')\n",
      "('Ethnicity[T.Asian]', 'Education')\n",
      "('Ethnicity[T.Caucasian]', 'Income')\n",
      "('Ethnicity[T.Caucasian]', 'Limit')\n",
      "('Ethnicity[T.Caucasian]', 'Rating')\n",
      "('Ethnicity[T.Caucasian]', 'Cards')\n",
      "('Ethnicity[T.Caucasian]', 'Age')\n",
      "('Ethnicity[T.Caucasian]', 'Education')\n",
      "('Income', 'Limit')\n",
      "('Income', 'Rating')\n",
      "('Income', 'Cards')\n",
      "('Income', 'Age')\n",
      "('Income', 'Education')\n",
      "('Limit', 'Rating')\n",
      "('Limit', 'Cards')\n",
      "('Limit', 'Age')\n",
      "('Limit', 'Education')\n",
      "('Rating', 'Cards')\n",
      "('Rating', 'Age')\n",
      "('Rating', 'Education')\n",
      "('Cards', 'Age')\n",
      "('Cards', 'Education')\n",
      "('Age', 'Education')\n"
     ]
    }
   ],
   "source": [
    "for combo in itertools.combinations(X.columns[1:], 2):\n",
    "    print(combo)"
   ]
  },
  {
   "cell_type": "code",
   "execution_count": 4,
   "metadata": {
    "slideshow": {
     "slide_type": "slide"
    }
   },
   "outputs": [],
   "source": [
    "# Best subset selection을 위한 코드 \n",
    "# Source: http://www.science.smith.edu/~jcrouser/SDS293/labs/lab8-py.html\n",
    "# Modified by Yeojin Chung\n",
    "\n",
    "import itertools\n",
    "import time\n",
    "import statsmodels.api as sm\n",
    "\n",
    "def processSubset(feature_set):\n",
    "    # Fit model on feature_set and calculate RSS\n",
    "    X_model = X[list(('Intercept',)+feature_set)]\n",
    "    model = sm.OLS(y, X_model)\n",
    "    regr = model.fit()\n",
    "    RSS = (regr.resid ** 2).sum()\n",
    "    return {\"model\":regr, \"RSS\":RSS, \"AIC\": regr.aic, \n",
    "            \"BIC\": regr.bic, \"adj_r2\": regr.rsquared_adj,\n",
    "           \"r2\":regr.rsquared }\n",
    "\n",
    "def getBest(k, best = \"AIC\"):\n",
    "    \n",
    "    tic = time.time()   \n",
    "    results = []\n",
    "    \n",
    "    for combo in itertools.combinations(X.columns[1:], k):\n",
    "        results.append(processSubset(combo))\n",
    "    \n",
    "    # Wrap everything up in a nice dataframe\n",
    "    models = pd.DataFrame(results)\n",
    "    \n",
    "    # Choose the model with the highest RSS\n",
    "    if best==\"adj_r2\" or best==\"r2\":\n",
    "        best_model = models.loc[models[best].argmax()]\n",
    "    else: \n",
    "        best_model = models.loc[models[best].argmin()]\n",
    "    \n",
    "    toc = time.time()\n",
    "    print(\"Processed\", models.shape[0], \"models on\", k, \"predictors in\", (toc-tic), \"seconds.\")\n",
    "    \n",
    "    # Return the best model, along with some other useful information about the model\n",
    "    return best_model"
   ]
  },
  {
   "cell_type": "code",
   "execution_count": 5,
   "metadata": {
    "slideshow": {
     "slide_type": "slide"
    }
   },
   "outputs": [
    {
     "name": "stdout",
     "output_type": "stream",
     "text": [
      "Processed 11 models on 1 predictors in 0.06948375701904297 seconds.\n",
      "Processed 55 models on 2 predictors in 0.05753374099731445 seconds.\n",
      "Processed 165 models on 3 predictors in 0.18193411827087402 seconds.\n",
      "Processed 330 models on 4 predictors in 0.35698461532592773 seconds.\n",
      "Processed 462 models on 5 predictors in 0.49723148345947266 seconds.\n",
      "Processed 462 models on 6 predictors in 0.556647539138794 seconds.\n",
      "Processed 330 models on 7 predictors in 0.36905336380004883 seconds.\n",
      "Processed 165 models on 8 predictors in 0.17499852180480957 seconds.\n",
      "Processed 55 models on 9 predictors in 0.05946779251098633 seconds.\n",
      "Processed 11 models on 10 predictors in 0.01605844497680664 seconds.\n",
      "Processed 1 models on 11 predictors in 0.002003192901611328 seconds.\n"
     ]
    }
   ],
   "source": [
    "models_best = pd.DataFrame(columns=[\"model\", \"RSS\",\"AIC\",\"BIC\",\"adj_r2\", \"r2\"])\n",
    "\n",
    "for i in range(1,X.shape[1]): \n",
    "    models_best.loc[i] = getBest(i, best = \"AIC\")\n"
   ]
  },
  {
   "cell_type": "code",
   "execution_count": 6,
   "metadata": {
    "slideshow": {
     "slide_type": "slide"
    }
   },
   "outputs": [
    {
     "data": {
      "image/png": "[encoded data removed]",
      "text/plain": [
       "<Figure size 640x480 with 1 Axes>"
      ]
     },
     "metadata": {},
     "output_type": "display_data"
    }
   ],
   "source": [
    "plt.plot(models_best['AIC'])\n",
    "plt.show()"
   ]
  },
  {
   "cell_type": "code",
   "execution_count": 14,
   "metadata": {
    "slideshow": {
     "slide_type": "fragment"
    }
   },
   "outputs": [
    {
     "ename": "TypeError",
     "evalue": "reduction operation 'argmax' not allowed for this dtype",
     "output_type": "error",
     "traceback": [
      "\u001b[1;31m---------------------------------------------------------------------------\u001b[0m",
      "\u001b[1;31mTypeError\u001b[0m                                 Traceback (most recent call last)",
      "Cell \u001b[1;32mIn[14], line 1\u001b[0m\n\u001b[1;32m----> 1\u001b[0m model_final \u001b[38;5;241m=\u001b[39m models_best\u001b[38;5;241m.\u001b[39miloc[\u001b[43mmodels_best\u001b[49m\u001b[43m[\u001b[49m\u001b[38;5;124;43m'\u001b[39;49m\u001b[38;5;124;43madj_r2\u001b[39;49m\u001b[38;5;124;43m'\u001b[39;49m\u001b[43m]\u001b[49m\u001b[38;5;241;43m.\u001b[39;49m\u001b[43margmax\u001b[49m\u001b[43m(\u001b[49m\u001b[43m)\u001b[49m,\u001b[38;5;241m0\u001b[39m]\n",
      "File \u001b[1;32m~\\anaconda3\\lib\\site-packages\\pandas\\core\\base.py:678\u001b[0m, in \u001b[0;36mIndexOpsMixin.argmax\u001b[1;34m(self, axis, skipna, *args, **kwargs)\u001b[0m\n\u001b[0;32m    674\u001b[0m         \u001b[38;5;28;01mreturn\u001b[39;00m delegate\u001b[38;5;241m.\u001b[39margmax()\n\u001b[0;32m    675\u001b[0m \u001b[38;5;28;01melse\u001b[39;00m:\n\u001b[0;32m    676\u001b[0m     \u001b[38;5;66;03m# error: Incompatible return value type (got \"Union[int, ndarray]\", expected\u001b[39;00m\n\u001b[0;32m    677\u001b[0m     \u001b[38;5;66;03m# \"int\")\u001b[39;00m\n\u001b[1;32m--> 678\u001b[0m     \u001b[38;5;28;01mreturn\u001b[39;00m \u001b[43mnanops\u001b[49m\u001b[38;5;241;43m.\u001b[39;49m\u001b[43mnanargmax\u001b[49m\u001b[43m(\u001b[49m\u001b[43m  \u001b[49m\u001b[38;5;66;43;03m# type: ignore[return-value]\u001b[39;49;00m\n\u001b[0;32m    679\u001b[0m \u001b[43m        \u001b[49m\u001b[43mdelegate\u001b[49m\u001b[43m,\u001b[49m\u001b[43m \u001b[49m\u001b[43mskipna\u001b[49m\u001b[38;5;241;43m=\u001b[39;49m\u001b[43mskipna\u001b[49m\n\u001b[0;32m    680\u001b[0m \u001b[43m    \u001b[49m\u001b[43m)\u001b[49m\n",
      "File \u001b[1;32m~\\anaconda3\\lib\\site-packages\\pandas\\core\\nanops.py:91\u001b[0m, in \u001b[0;36mdisallow.__call__.<locals>._f\u001b[1;34m(*args, **kwargs)\u001b[0m\n\u001b[0;32m     89\u001b[0m \u001b[38;5;28;01mif\u001b[39;00m \u001b[38;5;28many\u001b[39m(\u001b[38;5;28mself\u001b[39m\u001b[38;5;241m.\u001b[39mcheck(obj) \u001b[38;5;28;01mfor\u001b[39;00m obj \u001b[38;5;129;01min\u001b[39;00m obj_iter):\n\u001b[0;32m     90\u001b[0m     f_name \u001b[38;5;241m=\u001b[39m f\u001b[38;5;241m.\u001b[39m\u001b[38;5;18m__name__\u001b[39m\u001b[38;5;241m.\u001b[39mreplace(\u001b[38;5;124m\"\u001b[39m\u001b[38;5;124mnan\u001b[39m\u001b[38;5;124m\"\u001b[39m, \u001b[38;5;124m\"\u001b[39m\u001b[38;5;124m\"\u001b[39m)\n\u001b[1;32m---> 91\u001b[0m     \u001b[38;5;28;01mraise\u001b[39;00m \u001b[38;5;167;01mTypeError\u001b[39;00m(\n\u001b[0;32m     92\u001b[0m         \u001b[38;5;124mf\u001b[39m\u001b[38;5;124m\"\u001b[39m\u001b[38;5;124mreduction operation \u001b[39m\u001b[38;5;124m'\u001b[39m\u001b[38;5;132;01m{\u001b[39;00mf_name\u001b[38;5;132;01m}\u001b[39;00m\u001b[38;5;124m'\u001b[39m\u001b[38;5;124m not allowed for this dtype\u001b[39m\u001b[38;5;124m\"\u001b[39m\n\u001b[0;32m     93\u001b[0m     )\n\u001b[0;32m     94\u001b[0m \u001b[38;5;28;01mtry\u001b[39;00m:\n\u001b[0;32m     95\u001b[0m     \u001b[38;5;28;01mwith\u001b[39;00m np\u001b[38;5;241m.\u001b[39merrstate(invalid\u001b[38;5;241m=\u001b[39m\u001b[38;5;124m\"\u001b[39m\u001b[38;5;124mignore\u001b[39m\u001b[38;5;124m\"\u001b[39m):\n",
      "\u001b[1;31mTypeError\u001b[0m: reduction operation 'argmax' not allowed for this dtype"
     ]
    }
   ],
   "source": [
    "model_final = models_best.iloc[models_best['adj_r2'].argmax(),0]"
   ]
  },
  {
   "cell_type": "code",
   "execution_count": null,
   "metadata": {
    "slideshow": {
     "slide_type": "slide"
    }
   },
   "outputs": [],
   "source": [
    "model_final.summary()"
   ]
  },
  {
   "cell_type": "markdown",
   "metadata": {
    "slideshow": {
     "slide_type": "slide"
    }
   },
   "source": [
    "## 4.3  Shrinkage method\n",
    "### Ridge Regression\n",
    "\n",
    "$$RSS + \\lambda \\sum_{j=1}^p \\beta_j^2 $$\n",
    "\n",
    "- $\\lambda \\geq 0$: tuning parameter \n",
    "    - 여러 $\\lambda$을 시도해 보고 좋은 값을 선택 \n",
    "- RSS+ L2 penalty의 형태 \n",
    "- $\\beta_j$의 추정치를 0과 가깝게 수축하는 효과 "
   ]
  },
  {
   "cell_type": "code",
   "execution_count": 9,
   "metadata": {
    "slideshow": {
     "slide_type": "slide"
    }
   },
   "outputs": [
    {
     "data": {
      "text/html": [
       "<style>#sk-container-id-1 {color: black;}#sk-container-id-1 pre{padding: 0;}#sk-container-id-1 div.sk-toggleable {background-color: white;}#sk-container-id-1 label.sk-toggleable__label {cursor: pointer;display: block;width: 100%;margin-bottom: 0;padding: 0.3em;box-sizing: border-box;text-align: center;}#sk-container-id-1 label.sk-toggleable__label-arrow:before {content: \"▸\";float: left;margin-right: 0.25em;color: #696969;}#sk-container-id-1 label.sk-toggleable__label-arrow:hover:before {color: black;}#sk-container-id-1 div.sk-estimator:hover label.sk-toggleable__label-arrow:before {color: black;}#sk-container-id-1 div.sk-toggleable__content {max-height: 0;max-width: 0;overflow: hidden;text-align: left;background-color: #f0f8ff;}#sk-container-id-1 div.sk-toggleable__content pre {margin: 0.2em;color: black;border-radius: 0.25em;background-color: #f0f8ff;}#sk-container-id-1 input.sk-toggleable__control:checked~div.sk-toggleable__content {max-height: 200px;max-width: 100%;overflow: auto;}#sk-container-id-1 input.sk-toggleable__control:checked~label.sk-toggleable__label-arrow:before {content: \"▾\";}#sk-container-id-1 div.sk-estimator input.sk-toggleable__control:checked~label.sk-toggleable__label {background-color: #d4ebff;}#sk-container-id-1 div.sk-label input.sk-toggleable__control:checked~label.sk-toggleable__label {background-color: #d4ebff;}#sk-container-id-1 input.sk-hidden--visually {border: 0;clip: rect(1px 1px 1px 1px);clip: rect(1px, 1px, 1px, 1px);height: 1px;margin: -1px;overflow: hidden;padding: 0;position: absolute;width: 1px;}#sk-container-id-1 div.sk-estimator {font-family: monospace;background-color: #f0f8ff;border: 1px dotted black;border-radius: 0.25em;box-sizing: border-box;margin-bottom: 0.5em;}#sk-container-id-1 div.sk-estimator:hover {background-color: #d4ebff;}#sk-container-id-1 div.sk-parallel-item::after {content: \"\";width: 100%;border-bottom: 1px solid gray;flex-grow: 1;}#sk-container-id-1 div.sk-label:hover label.sk-toggleable__label {background-color: #d4ebff;}#sk-container-id-1 div.sk-serial::before {content: \"\";position: absolute;border-left: 1px solid gray;box-sizing: border-box;top: 0;bottom: 0;left: 50%;z-index: 0;}#sk-container-id-1 div.sk-serial {display: flex;flex-direction: column;align-items: center;background-color: white;padding-right: 0.2em;padding-left: 0.2em;position: relative;}#sk-container-id-1 div.sk-item {position: relative;z-index: 1;}#sk-container-id-1 div.sk-parallel {display: flex;align-items: stretch;justify-content: center;background-color: white;position: relative;}#sk-container-id-1 div.sk-item::before, #sk-container-id-1 div.sk-parallel-item::before {content: \"\";position: absolute;border-left: 1px solid gray;box-sizing: border-box;top: 0;bottom: 0;left: 50%;z-index: -1;}#sk-container-id-1 div.sk-parallel-item {display: flex;flex-direction: column;z-index: 1;position: relative;background-color: white;}#sk-container-id-1 div.sk-parallel-item:first-child::after {align-self: flex-end;width: 50%;}#sk-container-id-1 div.sk-parallel-item:last-child::after {align-self: flex-start;width: 50%;}#sk-container-id-1 div.sk-parallel-item:only-child::after {width: 0;}#sk-container-id-1 div.sk-dashed-wrapped {border: 1px dashed gray;margin: 0 0.4em 0.5em 0.4em;box-sizing: border-box;padding-bottom: 0.4em;background-color: white;}#sk-container-id-1 div.sk-label label {font-family: monospace;font-weight: bold;display: inline-block;line-height: 1.2em;}#sk-container-id-1 div.sk-label-container {text-align: center;}#sk-container-id-1 div.sk-container {/* jupyter's `normalize.less` sets `[hidden] { display: none; }` but bootstrap.min.css set `[hidden] { display: none !important; }` so we also need the `!important` here to be able to override the default hidden behavior on the sphinx rendered scikit-learn.org. See: https://github.com/scikit-learn/scikit-learn/issues/21755 */display: inline-block !important;position: relative;}#sk-container-id-1 div.sk-text-repr-fallback {display: none;}</style><div id=\"sk-container-id-1\" class=\"sk-top-container\"><div class=\"sk-text-repr-fallback\"><pre>Ridge()</pre><b>In a Jupyter environment, please rerun this cell to show the HTML representation or trust the notebook. <br />On GitHub, the HTML representation is unable to render, please try loading this page with nbviewer.org.</b></div><div class=\"sk-container\" hidden><div class=\"sk-item\"><div class=\"sk-estimator sk-toggleable\"><input class=\"sk-toggleable__control sk-hidden--visually\" id=\"sk-estimator-id-1\" type=\"checkbox\" checked><label for=\"sk-estimator-id-1\" class=\"sk-toggleable__label sk-toggleable__label-arrow\">Ridge</label><div class=\"sk-toggleable__content\"><pre>Ridge()</pre></div></div></div></div></div>"
      ],
      "text/plain": [
       "Ridge()"
      ]
     },
     "execution_count": 9,
     "metadata": {},
     "output_type": "execute_result"
    }
   ],
   "source": [
    "from sklearn.linear_model import Ridge\n",
    "ridge_reg = Ridge()\n",
    "ridge_reg.fit(X, y)"
   ]
  },
  {
   "cell_type": "code",
   "execution_count": 10,
   "metadata": {
    "slideshow": {
     "slide_type": "fragment"
    }
   },
   "outputs": [],
   "source": [
    "y_pred = ridge_reg.predict(X)"
   ]
  },
  {
   "cell_type": "code",
   "execution_count": 11,
   "metadata": {
    "slideshow": {
     "slide_type": "fragment"
    }
   },
   "outputs": [
    {
     "data": {
      "text/plain": [
       "array([[ 0.00000000e+00, -1.01531108e+01,  4.13899860e+02,\n",
       "        -9.12155389e+00,  1.67728726e+01,  9.66826039e+00,\n",
       "        -7.79613765e+00,  1.88633083e-01,  1.16935286e+00,\n",
       "         1.74952276e+01, -6.22845855e-01, -1.00749787e+00]])"
      ]
     },
     "execution_count": 11,
     "metadata": {},
     "output_type": "execute_result"
    }
   ],
   "source": [
    "ridge_reg.coef_"
   ]
  },
  {
   "cell_type": "markdown",
   "metadata": {
    "slideshow": {
     "slide_type": "slide"
    }
   },
   "source": [
    "### Lasso Regression\n",
    "- Ridge regression은 $\\beta_j$값이 0을 향해 수축하지만 정확하게 0을 만들지는 않음 \n",
    "\n",
    "$$RSS + \\lambda \\sum_{j=1}^p |\\beta_j| $$\n",
    "\n",
    "- L1 penalty를 사용 \n",
    "- $\\lambda$가 충분히 클 경우 계수 추정치의 일부가 정확히 0이 되게 함 \n",
    "- 변수선택의 효과 \n"
   ]
  },
  {
   "cell_type": "markdown",
   "metadata": {
    "slideshow": {
     "slide_type": "slide"
    }
   },
   "source": [
    "<img src='http://drive.google.com/uc?export=view&id=1TVY99Zg9H6bRacibI_RJxuZZqPX3SO35' /><br>\n"
   ]
  },
  {
   "cell_type": "markdown",
   "metadata": {
    "slideshow": {
     "slide_type": "fragment"
    }
   },
   "source": [
    "- Ridge는 $\\beta_j$를 전체적으로 축소시키는 효과\n",
    "- Lasso는 덜 중요한 변수에 대해 $\\beta_j=0$으로 만드는 효과\n",
    "    - 자동적인 feature selection 과정 \n"
   ]
  },
  {
   "cell_type": "code",
   "execution_count": 12,
   "metadata": {
    "collapse": false,
    "lines_to_next_cell": 2,
    "scrolled": true,
    "slideshow": {
     "slide_type": "slide"
    }
   },
   "outputs": [
    {
     "name": "stderr",
     "output_type": "stream",
     "text": [
      "C:\\Users\\SAMSUNG\\anaconda3\\lib\\site-packages\\sklearn\\linear_model\\_coordinate_descent.py:628: ConvergenceWarning: Objective did not converge. You might want to increase the number of iterations, check the scale of the features or consider increasing regularisation. Duality gap: 1.894e+06, tolerance: 8.434e+03\n",
      "  model = cd_fast.enet_coordinate_descent(\n"
     ]
    }
   ],
   "source": [
    "from sklearn.linear_model import Lasso\n",
    "lasso_reg = Lasso(alpha=0.01)\n",
    "lasso_reg.fit(X, y)\n",
    "\n",
    "y_pred = lasso_reg.predict(X)"
   ]
  },
  {
   "cell_type": "code",
   "execution_count": 13,
   "metadata": {
    "slideshow": {
     "slide_type": "fragment"
    }
   },
   "outputs": [
    {
     "data": {
      "text/plain": [
       "array([ 0.00000000e+00, -1.06082218e+01,  4.25689009e+02, -8.45041224e+00,\n",
       "        1.66497454e+01,  9.99657462e+00, -7.80320873e+00,  1.91959216e-01,\n",
       "        1.12083024e+00,  1.77952880e+01, -6.13858939e-01, -1.10161563e+00])"
      ]
     },
     "execution_count": 13,
     "metadata": {},
     "output_type": "execute_result"
    }
   ],
   "source": [
    "lasso_reg.coef_"
   ]
  }
 ],
 "metadata": {
  "jupytext": {
   "cell_metadata_filter": "tags,collapse,name,-all",
   "main_language": "R",
   "notebook_metadata_filter": "-all"
  },
  "kernelspec": {
   "display_name": "Python 3 (ipykernel)",
   "language": "python",
   "name": "python3"
  },
  "language_info": {
   "codemirror_mode": {
    "name": "ipython",
    "version": 3
   },
   "file_extension": ".py",
   "mimetype": "text/x-python",
   "name": "python",
   "nbconvert_exporter": "python",
   "pygments_lexer": "ipython3",
   "version": "3.9.12"
  },
  "varInspector": {
   "cols": {
    "lenName": 16,
    "lenType": 16,
    "lenVar": 40
   },
   "kernels_config": {
    "python": {
     "delete_cmd_postfix": "",
     "delete_cmd_prefix": "del ",
     "library": "var_list.py",
     "varRefreshCmd": "print(var_dic_list())"
    },
    "r": {
     "delete_cmd_postfix": ") ",
     "delete_cmd_prefix": "rm(",
     "library": "var_list.r",
     "varRefreshCmd": "cat(var_dic_list()) "
    }
   },
   "types_to_exclude": [
    "module",
    "function",
    "builtin_function_or_method",
    "instance",
    "_Feature"
   ],
   "window_display": false
  }
 },
 "nbformat": 4,
 "nbformat_minor": 4
}
