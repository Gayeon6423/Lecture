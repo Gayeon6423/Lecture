{
 "cells": [
  {
   "cell_type": "code",
   "execution_count": 1,
   "metadata": {},
   "outputs": [],
   "source": [
    "import pandas as pd\n",
    "import numpy as np\n",
    "import matplotlib.pylab as plt\n",
    "import scipy.stats as stats\n",
    "import statsmodels.api as sm\n",
    "import statsmodels.formula.api as smf\n",
    "import seaborn as sns\n",
    "from statsmodels.stats.outliers_influence import OLSInfluence\n",
    "\n",
    "data_path = \"./data/\"\n",
    "house = pd.read_csv(data_path + \"houseprice.csv\")"
   ]
  },
  {
   "cell_type": "code",
   "execution_count": 2,
   "metadata": {},
   "outputs": [
    {
     "data": {
      "text/html": [
       "<div>\n",
       "<style scoped>\n",
       "    .dataframe tbody tr th:only-of-type {\n",
       "        vertical-align: middle;\n",
       "    }\n",
       "\n",
       "    .dataframe tbody tr th {\n",
       "        vertical-align: top;\n",
       "    }\n",
       "\n",
       "    .dataframe thead th {\n",
       "        text-align: right;\n",
       "    }\n",
       "</style>\n",
       "<table border=\"1\" class=\"dataframe\">\n",
       "  <thead>\n",
       "    <tr style=\"text-align: right;\">\n",
       "      <th></th>\n",
       "      <th>price</th>\n",
       "      <th>tax</th>\n",
       "      <th>ground</th>\n",
       "      <th>floor</th>\n",
       "      <th>year</th>\n",
       "    </tr>\n",
       "  </thead>\n",
       "  <tbody>\n",
       "    <tr>\n",
       "      <th>0</th>\n",
       "      <td>12.95</td>\n",
       "      <td>98.352</td>\n",
       "      <td>34.72</td>\n",
       "      <td>19.96</td>\n",
       "      <td>4.2</td>\n",
       "    </tr>\n",
       "    <tr>\n",
       "      <th>1</th>\n",
       "      <td>14.75</td>\n",
       "      <td>100.416</td>\n",
       "      <td>35.31</td>\n",
       "      <td>30.00</td>\n",
       "      <td>6.2</td>\n",
       "    </tr>\n",
       "    <tr>\n",
       "      <th>2</th>\n",
       "      <td>13.95</td>\n",
       "      <td>90.858</td>\n",
       "      <td>22.75</td>\n",
       "      <td>23.50</td>\n",
       "      <td>4.0</td>\n",
       "    </tr>\n",
       "    <tr>\n",
       "      <th>3</th>\n",
       "      <td>12.95</td>\n",
       "      <td>91.146</td>\n",
       "      <td>40.50</td>\n",
       "      <td>24.64</td>\n",
       "      <td>5.4</td>\n",
       "    </tr>\n",
       "    <tr>\n",
       "      <th>4</th>\n",
       "      <td>14.95</td>\n",
       "      <td>101.194</td>\n",
       "      <td>44.55</td>\n",
       "      <td>22.42</td>\n",
       "      <td>4.2</td>\n",
       "    </tr>\n",
       "  </tbody>\n",
       "</table>\n",
       "</div>"
      ],
      "text/plain": [
       "   price      tax  ground  floor  year\n",
       "0  12.95   98.352   34.72  19.96   4.2\n",
       "1  14.75  100.416   35.31  30.00   6.2\n",
       "2  13.95   90.858   22.75  23.50   4.0\n",
       "3  12.95   91.146   40.50  24.64   5.4\n",
       "4  14.95  101.194   44.55  22.42   4.2"
      ]
     },
     "execution_count": 2,
     "metadata": {},
     "output_type": "execute_result"
    }
   ],
   "source": [
    "house.head(5)"
   ]
  },
  {
   "cell_type": "markdown",
   "metadata": {},
   "source": [
    "\n",
    "#### houseprice.csv는 주택판매가격(price)과 이에 영향을 줄 것으로 판단되는 4가지 설명변수인 세금(tax; 만원), 대지평수(ground; 평), 건물평수(floor; 평), 주택연령(year; 년)을 27개 주택에 대해 조사한 것이다. \n",
    "\n",
    "#### 1. 5개 변수들에 대한 산점도 행렬을 작성하고 변수들 간의 관계를 설명하여라. "
   ]
  },
  {
   "cell_type": "code",
   "execution_count": 3,
   "metadata": {},
   "outputs": [
    {
     "data": {
      "text/html": [
       "<div>\n",
       "<style scoped>\n",
       "    .dataframe tbody tr th:only-of-type {\n",
       "        vertical-align: middle;\n",
       "    }\n",
       "\n",
       "    .dataframe tbody tr th {\n",
       "        vertical-align: top;\n",
       "    }\n",
       "\n",
       "    .dataframe thead th {\n",
       "        text-align: right;\n",
       "    }\n",
       "</style>\n",
       "<table border=\"1\" class=\"dataframe\">\n",
       "  <thead>\n",
       "    <tr style=\"text-align: right;\">\n",
       "      <th></th>\n",
       "      <th>price</th>\n",
       "      <th>tax</th>\n",
       "      <th>ground</th>\n",
       "      <th>floor</th>\n",
       "      <th>year</th>\n",
       "    </tr>\n",
       "  </thead>\n",
       "  <tbody>\n",
       "    <tr>\n",
       "      <th>price</th>\n",
       "      <td>1.000000</td>\n",
       "      <td>0.915249</td>\n",
       "      <td>0.726335</td>\n",
       "      <td>0.928827</td>\n",
       "      <td>-0.310290</td>\n",
       "    </tr>\n",
       "    <tr>\n",
       "      <th>tax</th>\n",
       "      <td>0.915249</td>\n",
       "      <td>1.000000</td>\n",
       "      <td>0.686850</td>\n",
       "      <td>0.832415</td>\n",
       "      <td>-0.371172</td>\n",
       "    </tr>\n",
       "    <tr>\n",
       "      <th>ground</th>\n",
       "      <td>0.726335</td>\n",
       "      <td>0.686850</td>\n",
       "      <td>1.000000</td>\n",
       "      <td>0.703269</td>\n",
       "      <td>-0.380275</td>\n",
       "    </tr>\n",
       "    <tr>\n",
       "      <th>floor</th>\n",
       "      <td>0.928827</td>\n",
       "      <td>0.832415</td>\n",
       "      <td>0.703269</td>\n",
       "      <td>1.000000</td>\n",
       "      <td>-0.178057</td>\n",
       "    </tr>\n",
       "    <tr>\n",
       "      <th>year</th>\n",
       "      <td>-0.310290</td>\n",
       "      <td>-0.371172</td>\n",
       "      <td>-0.380275</td>\n",
       "      <td>-0.178057</td>\n",
       "      <td>1.000000</td>\n",
       "    </tr>\n",
       "  </tbody>\n",
       "</table>\n",
       "</div>"
      ],
      "text/plain": [
       "           price       tax    ground     floor      year\n",
       "price   1.000000  0.915249  0.726335  0.928827 -0.310290\n",
       "tax     0.915249  1.000000  0.686850  0.832415 -0.371172\n",
       "ground  0.726335  0.686850  1.000000  0.703269 -0.380275\n",
       "floor   0.928827  0.832415  0.703269  1.000000 -0.178057\n",
       "year   -0.310290 -0.371172 -0.380275 -0.178057  1.000000"
      ]
     },
     "execution_count": 3,
     "metadata": {},
     "output_type": "execute_result"
    }
   ],
   "source": [
    "# 회귀분석 모델을 돌리기 전에 꼭 상관관계를 먼저 확인하기\n",
    "\n",
    "house.corr()"
   ]
  },
  {
   "cell_type": "code",
   "execution_count": 4,
   "metadata": {
    "scrolled": false
   },
   "outputs": [
    {
     "name": "stderr",
     "output_type": "stream",
     "text": [
      "C:\\Users\\SAMSUNG\\anaconda3\\lib\\site-packages\\seaborn\\axisgrid.py:118: UserWarning: The figure layout has changed to tight\n",
      "  self._figure.tight_layout(*args, **kwargs)\n"
     ]
    },
    {
     "data": {
      "text/plain": [
       "<seaborn.axisgrid.PairGrid at 0x27449e04b20>"
      ]
     },
     "execution_count": 4,
     "metadata": {},
     "output_type": "execute_result"
    },
    {
     "data": {
      "image/png": "[encoded data removed]",
      "text/plain": [
       "<Figure size 1250x1250 with 30 Axes>"
      ]
     },
     "metadata": {},
     "output_type": "display_data"
    }
   ],
   "source": [
    "sns.pairplot(house)"
   ]
  },
  {
   "cell_type": "markdown",
   "metadata": {},
   "source": [
    "\n",
    "#### 2. 주택 판매가격을 종속변수로, 나머지 4개 변수를 설명변수로 하는 선형회귀모형을 적합하여라. "
   ]
  },
  {
   "cell_type": "code",
   "execution_count": 5,
   "metadata": {},
   "outputs": [
    {
     "data": {
      "text/html": [
       "<table class=\"simpletable\">\n",
       "<caption>OLS Regression Results</caption>\n",
       "<tr>\n",
       "  <th>Dep. Variable:</th>          <td>price</td>      <th>  R-squared:         </th> <td>   0.931</td>\n",
       "</tr>\n",
       "<tr>\n",
       "  <th>Model:</th>                   <td>OLS</td>       <th>  Adj. R-squared:    </th> <td>   0.919</td>\n",
       "</tr>\n",
       "<tr>\n",
       "  <th>Method:</th>             <td>Least Squares</td>  <th>  F-statistic:       </th> <td>   74.53</td>\n",
       "</tr>\n",
       "<tr>\n",
       "  <th>Date:</th>             <td>Fri, 15 Sep 2023</td> <th>  Prob (F-statistic):</th> <td>1.82e-12</td>\n",
       "</tr>\n",
       "<tr>\n",
       "  <th>Time:</th>                 <td>17:11:25</td>     <th>  Log-Likelihood:    </th> <td> -54.781</td>\n",
       "</tr>\n",
       "<tr>\n",
       "  <th>No. Observations:</th>      <td>    27</td>      <th>  AIC:               </th> <td>   119.6</td>\n",
       "</tr>\n",
       "<tr>\n",
       "  <th>Df Residuals:</th>          <td>    22</td>      <th>  BIC:               </th> <td>   126.0</td>\n",
       "</tr>\n",
       "<tr>\n",
       "  <th>Df Model:</th>              <td>     4</td>      <th>                     </th>     <td> </td>   \n",
       "</tr>\n",
       "<tr>\n",
       "  <th>Covariance Type:</th>      <td>nonrobust</td>    <th>                     </th>     <td> </td>   \n",
       "</tr>\n",
       "</table>\n",
       "<table class=\"simpletable\">\n",
       "<tr>\n",
       "      <td></td>         <th>coef</th>     <th>std err</th>      <th>t</th>      <th>P>|t|</th>  <th>[0.025</th>    <th>0.975]</th>  \n",
       "</tr>\n",
       "<tr>\n",
       "  <th>Intercept</th> <td>    1.2187</td> <td>    2.047</td> <td>    0.595</td> <td> 0.558</td> <td>   -3.026</td> <td>    5.463</td>\n",
       "</tr>\n",
       "<tr>\n",
       "  <th>tax</th>       <td>    0.0519</td> <td>    0.014</td> <td>    3.756</td> <td> 0.001</td> <td>    0.023</td> <td>    0.081</td>\n",
       "</tr>\n",
       "<tr>\n",
       "  <th>ground</th>    <td>    0.0116</td> <td>    0.025</td> <td>    0.458</td> <td> 0.652</td> <td>   -0.041</td> <td>    0.064</td>\n",
       "</tr>\n",
       "<tr>\n",
       "  <th>floor</th>     <td>    0.3494</td> <td>    0.073</td> <td>    4.807</td> <td> 0.000</td> <td>    0.199</td> <td>    0.500</td>\n",
       "</tr>\n",
       "<tr>\n",
       "  <th>year</th>      <td>   -0.2189</td> <td>    0.331</td> <td>   -0.660</td> <td> 0.516</td> <td>   -0.906</td> <td>    0.469</td>\n",
       "</tr>\n",
       "</table>\n",
       "<table class=\"simpletable\">\n",
       "<tr>\n",
       "  <th>Omnibus:</th>       <td> 0.837</td> <th>  Durbin-Watson:     </th> <td>   1.900</td>\n",
       "</tr>\n",
       "<tr>\n",
       "  <th>Prob(Omnibus):</th> <td> 0.658</td> <th>  Jarque-Bera (JB):  </th> <td>   0.737</td>\n",
       "</tr>\n",
       "<tr>\n",
       "  <th>Skew:</th>          <td> 0.014</td> <th>  Prob(JB):          </th> <td>   0.692</td>\n",
       "</tr>\n",
       "<tr>\n",
       "  <th>Kurtosis:</th>      <td> 2.191</td> <th>  Cond. No.          </th> <td>    903.</td>\n",
       "</tr>\n",
       "</table><br/><br/>Notes:<br/>[1] Standard Errors assume that the covariance matrix of the errors is correctly specified."
      ],
      "text/latex": [
       "\\begin{center}\n",
       "\\begin{tabular}{lclc}\n",
       "\\toprule\n",
       "\\textbf{Dep. Variable:}    &      price       & \\textbf{  R-squared:         } &     0.931   \\\\\n",
       "\\textbf{Model:}            &       OLS        & \\textbf{  Adj. R-squared:    } &     0.919   \\\\\n",
       "\\textbf{Method:}           &  Least Squares   & \\textbf{  F-statistic:       } &     74.53   \\\\\n",
       "\\textbf{Date:}             & Fri, 15 Sep 2023 & \\textbf{  Prob (F-statistic):} &  1.82e-12   \\\\\n",
       "\\textbf{Time:}             &     17:11:25     & \\textbf{  Log-Likelihood:    } &   -54.781   \\\\\n",
       "\\textbf{No. Observations:} &          27      & \\textbf{  AIC:               } &     119.6   \\\\\n",
       "\\textbf{Df Residuals:}     &          22      & \\textbf{  BIC:               } &     126.0   \\\\\n",
       "\\textbf{Df Model:}         &           4      & \\textbf{                     } &             \\\\\n",
       "\\textbf{Covariance Type:}  &    nonrobust     & \\textbf{                     } &             \\\\\n",
       "\\bottomrule\n",
       "\\end{tabular}\n",
       "\\begin{tabular}{lcccccc}\n",
       "                   & \\textbf{coef} & \\textbf{std err} & \\textbf{t} & \\textbf{P$> |$t$|$} & \\textbf{[0.025} & \\textbf{0.975]}  \\\\\n",
       "\\midrule\n",
       "\\textbf{Intercept} &       1.2187  &        2.047     &     0.595  &         0.558        &       -3.026    &        5.463     \\\\\n",
       "\\textbf{tax}       &       0.0519  &        0.014     &     3.756  &         0.001        &        0.023    &        0.081     \\\\\n",
       "\\textbf{ground}    &       0.0116  &        0.025     &     0.458  &         0.652        &       -0.041    &        0.064     \\\\\n",
       "\\textbf{floor}     &       0.3494  &        0.073     &     4.807  &         0.000        &        0.199    &        0.500     \\\\\n",
       "\\textbf{year}      &      -0.2189  &        0.331     &    -0.660  &         0.516        &       -0.906    &        0.469     \\\\\n",
       "\\bottomrule\n",
       "\\end{tabular}\n",
       "\\begin{tabular}{lclc}\n",
       "\\textbf{Omnibus:}       &  0.837 & \\textbf{  Durbin-Watson:     } &    1.900  \\\\\n",
       "\\textbf{Prob(Omnibus):} &  0.658 & \\textbf{  Jarque-Bera (JB):  } &    0.737  \\\\\n",
       "\\textbf{Skew:}          &  0.014 & \\textbf{  Prob(JB):          } &    0.692  \\\\\n",
       "\\textbf{Kurtosis:}      &  2.191 & \\textbf{  Cond. No.          } &     903.  \\\\\n",
       "\\bottomrule\n",
       "\\end{tabular}\n",
       "%\\caption{OLS Regression Results}\n",
       "\\end{center}\n",
       "\n",
       "Notes: \\newline\n",
       " [1] Standard Errors assume that the covariance matrix of the errors is correctly specified."
      ],
      "text/plain": [
       "<class 'statsmodels.iolib.summary.Summary'>\n",
       "\"\"\"\n",
       "                            OLS Regression Results                            \n",
       "==============================================================================\n",
       "Dep. Variable:                  price   R-squared:                       0.931\n",
       "Model:                            OLS   Adj. R-squared:                  0.919\n",
       "Method:                 Least Squares   F-statistic:                     74.53\n",
       "Date:                Fri, 15 Sep 2023   Prob (F-statistic):           1.82e-12\n",
       "Time:                        17:11:25   Log-Likelihood:                -54.781\n",
       "No. Observations:                  27   AIC:                             119.6\n",
       "Df Residuals:                      22   BIC:                             126.0\n",
       "Df Model:                           4                                         \n",
       "Covariance Type:            nonrobust                                         \n",
       "==============================================================================\n",
       "                 coef    std err          t      P>|t|      [0.025      0.975]\n",
       "------------------------------------------------------------------------------\n",
       "Intercept      1.2187      2.047      0.595      0.558      -3.026       5.463\n",
       "tax            0.0519      0.014      3.756      0.001       0.023       0.081\n",
       "ground         0.0116      0.025      0.458      0.652      -0.041       0.064\n",
       "floor          0.3494      0.073      4.807      0.000       0.199       0.500\n",
       "year          -0.2189      0.331     -0.660      0.516      -0.906       0.469\n",
       "==============================================================================\n",
       "Omnibus:                        0.837   Durbin-Watson:                   1.900\n",
       "Prob(Omnibus):                  0.658   Jarque-Bera (JB):                0.737\n",
       "Skew:                           0.014   Prob(JB):                        0.692\n",
       "Kurtosis:                       2.191   Cond. No.                         903.\n",
       "==============================================================================\n",
       "\n",
       "Notes:\n",
       "[1] Standard Errors assume that the covariance matrix of the errors is correctly specified.\n",
       "\"\"\""
      ]
     },
     "execution_count": 5,
     "metadata": {},
     "output_type": "execute_result"
    }
   ],
   "source": [
    "model1 = smf.ols('price~tax+  ground + floor + year', data = house).fit()\n",
    "model1.summary()"
   ]
  },
  {
   "cell_type": "markdown",
   "metadata": {},
   "source": [
    "#### 3. 회귀모형이 유의한가? "
   ]
  },
  {
   "cell_type": "code",
   "execution_count": 6,
   "metadata": {},
   "outputs": [],
   "source": [
    "# F-test\n",
    "# H0 : beta1 ==..beta4 = 0\n",
    "# 74.53 : 검정통계량\n",
    "# 1.82e-12 : p_value < 0.05 => H0를 기각, 통계적으로 유의하다"
   ]
  },
  {
   "cell_type": "markdown",
   "metadata": {},
   "source": [
    "#### 4. 주택 판매가격에 유의한 영향을 주는 변수들은 무엇인가?"
   ]
  },
  {
   "cell_type": "code",
   "execution_count": 7,
   "metadata": {},
   "outputs": [],
   "source": [
    "# H0 : beta1 = 0\n",
    "# 3.756 : 검정 통계량\n",
    "# 0.001 : p_value < 0.05 \n",
    "# ==> H0를 기각, tax는 price와 유의한 상관관계가 있다(다른 설명변수가 고정되어 있을 때)\n",
    "\n",
    "# beta2, beta4에 대한 귀무가설은 채택, ground와 year는 price와 유의한 상관관계가 없다(다른 설명변수가 고정되어 있을 때)\n",
    "# beta1, beta3에 대한 귀무가설은 기각\n"
   ]
  },
  {
   "cell_type": "markdown",
   "metadata": {},
   "source": [
    "#### 5.\t적합된 회귀식은 종속변수의 변동량의 몇 %를 설명하는가?"
   ]
  },
  {
   "cell_type": "code",
   "execution_count": 8,
   "metadata": {},
   "outputs": [],
   "source": [
    "# r-squared = 0.931\n",
    "# 93.1%를 설명"
   ]
  },
  {
   "cell_type": "code",
   "execution_count": 7,
   "metadata": {
    "collapsed": true
   },
   "outputs": [
    {
     "data": {
      "text/plain": [
       "0     0.164737\n",
       "1    -1.219487\n",
       "2     0.412151\n",
       "3    -0.900424\n",
       "4     1.043582\n",
       "5     3.493788\n",
       "6    -0.123694\n",
       "7    -3.489145\n",
       "8     1.093663\n",
       "9     3.065654\n",
       "10    2.069837\n",
       "11   -1.742842\n",
       "12    0.968897\n",
       "13    0.133710\n",
       "14    1.833845\n",
       "15   -2.467361\n",
       "16    2.056301\n",
       "17    0.876718\n",
       "18    0.457414\n",
       "19    2.766962\n",
       "20   -1.897083\n",
       "21   -0.877191\n",
       "22    0.039608\n",
       "23   -2.883350\n",
       "24   -2.598174\n",
       "25   -0.782791\n",
       "26   -1.495324\n",
       "dtype: float64"
      ]
     },
     "execution_count": 7,
     "metadata": {},
     "output_type": "execute_result"
    }
   ],
   "source": [
    "model1.resid"
   ]
  },
  {
   "cell_type": "code",
   "execution_count": 9,
   "metadata": {},
   "outputs": [
    {
     "data": {
      "image/png": "[encoded data removed]",
      "text/plain": [
       "<Figure size 640x480 with 1 Axes>"
      ]
     },
     "metadata": {},
     "output_type": "display_data"
    }
   ],
   "source": [
    "# 오차항의 자기상관\n",
    "## plot_acf : autocorrealation funcion 시각화\n",
    "## x축은 lag, y축은 자기상관\n",
    "## lag=0이면 자기상관은 1(자기자신의 상관관계라서), 범위 안에 들어와있으면 자기상관 = 0으로 간주한다.\n",
    "## 시점이 멀어질수록(과거로 갈수록)  correlation이 작아진다.\n",
    "\n",
    "sm.graphics.tsa.plot_acf(model1.resid)\n",
    "plt.show()"
   ]
  },
  {
   "cell_type": "markdown",
   "metadata": {},
   "source": [
    "#### 6.  Influential point가 있는가? 이 관측치들은 어떤 특징을 가지고 있는가? 이들을 제외하면 회귀분석 결과에 영향을 줄 것으로 예상되는가? "
   ]
  },
  {
   "cell_type": "code",
   "execution_count": null,
   "metadata": {},
   "outputs": [],
   "source": []
  },
  {
   "cell_type": "markdown",
   "metadata": {},
   "source": [
    "#### 7. 세금이 150만원, 대지평수가 50평, 건물평수가 30평, 주택연령이 3년인 주택의 평균판매가격에 대한 추정값과 90% 신뢰구간을 구하여라. "
   ]
  },
  {
   "cell_type": "code",
   "execution_count": null,
   "metadata": {},
   "outputs": [],
   "source": []
  },
  {
   "cell_type": "markdown",
   "metadata": {},
   "source": [
    "#### 8. 설명변수들을 표준화하였을 때, 회귀식을 적합한 결과는 어떻게 달라지는가?"
   ]
  },
  {
   "cell_type": "code",
   "execution_count": 18,
   "metadata": {
    "scrolled": true
   },
   "outputs": [
    {
     "data": {
      "text/html": [
       "<table class=\"simpletable\">\n",
       "<caption>OLS Regression Results</caption>\n",
       "<tr>\n",
       "  <th>Dep. Variable:</th>          <td>price</td>      <th>  R-squared:         </th> <td>   0.931</td>\n",
       "</tr>\n",
       "<tr>\n",
       "  <th>Model:</th>                   <td>OLS</td>       <th>  Adj. R-squared:    </th> <td>   0.919</td>\n",
       "</tr>\n",
       "<tr>\n",
       "  <th>Method:</th>             <td>Least Squares</td>  <th>  F-statistic:       </th> <td>   74.53</td>\n",
       "</tr>\n",
       "<tr>\n",
       "  <th>Date:</th>             <td>Wed, 13 Sep 2023</td> <th>  Prob (F-statistic):</th> <td>1.82e-12</td>\n",
       "</tr>\n",
       "<tr>\n",
       "  <th>Time:</th>                 <td>16:47:04</td>     <th>  Log-Likelihood:    </th> <td> -54.781</td>\n",
       "</tr>\n",
       "<tr>\n",
       "  <th>No. Observations:</th>      <td>    27</td>      <th>  AIC:               </th> <td>   119.6</td>\n",
       "</tr>\n",
       "<tr>\n",
       "  <th>Df Residuals:</th>          <td>    22</td>      <th>  BIC:               </th> <td>   126.0</td>\n",
       "</tr>\n",
       "<tr>\n",
       "  <th>Df Model:</th>              <td>     4</td>      <th>                     </th>     <td> </td>   \n",
       "</tr>\n",
       "<tr>\n",
       "  <th>Covariance Type:</th>      <td>nonrobust</td>    <th>                     </th>     <td> </td>   \n",
       "</tr>\n",
       "</table>\n",
       "<table class=\"simpletable\">\n",
       "<tr>\n",
       "      <td></td>         <th>coef</th>     <th>std err</th>      <th>t</th>      <th>P>|t|</th>  <th>[0.025</th>    <th>0.975]</th>  \n",
       "</tr>\n",
       "<tr>\n",
       "  <th>Intercept</th> <td>   19.2500</td> <td>    0.392</td> <td>   49.061</td> <td> 0.000</td> <td>   18.436</td> <td>   20.064</td>\n",
       "</tr>\n",
       "<tr>\n",
       "  <th>tax</th>       <td>    2.9384</td> <td>    0.782</td> <td>    3.756</td> <td> 0.001</td> <td>    1.316</td> <td>    4.561</td>\n",
       "</tr>\n",
       "<tr>\n",
       "  <th>ground</th>    <td>    0.2735</td> <td>    0.598</td> <td>    0.458</td> <td> 0.652</td> <td>   -0.966</td> <td>    1.513</td>\n",
       "</tr>\n",
       "<tr>\n",
       "  <th>floor</th>     <td>    3.8283</td> <td>    0.796</td> <td>    4.807</td> <td> 0.000</td> <td>    2.177</td> <td>    5.480</td>\n",
       "</tr>\n",
       "<tr>\n",
       "  <th>year</th>      <td>   -0.3019</td> <td>    0.457</td> <td>   -0.660</td> <td> 0.516</td> <td>   -1.250</td> <td>    0.646</td>\n",
       "</tr>\n",
       "</table>\n",
       "<table class=\"simpletable\">\n",
       "<tr>\n",
       "  <th>Omnibus:</th>       <td> 0.837</td> <th>  Durbin-Watson:     </th> <td>   1.900</td>\n",
       "</tr>\n",
       "<tr>\n",
       "  <th>Prob(Omnibus):</th> <td> 0.658</td> <th>  Jarque-Bera (JB):  </th> <td>   0.737</td>\n",
       "</tr>\n",
       "<tr>\n",
       "  <th>Skew:</th>          <td> 0.014</td> <th>  Prob(JB):          </th> <td>   0.692</td>\n",
       "</tr>\n",
       "<tr>\n",
       "  <th>Kurtosis:</th>      <td> 2.191</td> <th>  Cond. No.          </th> <td>    4.39</td>\n",
       "</tr>\n",
       "</table><br/><br/>Notes:<br/>[1] Standard Errors assume that the covariance matrix of the errors is correctly specified."
      ],
      "text/latex": [
       "\\begin{center}\n",
       "\\begin{tabular}{lclc}\n",
       "\\toprule\n",
       "\\textbf{Dep. Variable:}    &      price       & \\textbf{  R-squared:         } &     0.931   \\\\\n",
       "\\textbf{Model:}            &       OLS        & \\textbf{  Adj. R-squared:    } &     0.919   \\\\\n",
       "\\textbf{Method:}           &  Least Squares   & \\textbf{  F-statistic:       } &     74.53   \\\\\n",
       "\\textbf{Date:}             & Wed, 13 Sep 2023 & \\textbf{  Prob (F-statistic):} &  1.82e-12   \\\\\n",
       "\\textbf{Time:}             &     16:47:04     & \\textbf{  Log-Likelihood:    } &   -54.781   \\\\\n",
       "\\textbf{No. Observations:} &          27      & \\textbf{  AIC:               } &     119.6   \\\\\n",
       "\\textbf{Df Residuals:}     &          22      & \\textbf{  BIC:               } &     126.0   \\\\\n",
       "\\textbf{Df Model:}         &           4      & \\textbf{                     } &             \\\\\n",
       "\\textbf{Covariance Type:}  &    nonrobust     & \\textbf{                     } &             \\\\\n",
       "\\bottomrule\n",
       "\\end{tabular}\n",
       "\\begin{tabular}{lcccccc}\n",
       "                   & \\textbf{coef} & \\textbf{std err} & \\textbf{t} & \\textbf{P$> |$t$|$} & \\textbf{[0.025} & \\textbf{0.975]}  \\\\\n",
       "\\midrule\n",
       "\\textbf{Intercept} &      19.2500  &        0.392     &    49.061  &         0.000        &       18.436    &       20.064     \\\\\n",
       "\\textbf{tax}       &       2.9384  &        0.782     &     3.756  &         0.001        &        1.316    &        4.561     \\\\\n",
       "\\textbf{ground}    &       0.2735  &        0.598     &     0.458  &         0.652        &       -0.966    &        1.513     \\\\\n",
       "\\textbf{floor}     &       3.8283  &        0.796     &     4.807  &         0.000        &        2.177    &        5.480     \\\\\n",
       "\\textbf{year}      &      -0.3019  &        0.457     &    -0.660  &         0.516        &       -1.250    &        0.646     \\\\\n",
       "\\bottomrule\n",
       "\\end{tabular}\n",
       "\\begin{tabular}{lclc}\n",
       "\\textbf{Omnibus:}       &  0.837 & \\textbf{  Durbin-Watson:     } &    1.900  \\\\\n",
       "\\textbf{Prob(Omnibus):} &  0.658 & \\textbf{  Jarque-Bera (JB):  } &    0.737  \\\\\n",
       "\\textbf{Skew:}          &  0.014 & \\textbf{  Prob(JB):          } &    0.692  \\\\\n",
       "\\textbf{Kurtosis:}      &  2.191 & \\textbf{  Cond. No.          } &     4.39  \\\\\n",
       "\\bottomrule\n",
       "\\end{tabular}\n",
       "%\\caption{OLS Regression Results}\n",
       "\\end{center}\n",
       "\n",
       "Notes: \\newline\n",
       " [1] Standard Errors assume that the covariance matrix of the errors is correctly specified."
      ],
      "text/plain": [
       "<class 'statsmodels.iolib.summary.Summary'>\n",
       "\"\"\"\n",
       "                            OLS Regression Results                            \n",
       "==============================================================================\n",
       "Dep. Variable:                  price   R-squared:                       0.931\n",
       "Model:                            OLS   Adj. R-squared:                  0.919\n",
       "Method:                 Least Squares   F-statistic:                     74.53\n",
       "Date:                Wed, 13 Sep 2023   Prob (F-statistic):           1.82e-12\n",
       "Time:                        16:47:04   Log-Likelihood:                -54.781\n",
       "No. Observations:                  27   AIC:                             119.6\n",
       "Df Residuals:                      22   BIC:                             126.0\n",
       "Df Model:                           4                                         \n",
       "Covariance Type:            nonrobust                                         \n",
       "==============================================================================\n",
       "                 coef    std err          t      P>|t|      [0.025      0.975]\n",
       "------------------------------------------------------------------------------\n",
       "Intercept     19.2500      0.392     49.061      0.000      18.436      20.064\n",
       "tax            2.9384      0.782      3.756      0.001       1.316       4.561\n",
       "ground         0.2735      0.598      0.458      0.652      -0.966       1.513\n",
       "floor          3.8283      0.796      4.807      0.000       2.177       5.480\n",
       "year          -0.3019      0.457     -0.660      0.516      -1.250       0.646\n",
       "==============================================================================\n",
       "Omnibus:                        0.837   Durbin-Watson:                   1.900\n",
       "Prob(Omnibus):                  0.658   Jarque-Bera (JB):                0.737\n",
       "Skew:                           0.014   Prob(JB):                        0.692\n",
       "Kurtosis:                       2.191   Cond. No.                         4.39\n",
       "==============================================================================\n",
       "\n",
       "Notes:\n",
       "[1] Standard Errors assume that the covariance matrix of the errors is correctly specified.\n",
       "\"\"\""
      ]
     },
     "execution_count": 18,
     "metadata": {},
     "output_type": "execute_result"
    }
   ],
   "source": [
    "from sklearn.preprocessing import StandardScaler\n",
    "\n",
    "scaler = StandardScaler()\n",
    "house_s = scaler.fit_transform(house.iloc[:,1:])\n",
    "house_s = pd.DataFrame(house_s,columns = house.columns[1:])\n",
    "house_s['price'] = house['price']\n",
    "\n",
    "model2 = smf.ols('price~tax+  ground + floor + year', data = house_s).fit()\n",
    "model2.summary()"
   ]
  },
  {
   "cell_type": "code",
   "execution_count": 19,
   "metadata": {},
   "outputs": [
    {
     "data": {
      "text/html": [
       "<table class=\"simpletable\">\n",
       "<tr>\n",
       "      <td></td>         <th>coef</th>     <th>std err</th>      <th>t</th>      <th>P>|t|</th>  <th>[0.025</th>    <th>0.975]</th>  \n",
       "</tr>\n",
       "<tr>\n",
       "  <th>Intercept</th> <td>    1.2187</td> <td>    2.047</td> <td>    0.595</td> <td> 0.558</td> <td>   -3.026</td> <td>    5.463</td>\n",
       "</tr>\n",
       "<tr>\n",
       "  <th>tax</th>       <td>    0.0519</td> <td>    0.014</td> <td>    3.756</td> <td> 0.001</td> <td>    0.023</td> <td>    0.081</td>\n",
       "</tr>\n",
       "<tr>\n",
       "  <th>ground</th>    <td>    0.0116</td> <td>    0.025</td> <td>    0.458</td> <td> 0.652</td> <td>   -0.041</td> <td>    0.064</td>\n",
       "</tr>\n",
       "<tr>\n",
       "  <th>floor</th>     <td>    0.3494</td> <td>    0.073</td> <td>    4.807</td> <td> 0.000</td> <td>    0.199</td> <td>    0.500</td>\n",
       "</tr>\n",
       "<tr>\n",
       "  <th>year</th>      <td>   -0.2189</td> <td>    0.331</td> <td>   -0.660</td> <td> 0.516</td> <td>   -0.906</td> <td>    0.469</td>\n",
       "</tr>\n",
       "</table>"
      ],
      "text/latex": [
       "\\begin{center}\n",
       "\\begin{tabular}{lcccccc}\n",
       "\\toprule\n",
       "                   & \\textbf{coef} & \\textbf{std err} & \\textbf{t} & \\textbf{P$> |$t$|$} & \\textbf{[0.025} & \\textbf{0.975]}  \\\\\n",
       "\\midrule\n",
       "\\textbf{Intercept} &       1.2187  &        2.047     &     0.595  &         0.558        &       -3.026    &        5.463     \\\\\n",
       "\\textbf{tax}       &       0.0519  &        0.014     &     3.756  &         0.001        &        0.023    &        0.081     \\\\\n",
       "\\textbf{ground}    &       0.0116  &        0.025     &     0.458  &         0.652        &       -0.041    &        0.064     \\\\\n",
       "\\textbf{floor}     &       0.3494  &        0.073     &     4.807  &         0.000        &        0.199    &        0.500     \\\\\n",
       "\\textbf{year}      &      -0.2189  &        0.331     &    -0.660  &         0.516        &       -0.906    &        0.469     \\\\\n",
       "\\bottomrule\n",
       "\\end{tabular}\n",
       "\\end{center}"
      ],
      "text/plain": [
       "<class 'statsmodels.iolib.table.SimpleTable'>"
      ]
     },
     "execution_count": 19,
     "metadata": {},
     "output_type": "execute_result"
    }
   ],
   "source": [
    "# 표준화 전 모델 요약\n",
    "model1.summary().tables[1]"
   ]
  },
  {
   "cell_type": "code",
   "execution_count": 20,
   "metadata": {},
   "outputs": [
    {
     "data": {
      "text/html": [
       "<table class=\"simpletable\">\n",
       "<tr>\n",
       "      <td></td>         <th>coef</th>     <th>std err</th>      <th>t</th>      <th>P>|t|</th>  <th>[0.025</th>    <th>0.975]</th>  \n",
       "</tr>\n",
       "<tr>\n",
       "  <th>Intercept</th> <td>   19.2500</td> <td>    0.392</td> <td>   49.061</td> <td> 0.000</td> <td>   18.436</td> <td>   20.064</td>\n",
       "</tr>\n",
       "<tr>\n",
       "  <th>tax</th>       <td>    2.9384</td> <td>    0.782</td> <td>    3.756</td> <td> 0.001</td> <td>    1.316</td> <td>    4.561</td>\n",
       "</tr>\n",
       "<tr>\n",
       "  <th>ground</th>    <td>    0.2735</td> <td>    0.598</td> <td>    0.458</td> <td> 0.652</td> <td>   -0.966</td> <td>    1.513</td>\n",
       "</tr>\n",
       "<tr>\n",
       "  <th>floor</th>     <td>    3.8283</td> <td>    0.796</td> <td>    4.807</td> <td> 0.000</td> <td>    2.177</td> <td>    5.480</td>\n",
       "</tr>\n",
       "<tr>\n",
       "  <th>year</th>      <td>   -0.3019</td> <td>    0.457</td> <td>   -0.660</td> <td> 0.516</td> <td>   -1.250</td> <td>    0.646</td>\n",
       "</tr>\n",
       "</table>"
      ],
      "text/latex": [
       "\\begin{center}\n",
       "\\begin{tabular}{lcccccc}\n",
       "\\toprule\n",
       "                   & \\textbf{coef} & \\textbf{std err} & \\textbf{t} & \\textbf{P$> |$t$|$} & \\textbf{[0.025} & \\textbf{0.975]}  \\\\\n",
       "\\midrule\n",
       "\\textbf{Intercept} &      19.2500  &        0.392     &    49.061  &         0.000        &       18.436    &       20.064     \\\\\n",
       "\\textbf{tax}       &       2.9384  &        0.782     &     3.756  &         0.001        &        1.316    &        4.561     \\\\\n",
       "\\textbf{ground}    &       0.2735  &        0.598     &     0.458  &         0.652        &       -0.966    &        1.513     \\\\\n",
       "\\textbf{floor}     &       3.8283  &        0.796     &     4.807  &         0.000        &        2.177    &        5.480     \\\\\n",
       "\\textbf{year}      &      -0.3019  &        0.457     &    -0.660  &         0.516        &       -1.250    &        0.646     \\\\\n",
       "\\bottomrule\n",
       "\\end{tabular}\n",
       "\\end{center}"
      ],
      "text/plain": [
       "<class 'statsmodels.iolib.table.SimpleTable'>"
      ]
     },
     "execution_count": 20,
     "metadata": {},
     "output_type": "execute_result"
    }
   ],
   "source": [
    "# 표준화(평균0, 표준편차1) 후 모델 요약\n",
    "model2.summary().tables[1]\n",
    "\n",
    "# tax=2.9384 : tax가 1 표준편차 증가할 떄 price가 2.9384 증가\n",
    "# year=-0.2189 : year가 1 표준편차 증가했을 때 price가 -0.2189\n",
    "# 표준화 회귀계수라고도 부름\n",
    "# 표준화를 하더라도 p값과 t값은 동일함 => 유의성에 영향을 주지는 않는다."
   ]
  },
  {
   "cell_type": "code",
   "execution_count": 21,
   "metadata": {},
   "outputs": [
    {
     "data": {
      "text/html": [
       "<div>\n",
       "<style scoped>\n",
       "    .dataframe tbody tr th:only-of-type {\n",
       "        vertical-align: middle;\n",
       "    }\n",
       "\n",
       "    .dataframe tbody tr th {\n",
       "        vertical-align: top;\n",
       "    }\n",
       "\n",
       "    .dataframe thead th {\n",
       "        text-align: right;\n",
       "    }\n",
       "</style>\n",
       "<table border=\"1\" class=\"dataframe\">\n",
       "  <thead>\n",
       "    <tr style=\"text-align: right;\">\n",
       "      <th></th>\n",
       "      <th>price</th>\n",
       "      <th>tax</th>\n",
       "      <th>ground</th>\n",
       "      <th>floor</th>\n",
       "      <th>year</th>\n",
       "    </tr>\n",
       "  </thead>\n",
       "  <tbody>\n",
       "    <tr>\n",
       "      <th>count</th>\n",
       "      <td>27.000000</td>\n",
       "      <td>27.000000</td>\n",
       "      <td>27.000000</td>\n",
       "      <td>27.000000</td>\n",
       "      <td>27.000000</td>\n",
       "    </tr>\n",
       "    <tr>\n",
       "      <th>mean</th>\n",
       "      <td>19.250000</td>\n",
       "      <td>144.898815</td>\n",
       "      <td>63.475556</td>\n",
       "      <td>30.241481</td>\n",
       "      <td>3.648148</td>\n",
       "    </tr>\n",
       "    <tr>\n",
       "      <th>std</th>\n",
       "      <td>7.153751</td>\n",
       "      <td>57.640439</td>\n",
       "      <td>24.036766</td>\n",
       "      <td>11.165303</td>\n",
       "      <td>1.405311</td>\n",
       "    </tr>\n",
       "    <tr>\n",
       "      <th>min</th>\n",
       "      <td>12.950000</td>\n",
       "      <td>77.820000</td>\n",
       "      <td>22.750000</td>\n",
       "      <td>19.500000</td>\n",
       "      <td>0.300000</td>\n",
       "    </tr>\n",
       "    <tr>\n",
       "      <th>25%</th>\n",
       "      <td>14.975000</td>\n",
       "      <td>103.600000</td>\n",
       "      <td>47.216500</td>\n",
       "      <td>23.750000</td>\n",
       "      <td>3.000000</td>\n",
       "    </tr>\n",
       "    <tr>\n",
       "      <th>50%</th>\n",
       "      <td>18.450000</td>\n",
       "      <td>121.862000</td>\n",
       "      <td>58.500000</td>\n",
       "      <td>29.760000</td>\n",
       "      <td>4.000000</td>\n",
       "    </tr>\n",
       "    <tr>\n",
       "      <th>75%</th>\n",
       "      <td>20.375000</td>\n",
       "      <td>166.071000</td>\n",
       "      <td>75.631000</td>\n",
       "      <td>33.160000</td>\n",
       "      <td>4.700000</td>\n",
       "    </tr>\n",
       "    <tr>\n",
       "      <th>max</th>\n",
       "      <td>42.450000</td>\n",
       "      <td>308.404000</td>\n",
       "      <td>128.000000</td>\n",
       "      <td>68.400000</td>\n",
       "      <td>6.200000</td>\n",
       "    </tr>\n",
       "  </tbody>\n",
       "</table>\n",
       "</div>"
      ],
      "text/plain": [
       "           price         tax      ground      floor       year\n",
       "count  27.000000   27.000000   27.000000  27.000000  27.000000\n",
       "mean   19.250000  144.898815   63.475556  30.241481   3.648148\n",
       "std     7.153751   57.640439   24.036766  11.165303   1.405311\n",
       "min    12.950000   77.820000   22.750000  19.500000   0.300000\n",
       "25%    14.975000  103.600000   47.216500  23.750000   3.000000\n",
       "50%    18.450000  121.862000   58.500000  29.760000   4.000000\n",
       "75%    20.375000  166.071000   75.631000  33.160000   4.700000\n",
       "max    42.450000  308.404000  128.000000  68.400000   6.200000"
      ]
     },
     "execution_count": 21,
     "metadata": {},
     "output_type": "execute_result"
    }
   ],
   "source": [
    "# 기존 평균 요약\n",
    "house.describe()\n",
    "# tax의 평균은 144로 큰 값, year의 평균은 3.6으로 작은 값\n",
    "# tax가 1증가했다는 것은 굉장히 미미하게 증가했다는 의미 => 그럼에도 불구하고 통계적으로 의미있음\n",
    "# year가 1증가했다는 것은 굉장히 크게 증가했다는 의미 => 변수 자체가 의미 없을 수도 있음"
   ]
  },
  {
   "cell_type": "code",
   "execution_count": 22,
   "metadata": {},
   "outputs": [
    {
     "data": {
      "text/html": [
       "<table class=\"simpletable\">\n",
       "<caption>OLS Regression Results</caption>\n",
       "<tr>\n",
       "  <th>Dep. Variable:</th>          <td>price</td>      <th>  R-squared:         </th> <td>   0.931</td>\n",
       "</tr>\n",
       "<tr>\n",
       "  <th>Model:</th>                   <td>OLS</td>       <th>  Adj. R-squared:    </th> <td>   0.919</td>\n",
       "</tr>\n",
       "<tr>\n",
       "  <th>Method:</th>             <td>Least Squares</td>  <th>  F-statistic:       </th> <td>   74.53</td>\n",
       "</tr>\n",
       "<tr>\n",
       "  <th>Date:</th>             <td>Wed, 13 Sep 2023</td> <th>  Prob (F-statistic):</th> <td>1.82e-12</td>\n",
       "</tr>\n",
       "<tr>\n",
       "  <th>Time:</th>                 <td>16:57:35</td>     <th>  Log-Likelihood:    </th> <td> -54.781</td>\n",
       "</tr>\n",
       "<tr>\n",
       "  <th>No. Observations:</th>      <td>    27</td>      <th>  AIC:               </th> <td>   119.6</td>\n",
       "</tr>\n",
       "<tr>\n",
       "  <th>Df Residuals:</th>          <td>    22</td>      <th>  BIC:               </th> <td>   126.0</td>\n",
       "</tr>\n",
       "<tr>\n",
       "  <th>Df Model:</th>              <td>     4</td>      <th>                     </th>     <td> </td>   \n",
       "</tr>\n",
       "<tr>\n",
       "  <th>Covariance Type:</th>      <td>nonrobust</td>    <th>                     </th>     <td> </td>   \n",
       "</tr>\n",
       "</table>"
      ],
      "text/latex": [
       "\\begin{center}\n",
       "\\begin{tabular}{lclc}\n",
       "\\toprule\n",
       "\\textbf{Dep. Variable:}    &      price       & \\textbf{  R-squared:         } &    0.931  \\\\\n",
       "\\textbf{Model:}            &       OLS        & \\textbf{  Adj. R-squared:    } &    0.919  \\\\\n",
       "\\textbf{Method:}           &  Least Squares   & \\textbf{  F-statistic:       } &    74.53  \\\\\n",
       "\\textbf{Date:}             & Wed, 13 Sep 2023 & \\textbf{  Prob (F-statistic):} & 1.82e-12  \\\\\n",
       "\\textbf{Time:}             &     16:57:35     & \\textbf{  Log-Likelihood:    } &  -54.781  \\\\\n",
       "\\textbf{No. Observations:} &          27      & \\textbf{  AIC:               } &    119.6  \\\\\n",
       "\\textbf{Df Residuals:}     &          22      & \\textbf{  BIC:               } &    126.0  \\\\\n",
       "\\textbf{Df Model:}         &           4      & \\textbf{                     } &           \\\\\n",
       "\\textbf{Covariance Type:}  &    nonrobust     & \\textbf{                     } &           \\\\\n",
       "\\bottomrule\n",
       "\\end{tabular}\n",
       "%\\caption{OLS Regression Results}\n",
       "\\end{center}"
      ],
      "text/plain": [
       "<class 'statsmodels.iolib.table.SimpleTable'>"
      ]
     },
     "execution_count": 22,
     "metadata": {},
     "output_type": "execute_result"
    }
   ],
   "source": [
    "model1.summary().tables[0]"
   ]
  },
  {
   "cell_type": "code",
   "execution_count": 23,
   "metadata": {},
   "outputs": [
    {
     "data": {
      "text/html": [
       "<table class=\"simpletable\">\n",
       "<caption>OLS Regression Results</caption>\n",
       "<tr>\n",
       "  <th>Dep. Variable:</th>          <td>price</td>      <th>  R-squared:         </th> <td>   0.931</td>\n",
       "</tr>\n",
       "<tr>\n",
       "  <th>Model:</th>                   <td>OLS</td>       <th>  Adj. R-squared:    </th> <td>   0.919</td>\n",
       "</tr>\n",
       "<tr>\n",
       "  <th>Method:</th>             <td>Least Squares</td>  <th>  F-statistic:       </th> <td>   74.53</td>\n",
       "</tr>\n",
       "<tr>\n",
       "  <th>Date:</th>             <td>Wed, 13 Sep 2023</td> <th>  Prob (F-statistic):</th> <td>1.82e-12</td>\n",
       "</tr>\n",
       "<tr>\n",
       "  <th>Time:</th>                 <td>16:57:40</td>     <th>  Log-Likelihood:    </th> <td> -54.781</td>\n",
       "</tr>\n",
       "<tr>\n",
       "  <th>No. Observations:</th>      <td>    27</td>      <th>  AIC:               </th> <td>   119.6</td>\n",
       "</tr>\n",
       "<tr>\n",
       "  <th>Df Residuals:</th>          <td>    22</td>      <th>  BIC:               </th> <td>   126.0</td>\n",
       "</tr>\n",
       "<tr>\n",
       "  <th>Df Model:</th>              <td>     4</td>      <th>                     </th>     <td> </td>   \n",
       "</tr>\n",
       "<tr>\n",
       "  <th>Covariance Type:</th>      <td>nonrobust</td>    <th>                     </th>     <td> </td>   \n",
       "</tr>\n",
       "</table>"
      ],
      "text/latex": [
       "\\begin{center}\n",
       "\\begin{tabular}{lclc}\n",
       "\\toprule\n",
       "\\textbf{Dep. Variable:}    &      price       & \\textbf{  R-squared:         } &    0.931  \\\\\n",
       "\\textbf{Model:}            &       OLS        & \\textbf{  Adj. R-squared:    } &    0.919  \\\\\n",
       "\\textbf{Method:}           &  Least Squares   & \\textbf{  F-statistic:       } &    74.53  \\\\\n",
       "\\textbf{Date:}             & Wed, 13 Sep 2023 & \\textbf{  Prob (F-statistic):} & 1.82e-12  \\\\\n",
       "\\textbf{Time:}             &     16:57:40     & \\textbf{  Log-Likelihood:    } &  -54.781  \\\\\n",
       "\\textbf{No. Observations:} &          27      & \\textbf{  AIC:               } &    119.6  \\\\\n",
       "\\textbf{Df Residuals:}     &          22      & \\textbf{  BIC:               } &    126.0  \\\\\n",
       "\\textbf{Df Model:}         &           4      & \\textbf{                     } &           \\\\\n",
       "\\textbf{Covariance Type:}  &    nonrobust     & \\textbf{                     } &           \\\\\n",
       "\\bottomrule\n",
       "\\end{tabular}\n",
       "%\\caption{OLS Regression Results}\n",
       "\\end{center}"
      ],
      "text/plain": [
       "<class 'statsmodels.iolib.table.SimpleTable'>"
      ]
     },
     "execution_count": 23,
     "metadata": {},
     "output_type": "execute_result"
    }
   ],
   "source": [
    "model2.summary().tables[0]\n",
    "\n",
    "# 표준화해도 R-Squared, F-statistic 결과는 동일함"
   ]
  }
 ],
 "metadata": {
  "kernelspec": {
   "display_name": "Python 3 (ipykernel)",
   "language": "python",
   "name": "python3"
  },
  "language_info": {
   "codemirror_mode": {
    "name": "ipython",
    "version": 3
   },
   "file_extension": ".py",
   "mimetype": "text/x-python",
   "name": "python",
   "nbconvert_exporter": "python",
   "pygments_lexer": "ipython3",
   "version": "3.9.12"
  },
  "varInspector": {
   "cols": {
    "lenName": 16,
    "lenType": 16,
    "lenVar": 40
   },
   "kernels_config": {
    "python": {
     "delete_cmd_postfix": "",
     "delete_cmd_prefix": "del ",
     "library": "var_list.py",
     "varRefreshCmd": "print(var_dic_list())"
    },
    "r": {
     "delete_cmd_postfix": ") ",
     "delete_cmd_prefix": "rm(",
     "library": "var_list.r",
     "varRefreshCmd": "cat(var_dic_list()) "
    }
   },
   "types_to_exclude": [
    "module",
    "function",
    "builtin_function_or_method",
    "instance",
    "_Feature"
   ],
   "window_display": false
  }
 },
 "nbformat": 4,
 "nbformat_minor": 4
}
