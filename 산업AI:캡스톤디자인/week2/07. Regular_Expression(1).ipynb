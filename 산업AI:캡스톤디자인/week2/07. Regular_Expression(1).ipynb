{
 "cells": [
  {
   "cell_type": "markdown",
   "id": "931963e7",
   "metadata": {},
   "source": [
    "#  정규 표현식\n",
    "- <span style = 'font-size:1.3em;line-height:1.5em'>파이썬에서 정규표현식을 사용하기 위해서는 re라는 모듈을 불러와서 사용해야 합니다.</span>"
   ]
  },
  {
   "cell_type": "code",
   "execution_count": 1,
   "id": "ca8d736b",
   "metadata": {},
   "outputs": [],
   "source": [
    "import re"
   ]
  },
  {
   "cell_type": "markdown",
   "id": "f1e6aa82",
   "metadata": {},
   "source": [
    "### 사용예시\n",
    "\n",
    "<span style = 'font-size:1.2em;line-height:1.5em'>전화번호의 가운데 자리수를 비공개로 전환하기</span>"
   ]
  },
  {
   "cell_type": "markdown",
   "id": "a1a1ef4e",
   "metadata": {},
   "source": [
    "<span style = 'font-size:1.1em;line-height:1.5em'>(1) 정규표현식 미사용</span>"
   ]
  },
  {
   "cell_type": "code",
   "execution_count": 3,
   "id": "efb0541f",
   "metadata": {},
   "outputs": [
    {
     "name": "stdout",
     "output_type": "stream",
     "text": [
      "kim 010-****-5678\n",
      "park 010-****-4321\n"
     ]
    }
   ],
   "source": [
    "data = \\\n",
    "\"\"\"kim 010-1234-5678\n",
    "park 010-8765-4321\"\"\"\n",
    "\n",
    "result = []\n",
    "for line in data.split('\\n'):\n",
    "    tmp_result = []\n",
    "    for word in line.split(' '):\n",
    "        if len(word) == 13 and word[:3].isdigit() and word[4:8].isdigit() and word[9:].isdigit():\n",
    "            word = word[:4] + \"****\" + word[8:]\n",
    "        tmp_result.append(word)\n",
    "    result.append(\" \".join(tmp_result))\n",
    "\n",
    "print('\\n'.join(result))"
   ]
  },
  {
   "cell_type": "markdown",
   "id": "8268e8ba",
   "metadata": {},
   "source": [
    "<span style = 'font-size:1.1em;line-height:1.5em'>(2) 정규표현식 사용</span>"
   ]
  },
  {
   "cell_type": "code",
   "execution_count": 2,
   "id": "990e3931",
   "metadata": {},
   "outputs": [
    {
     "name": "stdout",
     "output_type": "stream",
     "text": [
      "kim 010-****-5678\n",
      "park 010-****-4321\n"
     ]
    }
   ],
   "source": [
    "import re\n",
    "\n",
    "data = \\\n",
    "\"\"\"kim 010-1234-5678\n",
    "park 010-8765-4321\"\"\"\n",
    "\n",
    "pattern = re.compile(\"(\\d{3})[-](\\d{4})[-](\\d{4})\")\n",
    "print(pattern.sub(\"\\g<1>-****-\\g<3>\", data))"
   ]
  },
  {
   "cell_type": "markdown",
   "id": "46841228",
   "metadata": {},
   "source": [
    "## 1. pattern 생성하기\n",
    "- <span style = 'font-size:1.3em;line-height:1.5em'>re.compile()</span>\n",
    "- <span style = 'font-size:1.3em;line-height:1.5em'>'정규표현식을 컴파일한다.'라고 표현하기도 합니다.</span>"
   ]
  },
  {
   "cell_type": "code",
   "execution_count": 4,
   "id": "a16cb226",
   "metadata": {},
   "outputs": [],
   "source": [
    "# a로 시작하며 그 뒤에 b가 0개 이상 붙어있는 패턴\n",
    "p = re.compile('ab*') "
   ]
  },
  {
   "cell_type": "code",
   "execution_count": 5,
   "id": "9afc0ee9",
   "metadata": {},
   "outputs": [
    {
     "name": "stdout",
     "output_type": "stream",
     "text": [
      "<class 're.Pattern'>\n",
      "Pattern\n"
     ]
    }
   ],
   "source": [
    "# 패턴은 Pattern이라는 클래스의 객체이다.\n",
    "print(type(p))\n",
    "print(p.__class__.__name__)"
   ]
  },
  {
   "cell_type": "markdown",
   "id": "230b0445",
   "metadata": {},
   "source": [
    "## 2. re.Pattern클래스의 유용한 메소드 살펴보기"
   ]
  },
  {
   "cell_type": "markdown",
   "id": "4eda4e26",
   "metadata": {},
   "source": [
    "### (1) match()\n",
    "- <span style = 'font-size:1.2em;line-height:1.5em'>문자열의 처음부터 정규식과 매치되는지 조사한다.</span>"
   ]
  },
  {
   "cell_type": "code",
   "execution_count": 8,
   "id": "3d5be722",
   "metadata": {},
   "outputs": [
    {
     "name": "stdout",
     "output_type": "stream",
     "text": [
      "<re.Match object; span=(0, 2), match='ab'>\n",
      "<re.Match object; span=(0, 1), match='a'>\n",
      "<re.Match object; span=(0, 4), match='abbb'>\n",
      "None\n",
      "None\n"
     ]
    }
   ],
   "source": [
    "# Pattern 클래스의 객체 생성하기\n",
    "# 패턴: a로 시작하며 그 뒤에 b가 0개 이상 붙어있는 패턴\n",
    "p = re.compile('ab*') \n",
    "\n",
    "my_str1 = 'ab abc ba bca'\n",
    "my_str2 = 'a bca bc bca'\n",
    "my_str3 = 'abbb abc ba bca'\n",
    "my_str4 = 'bb abc ba bca'\n",
    "my_str5 = 'ccc dbcbc ddbc'\n",
    "result1 = p.match(my_str1)\n",
    "result2 = p.match(my_str2)\n",
    "result3 = p.match(my_str3)\n",
    "result4 = p.match(my_str4)\n",
    "result5 = p.match(my_str5)\n",
    "print(result1)\n",
    "print(result2)\n",
    "print(result3)\n",
    "print(result4)\n",
    "print(result5)"
   ]
  },
  {
   "cell_type": "markdown",
   "id": "c4360c41",
   "metadata": {},
   "source": [
    "- <span style = 'font-size:1.2em;line-height:1.5em'>반환하는 값은 Match라는 클래스에 대한 객체(object)입니다.</span>\n",
    "    - <span style = 'font-size:1.0em;line-height:1.5em'>클래스, 객체에 대한 개념이 어려우신 분들은 [여기](https://wikidocs.net/28)를 참고해보세요. </span>"
   ]
  },
  {
   "cell_type": "code",
   "execution_count": 9,
   "id": "72bced95",
   "metadata": {},
   "outputs": [
    {
     "name": "stdout",
     "output_type": "stream",
     "text": [
      "<class 're.Match'>\n",
      "Match\n"
     ]
    }
   ],
   "source": [
    "print(type(result1))\n",
    "print(result1.__class__.__name__)"
   ]
  },
  {
   "cell_type": "markdown",
   "id": "16284add",
   "metadata": {},
   "source": [
    "- <span style = 'font-size:1.2em;line-height:1.5em'>Match라는 클래스는 여러 메소드를 제공합니다. </span>\n",
    "- <span style = 'font-size:1.2em;line-height:1.5em'>따라서, Match의 객체인 result1에서도 해당 메소드를 사용할 수 있습니다.</span>\n",
    "- <span style = 'font-size:1.2em;line-height:1.5em'>몇가지 메소드들에 대해서 소개하겠습니다.</span>\n"
   ]
  },
  {
   "cell_type": "code",
   "execution_count": 10,
   "id": "6e5126de",
   "metadata": {},
   "outputs": [
    {
     "name": "stdout",
     "output_type": "stream",
     "text": [
      "ab\n",
      "0\n",
      "2\n",
      "(0, 2)\n"
     ]
    }
   ],
   "source": [
    "# 매칭된 문자열 반환\n",
    "print(result1.group())\n",
    "\n",
    "# 매칭된 문자열의 시작 위치를 반환\n",
    "print(result1.start())\n",
    "\n",
    "# 매칭된 문자열의 끝 위치를 반환\n",
    "print(result1.end())\n",
    "\n",
    "# 매칭된 문자열의 (시작 위치, 끝 위치)에 해당하는 튜플 반환\n",
    "print(result1.span())"
   ]
  },
  {
   "cell_type": "markdown",
   "id": "200efc6b",
   "metadata": {},
   "source": [
    "### (2) search()\n",
    "- <span style = 'font-size:1.2em;line-height:1.5em'>문자열 전체를 탐색하여 정규식과 매칭되는지 조사한다.</span>"
   ]
  },
  {
   "cell_type": "code",
   "execution_count": 9,
   "id": "55173630",
   "metadata": {},
   "outputs": [
    {
     "name": "stdout",
     "output_type": "stream",
     "text": [
      "<re.Match object; span=(0, 2), match='ab'>\n",
      "<re.Match object; span=(0, 1), match='a'>\n",
      "<re.Match object; span=(0, 4), match='abbb'>\n",
      "<re.Match object; span=(3, 5), match='ab'>\n",
      "None\n"
     ]
    }
   ],
   "source": [
    "# a로 시작하며 그 뒤에 b가 0개 이상 붙어있는 패턴\n",
    "p = re.compile('ab*') \n",
    "\n",
    "my_str1 = 'ab abc ba bca'\n",
    "my_str2 = 'a bca bc bca'\n",
    "my_str3 = 'abbb abc ba bca'\n",
    "my_str4 = 'bb abc ba bca'\n",
    "my_str5 = 'ccc dbcbc ddbc'\n",
    "result1 = p.search(my_str1)\n",
    "result2 = p.search(my_str2)\n",
    "result3 = p.search(my_str3)\n",
    "result4 = p.search(my_str4)\n",
    "result5 = p.search(my_str5)\n",
    "print(result1)\n",
    "print(result2)\n",
    "print(result3)\n",
    "print(result4)\n",
    "print(result5)"
   ]
  },
  {
   "cell_type": "markdown",
   "id": "dcc26e04",
   "metadata": {},
   "source": [
    "### (3) findall()\n",
    "- <span style = 'font-size:1.2em;line-height:1.5em'>정규식과 매칭되는 모든 문자열을 반환한다.</span>"
   ]
  },
  {
   "cell_type": "code",
   "execution_count": 12,
   "id": "17d244f9",
   "metadata": {},
   "outputs": [
    {
     "name": "stdout",
     "output_type": "stream",
     "text": [
      "['ab', 'ab', 'a', 'a']\n",
      "['a', 'a', 'a']\n",
      "['abbb', 'ab', 'a', 'a']\n",
      "['ab', 'a', 'a']\n",
      "[]\n"
     ]
    }
   ],
   "source": [
    "# a로 시작하며 그 뒤에 b가 0개 이상 붙어있는 패턴\n",
    "p = re.compile('ab*') \n",
    "\n",
    "my_str1 = 'ab abc ba bca'\n",
    "my_str2 = 'a bca bc bca'\n",
    "my_str3 = 'abbb abc ba bca'\n",
    "my_str4 = 'bb abc ba bca'\n",
    "my_str5 = 'ccc dbcbc ddbc'\n",
    "result1 = p.findall(my_str1)\n",
    "result2 = p.findall(my_str2)\n",
    "result3 = p.findall(my_str3)\n",
    "result4 = p.findall(my_str4)\n",
    "result5 = p.findall(my_str5)\n",
    "print(result1)\n",
    "print(result2)\n",
    "print(result3)\n",
    "print(result4)\n",
    "print(result5)"
   ]
  },
  {
   "cell_type": "markdown",
   "id": "dd2c887b",
   "metadata": {},
   "source": [
    "### (4) finditer()\n",
    "- <span style = 'font-size:1.2em;line-height:1.5em'>정규식과 매칭되는 모든 문자열을 반복가능한 객체(iterator)형태로 반환한다.</span>"
   ]
  },
  {
   "cell_type": "code",
   "execution_count": 11,
   "id": "630b2ace",
   "metadata": {},
   "outputs": [
    {
     "name": "stdout",
     "output_type": "stream",
     "text": [
      "<callable_iterator object at 0x000001C393D15B50>\n",
      "<callable_iterator object at 0x000001C393D157C0>\n",
      "<callable_iterator object at 0x000001C393D15C10>\n",
      "<callable_iterator object at 0x000001C393D15EE0>\n",
      "<callable_iterator object at 0x000001C393D154C0>\n"
     ]
    }
   ],
   "source": [
    "# a로 시작하며 그 뒤에 b가 0개 이상 붙어있는 패턴\n",
    "p = re.compile('ab*') \n",
    "\n",
    "my_str1 = 'ab abc ba bca'\n",
    "my_str2 = 'a bca bc bca'\n",
    "my_str3 = 'abbb abc ba bca'\n",
    "my_str4 = 'bb abc ba bca'\n",
    "my_str5 = 'ccc dbcbc ddbc'\n",
    "result1 = p.finditer(my_str1)\n",
    "result2 = p.finditer(my_str2)\n",
    "result3 = p.finditer(my_str3)\n",
    "result4 = p.finditer(my_str4)\n",
    "result5 = p.finditer(my_str5)\n",
    "print(result1)\n",
    "print(result2)\n",
    "print(result3)\n",
    "print(result4)\n",
    "print(result5)"
   ]
  },
  {
   "cell_type": "code",
   "execution_count": 12,
   "id": "97412658",
   "metadata": {},
   "outputs": [
    {
     "data": {
      "text/plain": [
       "callable_iterator"
      ]
     },
     "execution_count": 12,
     "metadata": {},
     "output_type": "execute_result"
    }
   ],
   "source": [
    "type(result1)"
   ]
  },
  {
   "cell_type": "markdown",
   "id": "f9392a75",
   "metadata": {},
   "source": [
    "- <span style = 'font-size:1.2em;line-height:1.5em'>iterator는 다음과 같이 사용할 수 있습니다.</span>"
   ]
  },
  {
   "cell_type": "code",
   "execution_count": 13,
   "id": "243cc585",
   "metadata": {
    "scrolled": true
   },
   "outputs": [
    {
     "name": "stdout",
     "output_type": "stream",
     "text": [
      "<re.Match object; span=(0, 2), match='ab'>\n",
      "<re.Match object; span=(3, 5), match='ab'>\n",
      "<re.Match object; span=(8, 9), match='a'>\n",
      "<re.Match object; span=(12, 13), match='a'>\n"
     ]
    }
   ],
   "source": [
    "for my_str in result1:\n",
    "    print(my_str)"
   ]
  },
  {
   "cell_type": "markdown",
   "id": "11ddc135",
   "metadata": {},
   "source": [
    "- <span style = 'font-size:1.1em;line-height:1.5em'><b>주의: </b>iterator는 한번 다 순환하면 다시 사용할 수 없습니다.</span>\n",
    "    - <span style = 'font-size:1.0em;line-height:1.5em'>다시 사용하시려면 재선언해야됩니다.</span>"
   ]
  },
  {
   "cell_type": "code",
   "execution_count": 14,
   "id": "50fdbf8a",
   "metadata": {},
   "outputs": [],
   "source": [
    "for my_str in result1:\n",
    "    print(my_str)"
   ]
  },
  {
   "cell_type": "markdown",
   "id": "0bbaff35",
   "metadata": {},
   "source": [
    "### (5) sub()\n",
    "- <span style = 'font-size:1.2em;line-height:1.5em'>정규식과 매칭되는 모든 문자열을 다른 문자열로 수정하기</span>"
   ]
  },
  {
   "cell_type": "code",
   "execution_count": 15,
   "id": "3fda0543",
   "metadata": {},
   "outputs": [
    {
     "name": "stdout",
     "output_type": "stream",
     "text": [
      "xx xxc bxx bcxx\n",
      "xx bcxx bc bcxx\n",
      "xx xxc bxx bcxx\n",
      "bb xxc bxx bcxx\n",
      "ccc dbcbc ddbc\n"
     ]
    }
   ],
   "source": [
    "# a로 시작하며 그 뒤에 b가 0개 이상 붙어있는 패턴\n",
    "p = re.compile('ab*') \n",
    "\n",
    "my_str1 = 'ab abc ba bca'\n",
    "my_str2 = 'a bca bc bca'\n",
    "my_str3 = 'abbb abc ba bca'\n",
    "my_str4 = 'bb abc ba bca'\n",
    "my_str5 = 'ccc dbcbc ddbc'\n",
    "result1 = p.sub('xx', my_str1)\n",
    "result2 = p.sub('xx', my_str2)\n",
    "result3 = p.sub('xx', my_str3)\n",
    "result4 = p.sub('xx', my_str4)\n",
    "result5 = p.sub('xx', my_str5)\n",
    "print(result1)\n",
    "print(result2)\n",
    "print(result3)\n",
    "print(result4)\n",
    "print(result5)"
   ]
  },
  {
   "cell_type": "markdown",
   "id": "f87e6de4",
   "metadata": {},
   "source": [
    "## 3. re.compile() 의 옵션 사용하기"
   ]
  },
  {
   "cell_type": "markdown",
   "id": "97503ee3",
   "metadata": {},
   "source": [
    "### (1) re.DOTALL, re.S\n",
    "- <span style = 'font-size:1.2em;line-height:1.5em'>메타문자 .는 줄바꿈 문자(\\n)을 제외한 모든 문자와 매칭</span>\n",
    "- <span style = 'font-size:1.2em;line-height:1.5em'>\\n도 포함하여 매칭하고 싶을 때 사용</span>\n"
   ]
  },
  {
   "cell_type": "code",
   "execution_count": 16,
   "id": "b227b24e",
   "metadata": {},
   "outputs": [
    {
     "name": "stdout",
     "output_type": "stream",
     "text": [
      "None\n",
      "None\n",
      "<re.Match object; span=(0, 3), match='acb'>\n"
     ]
    }
   ],
   "source": [
    "# 패턴\n",
    "# a와 b사이에 줄바꿈문자(\\n)을 \n",
    "# 제외한 임의의 문자가 들어감\n",
    "p = re.compile('a.b')\n",
    "my_str1 = 'a\\nb'\n",
    "my_str2 = 'ab'\n",
    "my_str3 = 'acb'\n",
    "print(p.search(my_str1))\n",
    "print(p.search(my_str2))\n",
    "print(p.search(my_str3))"
   ]
  },
  {
   "cell_type": "code",
   "execution_count": 17,
   "id": "bbb7c7d1",
   "metadata": {},
   "outputs": [
    {
     "name": "stdout",
     "output_type": "stream",
     "text": [
      "<re.Match object; span=(0, 3), match='a\\nb'>\n",
      "None\n",
      "<re.Match object; span=(0, 3), match='acb'>\n"
     ]
    }
   ],
   "source": [
    "# 패턴\n",
    "# a와 b사이에 줄바꿈문자(\\n)을 \n",
    "# 제외한 임의의 문자가 들어감\n",
    "# re.DOTALL을 활용하여 줄바꿈 문자도 포함\n",
    "p = re.compile('a.b', re.DOTALL)\n",
    "my_str1 = 'a\\nb'\n",
    "my_str2 = 'ab'\n",
    "my_str3 = 'acb'\n",
    "print(p.search(my_str1))\n",
    "print(p.search(my_str2))\n",
    "print(p.search(my_str3))"
   ]
  },
  {
   "cell_type": "code",
   "execution_count": 18,
   "id": "63a72b5f",
   "metadata": {},
   "outputs": [
    {
     "name": "stdout",
     "output_type": "stream",
     "text": [
      "<re.Match object; span=(0, 3), match='a\\nb'>\n",
      "None\n",
      "<re.Match object; span=(0, 3), match='acb'>\n"
     ]
    }
   ],
   "source": [
    "p = re.compile('a.b', re.S)\n",
    "my_str1 = 'a\\nb'\n",
    "my_str2 = 'ab'\n",
    "my_str3 = 'acb'\n",
    "print(p.match(my_str1))\n",
    "print(p.match(my_str2))\n",
    "print(p.match(my_str3))"
   ]
  },
  {
   "cell_type": "markdown",
   "id": "7667417a",
   "metadata": {},
   "source": [
    "### (2) re.IGNORECASE, re.I\n",
    "- <span style = 'font-size:1.2em;line-height:1.5em'>대소문자 구별 없이 매칭할 때 사용</span>"
   ]
  },
  {
   "cell_type": "code",
   "execution_count": 19,
   "id": "dfccef34",
   "metadata": {},
   "outputs": [
    {
     "name": "stdout",
     "output_type": "stream",
     "text": [
      "<re.Match object; span=(0, 3), match='acb'>\n",
      "None\n",
      "None\n"
     ]
    }
   ],
   "source": [
    "p = re.compile('a.b')\n",
    "my_str1 = 'acb'\n",
    "my_str2 = 'AcB'\n",
    "my_str3 = 'aCB'\n",
    "print(p.match(my_str1))\n",
    "print(p.match(my_str2))\n",
    "print(p.match(my_str3))"
   ]
  },
  {
   "cell_type": "code",
   "execution_count": 20,
   "id": "2e93cc41",
   "metadata": {},
   "outputs": [
    {
     "name": "stdout",
     "output_type": "stream",
     "text": [
      "<re.Match object; span=(0, 3), match='acb'>\n",
      "<re.Match object; span=(0, 3), match='AcB'>\n",
      "<re.Match object; span=(0, 3), match='aCB'>\n"
     ]
    }
   ],
   "source": [
    "p = re.compile('a.b', re.I)\n",
    "my_str1 = 'acb'\n",
    "my_str2 = 'AcB'\n",
    "my_str3 = 'aCB'\n",
    "print(p.match(my_str1))\n",
    "print(p.match(my_str2))\n",
    "print(p.match(my_str3))"
   ]
  },
  {
   "cell_type": "markdown",
   "id": "ff40349e",
   "metadata": {},
   "source": [
    "### (3) re.MULTILINE, re.M\n",
    "- <span style = 'font-size:1.2em;line-height:1.5em'>패턴을 문자열의 각 줄마다 적용해주는 것</span>"
   ]
  },
  {
   "cell_type": "code",
   "execution_count": 21,
   "id": "57ce5ae8",
   "metadata": {},
   "outputs": [],
   "source": [
    "data = \"\"\"python one\n",
    "life is too short\n",
    "pythontwo\n",
    "you need python three\n",
    "python three\"\"\""
   ]
  },
  {
   "cell_type": "code",
   "execution_count": 22,
   "id": "926c30bc",
   "metadata": {},
   "outputs": [
    {
     "data": {
      "text/plain": [
       "'python one\\nlife is too short\\npythontwo\\nyou need python three\\npython three'"
      ]
     },
     "execution_count": 22,
     "metadata": {},
     "output_type": "execute_result"
    }
   ],
   "source": [
    "data"
   ]
  },
  {
   "cell_type": "code",
   "execution_count": 23,
   "id": "4130ff8b",
   "metadata": {},
   "outputs": [
    {
     "name": "stdout",
     "output_type": "stream",
     "text": [
      "['python one']\n"
     ]
    }
   ],
   "source": [
    "# 패턴 설명\n",
    "# 메타문자 ^: 문자열이 주어진 패턴으로 시작할 때 매칭\n",
    "# 메타문자 \\w: 문자 + 숫자와 매칭. [a-zA-Z0-9_]와 같은 의미\n",
    "# 메타문자 +: 1개 이상 존재\n",
    "# 즉, 아래 패턴은 \n",
    "# python으로 시작, 한칸 띄고, 문자가 1개이상 존재하는 문자열과 매칭 \n",
    "p = re.compile(\"^python \\w+\")\n",
    "\n",
    "print(p.findall(data))"
   ]
  },
  {
   "cell_type": "markdown",
   "id": "231d392d",
   "metadata": {},
   "source": [
    "- <span style = 'font-size:1.2em;line-height:1.5em'>data에 들어있는 '단일' 문자열이 주어진 패턴(p)로 시작하는지 검사</span>\n",
    "- <span style = 'font-size:1.2em;line-height:1.5em'>data의 각 line에 있는 문자열이 주어진 패턴(p)로 시작하는지 검사할 떄, re.M을 사용</span>"
   ]
  },
  {
   "cell_type": "code",
   "execution_count": 24,
   "id": "030cd375",
   "metadata": {},
   "outputs": [
    {
     "name": "stdout",
     "output_type": "stream",
     "text": [
      "['python one', 'python three']\n"
     ]
    }
   ],
   "source": [
    "# 패턴 설명\n",
    "# 메타문자 ^: 문자열이 주어진 패턴으로 시작할 때 매칭\n",
    "# 메타문자 \\w: 문자 + 숫자와 매칭. [a-zA-Z0-9_]와 같은 의미\n",
    "# 메타문자 +: 1개 이상 존재\n",
    "# 즉, 아래 패턴은 각 line의 문자열이\n",
    "# python으로 시작, 한칸 띄고, 문자가 1개이상 존재하면 매칭\n",
    "p = re.compile(\"^python \\w+\", re.M)\n",
    "\n",
    "print(p.findall(data))"
   ]
  },
  {
   "cell_type": "markdown",
   "id": "47c4147e",
   "metadata": {},
   "source": [
    "### (4) re.VERBOSE (additional)\n",
    "- <span style = 'font-size:1.2em;line-height:1.5em'>문자열에 사용된 whitespace를 컴파일할 때 제거됨</span>\n",
    "- <span style = 'font-size:1.2em;line-height:1.5em'>복잡한 정규식에 주석을 달 때 사용함</span>"
   ]
  },
  {
   "cell_type": "code",
   "execution_count": 25,
   "id": "830667f7",
   "metadata": {},
   "outputs": [],
   "source": [
    "charref = re.compile(r'&[#](0[0-7]+|[0-9]+|x[0-9a-fA-F]+);')"
   ]
  },
  {
   "cell_type": "code",
   "execution_count": 26,
   "id": "03135224",
   "metadata": {},
   "outputs": [],
   "source": [
    "charref = re.compile(r\"\"\"\n",
    " &[#]                # Start of a numeric entity reference\n",
    " (\n",
    "     0[0-7]+         # Octal form\n",
    "   | [0-9]+          # Decimal form\n",
    "   | x[0-9a-fA-F]+   # Hexadecimal form\n",
    " )\n",
    " ;                   # Trailing semicolon\n",
    "\"\"\", re.VERBOSE)"
   ]
  }
 ],
 "metadata": {
  "kernelspec": {
   "display_name": "Python 3 (ipykernel)",
   "language": "python",
   "name": "python3"
  },
  "language_info": {
   "codemirror_mode": {
    "name": "ipython",
    "version": 3
   },
   "file_extension": ".py",
   "mimetype": "text/x-python",
   "name": "python",
   "nbconvert_exporter": "python",
   "pygments_lexer": "ipython3",
   "version": "3.9.12"
  }
 },
 "nbformat": 4,
 "nbformat_minor": 5
}
