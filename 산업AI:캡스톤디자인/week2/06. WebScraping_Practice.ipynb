{
 "cells": [
  {
   "cell_type": "markdown",
   "id": "74c987b2",
   "metadata": {},
   "source": [
    "<span style = 'font-size:1.3em;line-height:1.5em'><b>1. </b>국민대학교 홈페이지에서 건학이념 페이지에서 다음과 같은 텍스트를 추출하라.</span>\n",
    "\n",
    "\"대한민국 임시정부의 정신을 계승하여\n",
    "\n",
    "독립 국가건설에 필요한 인재를 육성한다는\n",
    "\n",
    "건학이념으로 국민대학교를 세웠다.\""
   ]
  },
  {
   "cell_type": "code",
   "execution_count": 5,
   "id": "4bcbc156",
   "metadata": {},
   "outputs": [],
   "source": [
    "from bs4 import BeautifulSoup\n",
    "import urllib\n",
    "from urllib.request import urlopen"
   ]
  },
  {
   "cell_type": "code",
   "execution_count": 15,
   "id": "29d9de99",
   "metadata": {},
   "outputs": [
    {
     "data": {
      "text/plain": [
       "'\"대한민국 임시정부의 정신을 계승하여독립 국가건설에 필요한 인재를 육성한다는건학이념으로 국민대학교를 세웠다.\"'"
      ]
     },
     "execution_count": 15,
     "metadata": {},
     "output_type": "execute_result"
    }
   ],
   "source": [
    "url = 'https://www.kookmin.ac.kr/comm/menu/user/dcc49bd0de0a82d918456e893d7bb02e/content/index.do'\n",
    "html = urlopen(url)\n",
    "bs_obj = BeautifulSoup(html, 'html.parser')\n",
    "content = bs_obj.find_all('p',{'class':'col_tit'})\n",
    "content = content[0].text.strip().replace('\\n','').replace('\\r','')\n",
    "content"
   ]
  },
  {
   "cell_type": "markdown",
   "id": "a5bc328a",
   "metadata": {},
   "source": [
    "<span style = 'font-size:1.3em;line-height:1.5em'><b>2. </b>네이버 웹툰에서 '신혼일기' 20화에 해당하는 베스트 댓글 10개를 수집하세요.</span>"
   ]
  },
  {
   "cell_type": "code",
   "execution_count": 20,
   "id": "be3b451c",
   "metadata": {},
   "outputs": [],
   "source": [
    "from selenium import webdriver\n",
    "from selenium.webdriver.common.by import By\n",
    "\n",
    "driver = webdriver.Chrome('C:\\chromedriver\\chromedriver.exe')\n",
    "url = 'https://comic.naver.com/webtoon/detail?titleId=812354&no=20'\n",
    "driver.get(url)\n",
    "page = driver.page_source"
   ]
  },
  {
   "cell_type": "code",
   "execution_count": 23,
   "id": "ca3aa1b8",
   "metadata": {},
   "outputs": [
    {
     "data": {
      "text/plain": [
       "['ㅋㅋㅋㅋㅋㅋㅋㅋㅋㅋㅋㅋㅋㅋㅋㅋㅋㅋㅋㅋㅋㅋㅋㅋㅋㅋㅋㅋㅋㅋㅋㅋㅋㅋㅋㅋㅋㅋㅋㅋㅋㅋ진짜 T의 어머니',\n",
       " '이정도면 뇌에서 코딩한거 아님??',\n",
       " '아버지 자까님 웹툰에서 거의 처음으로 저런 그림체인듯ㅋㅋㅋㅋㅋㅋㅋ',\n",
       " '네?어머니?',\n",
       " '역시 세계관 최강자....',\n",
       " '늘 이성적이시던 어머니가 우시니 기분이 뭔가 엄청 이상하다...',\n",
       " '음.. 결혼식 드레스를 입기위해 했던 다이어트와...화장을 하는 시간과 금액을 생각하면..나오던 눈물도 들어가지 않을까요?',\n",
       " '한복 고르시면서 울컥하셨나보당ㅠㅠ',\n",
       " '저는 본식 3일전부터 굶었는데요.. 진짜 진정으로 본식날 밥 생각밖에 안났습니다.ㅜㅡㅜ ㅋㅋ',\n",
       " '???: 다 울었니? 이제 할 일을 하자.',\n",
       " '머리 적응이 안되네ㅋㅋㅋㅋㅋ',\n",
       " \"시어머니님의 배려가 정말 따뜻하네요ヾ(*'∀`*)ﾉ♡\",\n",
       " '신부가 울려고 할때 저녁메뉴 귀속말로 이야기해주면 효과 직빵이라고 본식 사진사가 이야기해준 기억이 나네요 ㅋㅋㅋ',\n",
       " '뒤에서 맘스터치 ㅋㅋㅋㅋㅋ',\n",
       " 'F성향의 아버님이 처음 당황하신 것 같아요.']"
      ]
     },
     "execution_count": 23,
     "metadata": {},
     "output_type": "execute_result"
    }
   ],
   "source": [
    "tmp = driver.find_elements(By.CLASS_NAME, 'u_cbox_contents')\n",
    "\n",
    "best_comment = [x.text for x in tmp]\n",
    "best_comment"
   ]
  },
  {
   "cell_type": "markdown",
   "id": "bdb38334",
   "metadata": {},
   "source": [
    "<span style = 'font-size:1.3em;line-height:1.5em'><b>3. </b>공공데이터포털(www.data.go.kr) 의 '한국부동산원_부동산 거래 현황 통계 조회 서비스' 데이터에서 2021년 한 해동안 월별 외국인의 거래 유형 현황을 추출하는 파이썬 코드를 작성하라. (단, API를 반드시 활용) '외국인거래 건수 조회'테이블을 활용하면 된다. 홈페이지에서 직접 뽑은 데이터와 비교를 해보자.</span>"
   ]
  },
  {
   "cell_type": "code",
   "execution_count": 269,
   "id": "b3d97671",
   "metadata": {},
   "outputs": [],
   "source": [
    "from bs4 import BeautifulSoup\n",
    "from urllib.request import urlopen"
   ]
  },
  {
   "cell_type": "code",
   "execution_count": 270,
   "id": "9f6e4e38",
   "metadata": {},
   "outputs": [],
   "source": [
    "endpoint = 'https://api.odcloud.kr/api/RealEstateTradingSvc/v1/getRealEstateTradingCountForeigner'\n",
    "service_key = 'eOCWH%2FCPN7A3KO79lNiCypt%2BHQYgfm6wZz1oMjycwpy0%2FVso2V8B15%2BbF%2BW4C2ebWfLahhBwe0YeFMjSA4qbzA%3D%3D'\n",
    "page = 1\n",
    "perpage = 10\n",
    "start_month = '202101'\n",
    "end_month = '202112'\n",
    "region = '11290'"
   ]
  },
  {
   "cell_type": "code",
   "execution_count": 271,
   "id": "544feca5",
   "metadata": {},
   "outputs": [],
   "source": [
    "cond1 = f'cond%5BRESEARCH_DATE%3A%3ALT%5D={end_month}'\n",
    "cond2 = f'cond%5BRESEARCH_DATE%3A%3AGTE%5D={start_month}&'\n",
    "cond3 = f'cond%5BREGION_CD%3A%3AEQ%5D={region}'\n",
    "\n",
    "url = f'{endpoint}?page={page}&perPage={perpage}&{cond1}&{cond2}&{cond3}&serviceKey={service_key}'"
   ]
  },
  {
   "cell_type": "code",
   "execution_count": 275,
   "id": "555cdff4",
   "metadata": {},
   "outputs": [
    {
     "name": "stdout",
     "output_type": "stream",
     "text": [
      "{\"currentCount\":10,\"data\":[{\"DEAL_OBJ\":\"03\",\"FOREIGNER_CNT\":6,\"LEVEL_NO\":\"1\",\"REGION_CD\":\"11290\",\"REGION_NM\":\"성북구\",\"RESEARCH_DATE\":\"202103\"},{\"DEAL_OBJ\":\"01\",\"FOREIGNER_CNT\":6,\"LEVEL_NO\":\"1\",\"REGION_CD\":\"11290\",\"REGION_NM\":\"성북구\",\"RESEARCH_DATE\":\"202103\"},{\"DEAL_OBJ\":\"05\",\"FOREIGNER_CNT\":0,\"LEVEL_NO\":\"1\",\"REGION_CD\":\"11290\",\"REGION_NM\":\"성북구\",\"RESEARCH_DATE\":\"202106\"},{\"DEAL_OBJ\":\"01\",\"FOREIGNER_CNT\":10,\"LEVEL_NO\":\"1\",\"REGION_CD\":\"11290\",\"REGION_NM\":\"성북구\",\"RESEARCH_DATE\":\"202104\"},{\"DEAL_OBJ\":\"02\",\"FOREIGNER_CNT\":0,\"LEVEL_NO\":\"1\",\"REGION_CD\":\"11290\",\"REGION_NM\":\"성북구\",\"RESEARCH_DATE\":\"202103\"},{\"DEAL_OBJ\":\"02\",\"FOREIGNER_CNT\":1,\"LEVEL_NO\":\"1\",\"REGION_CD\":\"11290\",\"REGION_NM\":\"성북구\",\"RESEARCH_DATE\":\"202104\"},{\"DEAL_OBJ\":\"03\",\"FOREIGNER_CNT\":9,\"LEVEL_NO\":\"1\",\"REGION_CD\":\"11290\",\"REGION_NM\":\"성북구\",\"RESEARCH_DATE\":\"202104\"},{\"DEAL_OBJ\":\"04\",\"FOREIGNER_CNT\":0,\"LEVEL_NO\":\"1\",\"REGION_CD\":\"11290\",\"REGION_NM\":\"성북구\",\"RESEARCH_DATE\":\"202104\"},{\"DEAL_OBJ\":\"04\",\"FOREIGNER_CNT\":0,\"LEVEL_NO\":\"1\",\"REGION_CD\":\"11290\",\"REGION_NM\":\"성북구\",\"RESEARCH_DATE\":\"202103\"},{\"DEAL_OBJ\":\"05\",\"FOREIGNER_CNT\":0,\"LEVEL_NO\":\"1\",\"REGION_CD\":\"11290\",\"REGION_NM\":\"성북구\",\"RESEARCH_DATE\":\"202103\"}],\"matchCount\":55,\"page\":1,\"perPage\":10,\"totalCount\":275396}\n",
      "\n"
     ]
    }
   ],
   "source": [
    "html = urlopen(url)\n",
    "bs_obj = BeautifulSoup(html,'html.parser')\n",
    "print(bs_obj.text)"
   ]
  },
  {
   "cell_type": "markdown",
   "id": "a31bbe3a",
   "metadata": {},
   "source": [
    "<span style = 'font-size:1.2em;line-height:1.5em'><b>4. </b> \"5. WebScraping(5).ipynb\"에서 얻은 10개의 네이버뉴스 링크를 타고 들어가서 댓글들을 수집해보자. 단, 검색 결과를 얻을 때는 반드시 Naver API를 사용해야 하며, 매 뉴스 페이지를 방문할 때마다 반드시 time.sleep(1)을 입력하시오. (사용할 검색어는 '엔비디아')\n",
    "</span>\n",
    "- <span style = 'font-size:1.1em;line-height:1.5em'><b>Hint: </b>Selenium의 find_element(), find_elements()를 사용하자</span>"
   ]
  },
  {
   "cell_type": "markdown",
   "id": "7c48626a",
   "metadata": {},
   "source": [
    "- 댓글 수집하기"
   ]
  },
  {
   "cell_type": "code",
   "execution_count": 88,
   "id": "391ad99e",
   "metadata": {},
   "outputs": [],
   "source": [
    "import pandas as pd\n",
    "import re\n",
    "import urllib\n",
    "from bs4 import BeautifulSoup\n",
    "import html\n",
    "from selenium import webdriver\n",
    "from selenium.webdriver.common.by import By"
   ]
  },
  {
   "cell_type": "markdown",
   "id": "0a6425f5",
   "metadata": {},
   "source": [
    "### '엔비디아' 검색어로 방문해야 할 네이버 뉴스 홈페이지 link얻기"
   ]
  },
  {
   "cell_type": "code",
   "execution_count": 172,
   "id": "e61ae3af",
   "metadata": {},
   "outputs": [],
   "source": [
    "# Naver API client_id, client_secret을 입력하세요.\n",
    "client_id = 'RWuRpSQWzKGXVmEEjFa3'\n",
    "client_secret = 'ed44ctBboJ'"
   ]
  },
  {
   "cell_type": "code",
   "execution_count": 173,
   "id": "4a006424",
   "metadata": {},
   "outputs": [],
   "source": [
    "base_url = 'https://openapi.naver.com/v1/search/news.json'\n",
    "query = '엔비디아'\n",
    "encQuery = urllib.parse.quote(query)\n",
    "n_display = 10\n",
    "start = 1\n",
    "sort = 'sim'\n",
    "\n",
    "url = f'{base_url}?query={encQuery}&display={n_display}&start={start}&sort={sort}'\n",
    "\n",
    "my_request = urllib.request.Request(url)\n",
    "my_request.add_header(\"X-Naver-Client-Id\",client_id)\n",
    "my_request.add_header(\"X-Naver-Client-Secret\",client_secret)\n",
    "response = urllib.request.urlopen(my_request)\n",
    "\n",
    "rescode = response.getcode()\n",
    "if(rescode==200):\n",
    "    response_body = response.read()\n",
    "#     print(response_body.decode('utf-8'))\n",
    "else:\n",
    "    print(\"Error Code:\" + rescode)"
   ]
  },
  {
   "cell_type": "code",
   "execution_count": 174,
   "id": "da905178",
   "metadata": {},
   "outputs": [],
   "source": [
    "def remove_tag(my_str):\n",
    "    ## 태그를 지우는 함수\n",
    "    p = re.compile('(<([^>]+)>)')\n",
    "    return p.sub('', my_str)\n",
    "\n",
    "def sub_html_special_char(my_str):\n",
    "    ## 특수문자를 나타내는 &apos;, &quot를 실제 특수문자로 변환\n",
    "    p1 = re.compile('&lt;')\n",
    "    p2 = re.compile('&gt;')\n",
    "    p3 = re.compile('&amp;')\n",
    "    p4 = re.compile('&apos;')\n",
    "    p5 = re.compile('&quot;')\n",
    "\n",
    "    result = p1.sub('\\<', my_str)\n",
    "    result = p2.sub('\\>', result)\n",
    "    result = p3.sub('\\&', result)\n",
    "    result = p4.sub('\\'', result)\n",
    "    result = p5.sub('\\\"', result)\n",
    "                    \n",
    "    return result"
   ]
  },
  {
   "cell_type": "code",
   "execution_count": 175,
   "id": "e08e8a20",
   "metadata": {
    "scrolled": true
   },
   "outputs": [
    {
     "data": {
      "text/plain": [
       "{'lastBuildDate': 'Thu, 14 Sep 2023 14:33:54 +0900',\n",
       " 'total': 141885,\n",
       " 'start': 1,\n",
       " 'display': 10,\n",
       " 'items': [{'title': '생성형 AI 최대 수혜주 <b>엔비디아<\\\\/b> 간만에 1.37%↑(상보)',\n",
       "   'originallink': 'https:\\\\/\\\\/www.news1.kr\\\\/articles\\\\/5170833',\n",
       "   'link': 'https:\\\\/\\\\/n.news.naver.com\\\\/mnews\\\\/article\\\\/421\\\\/0007048963?sid=104',\n",
       "   'description': '최근 생성형 인공지능(AI) 버블 경고가 나오며 약세를 면치 못했던 <b>엔비디아<\\\\/b>가 간만에 상승했다. 13일(현지시간) 뉴욕증시에서 <b>엔비디아<\\\\/b>는 전거래일보다 1.37% 상승한 454.85 달러를 기록했다. 이날 <b>엔비디아<\\\\/b>와 관련한... ',\n",
       "   'pubDate': 'Thu, 14 Sep 2023 06:12:00 +0900'},\n",
       "  {'title': '엔피 주가 강세, <b>엔비디아<\\\\/b> 메타버스 진출 영향',\n",
       "   'originallink': 'https:\\\\/\\\\/www.gukjenews.com\\\\/news\\\\/articleView.html?idxno=2809866',\n",
       "   'link': 'https:\\\\/\\\\/www.gukjenews.com\\\\/news\\\\/articleView.html?idxno=2809866',\n",
       "   'description': \"<b>엔비디아<\\\\/b>가 챗GPT에 이어 메타버스까지 영역을 확장한다는 소식에 영향을 받는 모양새다. <b>엔비디아<\\\\/b>는 사람의 언어를 이해하고 소통할 수 있는 가상의 공간을 실현하기 위해 '<b>엔비디아<\\\\/b> 옴니버스'를 구축했다.... \",\n",
       "   'pubDate': 'Thu, 14 Sep 2023 14:12:00 +0900'},\n",
       "  {'title': 'ARM 미국 상장 공모가 51달러 확정, &quot;<b>엔비디아<\\\\/b> 수준 프리미엄 반영&quot; 분석',\n",
       "   'originallink': 'https:\\\\/\\\\/www.businesspost.co.kr\\\\/BP?command=article_view&num=327337',\n",
       "   'link': 'https:\\\\/\\\\/www.businesspost.co.kr\\\\/BP?command=article_view&num=327337',\n",
       "   'description': 'ARM의 기업가치에 <b>엔비디아<\\\\/b> 수준의 프리미엄이 반영됐다는 분석이 나온다. 13일(현지시각) 미국 CNBC에... CNBC는 ARM의 주식 공모가와 주가수익비율(P\\\\/E)을 근거로 ARM의 기업가치가 <b>엔비디아<\\\\/b> 수준의 프리미엄을... ',\n",
       "   'pubDate': 'Thu, 14 Sep 2023 14:10:00 +0900'},\n",
       "  {'title': '고개숙인 애플, 테슬라·<b>엔비디아<\\\\/b>는 1%대 상승...뉴욕증시',\n",
       "   'originallink': 'https:\\\\/\\\\/www.dt.co.kr\\\\/contents.html?article_no=2023091402109963040002&ref=naver',\n",
       "   'link': 'https:\\\\/\\\\/n.news.naver.com\\\\/mnews\\\\/article\\\\/029\\\\/0002825224?sid=101',\n",
       "   'description': '테슬라와 <b>엔비디아<\\\\/b>, 메타 플랫폼스(페이스북)는 1%대 오른 반면, 3M은 5% 이상 하락했다. 13일(현지 시간) 뉴욕증권거래소(NYSE)에서 우량주 중심의 다우존스30산업평균지수는 전장보다 70.46포인트(0.20%) 하락한 3만4575.... ',\n",
       "   'pubDate': 'Thu, 14 Sep 2023 07:53:00 +0900'},\n",
       "  {'title': '<b>엔비디아<\\\\/b> 쿠퀀텀, 페니레인 지원으로 양자 시뮬레이션 가속화 진행',\n",
       "   'originallink': 'http:\\\\/\\\\/gamefocus.co.kr\\\\/detail.php?number=145061',\n",
       "   'link': 'http:\\\\/\\\\/gamefocus.co.kr\\\\/detail.php?number=145061',\n",
       "   'description': '<b>엔비디아<\\\\/b>가 미 국립에너지연구소 과학컴퓨팅센터(NERSC)의 펄머터(Perlmutter) 슈퍼컴퓨터에 <b>엔비디아<\\\\/b> 쿠퀀텀(NVIDIA cuQuantum) 소프트웨어 개발 키트 기반의 최신 페니레인(PennyLane) 오픈 소스 소프트웨어가 사용됐다고... ',\n",
       "   'pubDate': 'Thu, 14 Sep 2023 12:32:00 +0900'},\n",
       "  {'title': \"뉴욕증시, 애매한 8월 CPI '혼조'···애플 '하락'·<b>엔비디아<\\\\/b> '반등'\",\n",
       "   'originallink': 'http:\\\\/\\\\/www.seoulfn.com\\\\/news\\\\/articleView.html?idxno=495703',\n",
       "   'link': 'http:\\\\/\\\\/www.seoulfn.com\\\\/news\\\\/articleView.html?idxno=495703',\n",
       "   'description': \"대형기술주들의 주가는 대체로 오른 가운데 12일 '신형 아이폰 15'를 공개한 대장주 애플(-1.1%)은 전날에 이어 하락세를 지속했지만 반도체주 <b>엔비디아<\\\\/b>(1.3%)는 6거래일 만에 상승전환했다. 주요 종목으로는... \",\n",
       "   'pubDate': 'Thu, 14 Sep 2023 06:03:00 +0900'},\n",
       "  {'title': '<b>엔비디아<\\\\/b> 쿠퀀텀, 페니레인 지원으로 양자 시뮬레이션 가속화',\n",
       "   'originallink': 'https:\\\\/\\\\/kbench.com\\\\/?q=node\\\\/247643',\n",
       "   'link': 'https:\\\\/\\\\/kbench.com\\\\/?q=node\\\\/247643',\n",
       "   'description': '<b>엔비디아<\\\\/b>(www.nvidia.co.kr)가 미 국립에너지연구소 과학컴퓨팅센터(NERSC)의 펄머터(Perlmutter) 슈퍼컴퓨터에 <b>엔비디아<\\\\/b> 쿠퀀텀(NVIDIA cuQuantum) 소프트웨어 개발 키트 기반의 최신 페니레인(PennyLane) 오픈 소스... ',\n",
       "   'pubDate': 'Thu, 14 Sep 2023 12:30:00 +0900'},\n",
       "  {'title': '<b>엔비디아<\\\\/b> 쿠퀀텀, 페니레인 지원으로 양자 시뮬레이션 가속화',\n",
       "   'originallink': 'https:\\\\/\\\\/www.khgames.co.kr\\\\/news\\\\/articleView.html?idxno=218732',\n",
       "   'link': 'https:\\\\/\\\\/www.khgames.co.kr\\\\/news\\\\/articleView.html?idxno=218732',\n",
       "   'description': '<b>엔비디아<\\\\/b>가 미 국립에너지연구소 과학컴퓨팅센터(NERSC)의 펄머터(Perlmutter) 슈퍼컴퓨터에 <b>엔비디아<\\\\/b> 쿠퀀텀(NVIDIA cuQuantum) 소프트웨어 개발 키트 기반의 최신 페니레인(PennyLane) 오픈 소스 소프트웨어가 사용됐다고... ',\n",
       "   'pubDate': 'Thu, 14 Sep 2023 11:34:00 +0900'},\n",
       "  {'title': '<b>엔비디아<\\\\/b> 1.37% 상승, 필라델피아반도체지수 0.55%↑(종합)',\n",
       "   'originallink': 'https:\\\\/\\\\/www.news1.kr\\\\/articles\\\\/5170834',\n",
       "   'link': 'https:\\\\/\\\\/n.news.naver.com\\\\/mnews\\\\/article\\\\/421\\\\/0007048970?sid=104',\n",
       "   'description': '생성형 인공지능(AI) 최대 수혜주 <b>엔비디아<\\\\/b>가 1.37% 상승하는 등 대부분 반도체주가 상승하자 반도체... 일단 <b>엔비디아<\\\\/b>가 전거래일보다 1.37% 상승한 454.85 달러로 장을 마감했다. 이날 <b>엔비디아<\\\\/b>와 관련한 특별한... ',\n",
       "   'pubDate': 'Thu, 14 Sep 2023 06:21:00 +0900'},\n",
       "  {'title': '&quot;젠슨 황, 주식 왜 팔았어?&quot;…<b>엔비디아<\\\\/b>, 올들어 최장기 하락세',\n",
       "   'originallink': 'http:\\\\/\\\\/news.mt.co.kr\\\\/mtview.php?no=2023091308492676782',\n",
       "   'link': 'https:\\\\/\\\\/n.news.naver.com\\\\/mnews\\\\/article\\\\/008\\\\/0004937630?sid=101',\n",
       "   'description': 'AI 최애주로 각광받는 <b>엔비디아<\\\\/b>가 12일(현지시간) 증권사의 긍정적인 평가에도 5거래일째 하락세를 이어갔다. <b>엔비디아<\\\\/b>는 이날 0.7% 하락한 448.70달러로 마감했다. <b>엔비디아<\\\\/b>는 지난 6일부터 이날까지 5거래일 연속 약세를... ',\n",
       "   'pubDate': 'Wed, 13 Sep 2023 08:56:00 +0900'}]}"
      ]
     },
     "execution_count": 175,
     "metadata": {},
     "output_type": "execute_result"
    }
   ],
   "source": [
    "search_results = response_body.decode('utf-8')\n",
    "search_results = eval(search_results)\n",
    "search_results"
   ]
  },
  {
   "cell_type": "code",
   "execution_count": 176,
   "id": "82b57cbc",
   "metadata": {},
   "outputs": [
    {
     "name": "stdout",
     "output_type": "stream",
     "text": [
      "https:\\/\\/n.news.naver.com\\/mnews\\/article\\/421\\/0007048963?sid=104\n",
      "matching\n",
      "https:\\/\\/www.gukjenews.com\\/news\\/articleView.html?idxno=2809866\n",
      "https:\\/\\/www.businesspost.co.kr\\/BP?command=article_view&num=327337\n",
      "https:\\/\\/n.news.naver.com\\/mnews\\/article\\/029\\/0002825224?sid=101\n",
      "matching\n",
      "http:\\/\\/gamefocus.co.kr\\/detail.php?number=145061\n",
      "http:\\/\\/www.seoulfn.com\\/news\\/articleView.html?idxno=495703\n",
      "https:\\/\\/kbench.com\\/?q=node\\/247643\n",
      "https:\\/\\/www.khgames.co.kr\\/news\\/articleView.html?idxno=218732\n",
      "https:\\/\\/n.news.naver.com\\/mnews\\/article\\/421\\/0007048970?sid=104\n",
      "matching\n",
      "https:\\/\\/n.news.naver.com\\/mnews\\/article\\/008\\/0004937630?sid=101\n",
      "matching\n"
     ]
    }
   ],
   "source": [
    "## 네이버 뉴스 link가 있는 뉴스만 검색하는 코드 작성하고, pandas DataFrame으로 변경하기\n",
    "titles = []\n",
    "links = []\n",
    "pubdates = []\n",
    "contents = []\n",
    "\n",
    "p = re.compile('n.news.naver.com')\n",
    "for item in search_results['items']:\n",
    "    print(item['link'])\n",
    "    if p.search(item['link']) is not None: ## <link>태그의 문자열이 n.news.naver.com이 포함된 결과만 추출\n",
    "        print('matching')\n",
    "        title = sub_html_special_char(remove_tag(item['title']))\n",
    "        link = item['link'].replace('\\\\', '')\n",
    "        pubdate = item['pubDate']\n",
    "        titles.append(title)\n",
    "        links.append(link)\n",
    "        pubdates.append(pubdate)"
   ]
  },
  {
   "cell_type": "code",
   "execution_count": 177,
   "id": "f825c6e7",
   "metadata": {},
   "outputs": [
    {
     "data": {
      "text/html": [
       "<div>\n",
       "<style scoped>\n",
       "    .dataframe tbody tr th:only-of-type {\n",
       "        vertical-align: middle;\n",
       "    }\n",
       "\n",
       "    .dataframe tbody tr th {\n",
       "        vertical-align: top;\n",
       "    }\n",
       "\n",
       "    .dataframe thead th {\n",
       "        text-align: right;\n",
       "    }\n",
       "</style>\n",
       "<table border=\"1\" class=\"dataframe\">\n",
       "  <thead>\n",
       "    <tr style=\"text-align: right;\">\n",
       "      <th></th>\n",
       "      <th>link</th>\n",
       "      <th>pubdate</th>\n",
       "    </tr>\n",
       "  </thead>\n",
       "  <tbody>\n",
       "    <tr>\n",
       "      <th>0</th>\n",
       "      <td>https://n.news.naver.com/mnews/article/421/000...</td>\n",
       "      <td>Thu, 14 Sep 2023 06:12:00 +0900</td>\n",
       "    </tr>\n",
       "    <tr>\n",
       "      <th>1</th>\n",
       "      <td>https://n.news.naver.com/mnews/article/029/000...</td>\n",
       "      <td>Thu, 14 Sep 2023 07:53:00 +0900</td>\n",
       "    </tr>\n",
       "    <tr>\n",
       "      <th>2</th>\n",
       "      <td>https://n.news.naver.com/mnews/article/421/000...</td>\n",
       "      <td>Thu, 14 Sep 2023 06:21:00 +0900</td>\n",
       "    </tr>\n",
       "    <tr>\n",
       "      <th>3</th>\n",
       "      <td>https://n.news.naver.com/mnews/article/008/000...</td>\n",
       "      <td>Wed, 13 Sep 2023 08:56:00 +0900</td>\n",
       "    </tr>\n",
       "  </tbody>\n",
       "</table>\n",
       "</div>"
      ],
      "text/plain": [
       "                                                link  \\\n",
       "0  https://n.news.naver.com/mnews/article/421/000...   \n",
       "1  https://n.news.naver.com/mnews/article/029/000...   \n",
       "2  https://n.news.naver.com/mnews/article/421/000...   \n",
       "3  https://n.news.naver.com/mnews/article/008/000...   \n",
       "\n",
       "                           pubdate  \n",
       "0  Thu, 14 Sep 2023 06:12:00 +0900  \n",
       "1  Thu, 14 Sep 2023 07:53:00 +0900  \n",
       "2  Thu, 14 Sep 2023 06:21:00 +0900  \n",
       "3  Wed, 13 Sep 2023 08:56:00 +0900  "
      ]
     },
     "execution_count": 177,
     "metadata": {},
     "output_type": "execute_result"
    }
   ],
   "source": [
    "df_link = pd.DataFrame({'link': links, 'pubdate': pubdates})\n",
    "df_link"
   ]
  },
  {
   "cell_type": "code",
   "execution_count": 178,
   "id": "c4616146",
   "metadata": {},
   "outputs": [
    {
     "data": {
      "text/plain": [
       "'https://n.news.naver.com/mnews/article/421/0007048970?sid=104'"
      ]
     },
     "execution_count": 178,
     "metadata": {},
     "output_type": "execute_result"
    }
   ],
   "source": [
    "df_link['link'][2]"
   ]
  },
  {
   "cell_type": "markdown",
   "id": "855bf605",
   "metadata": {},
   "source": [
    "### 각 웹페이지에 방문하여 제목, 본문, 댓글들 얻기"
   ]
  },
  {
   "cell_type": "code",
   "execution_count": 179,
   "id": "898db814",
   "metadata": {},
   "outputs": [],
   "source": [
    "from selenium import webdriver\n",
    "driver = webdriver.Chrome('C:\\chromedriver\\chromedriver.exe') # Chrome Driver 위치 입력하기"
   ]
  },
  {
   "cell_type": "code",
   "execution_count": 200,
   "id": "32207b85",
   "metadata": {},
   "outputs": [],
   "source": [
    "titles = []\n",
    "contents = []\n",
    "comments = []\n",
    "\n",
    "for url in df_link['link']:\n",
    "    driver.get(url)\n",
    "    page = driver.page_source\n",
    "    bs_obj = BeautifulSoup(page, 'html.parser')\n",
    "    title = bs_obj.find_all('h2',{'id':'title_area'})\n",
    "    content = bs_obj.find_all('article',{'id':'dic_area'})\n",
    "    com = driver.find_elements(By.CLASS_NAME, 'u_cbox_contents') \n",
    "    comment = [x.text for x in com]\n",
    "    \n",
    "    titles.append(title[0].text)\n",
    "    contents.append(content[0].text.replace('\\n','').replace('\\t',''))\n",
    "    comments.append(comment)"
   ]
  },
  {
   "cell_type": "code",
   "execution_count": 193,
   "id": "b56f660e",
   "metadata": {},
   "outputs": [
    {
     "data": {
      "text/plain": [
       "'생성형 AI 최대 수혜주 엔비디아 간만에 1.37%↑(상보)'"
      ]
     },
     "execution_count": 193,
     "metadata": {},
     "output_type": "execute_result"
    }
   ],
   "source": [
    "titles[0]"
   ]
  },
  {
   "cell_type": "code",
   "execution_count": 194,
   "id": "ea792c3e",
   "metadata": {},
   "outputs": [
    {
     "data": {
      "text/plain": [
       "'엔비디아 일일 주가추이 - 야후 파이낸스 갈무리(서울=뉴스1) 박형기 기자 = 최근 생성형 인공지능(AI) 버블 경고가 나오며 약세를 면치 못했던 엔비디아가 간만에 상승했다. 13일(현지시간) 뉴욕증시에서 엔비디아는 전거래일보다 1.37% 상승한 454.85 달러를 기록했다. 이날 엔비디아와 관련한 특별한 재료는 없었다. 미국의 전월 소비자물가지수(CPI)가 상승했음에도 미국 증시가 다우를 제외하고 모두 상승하자 엔비디아도 상승한 것으로 보인다. 이날 미국증시는 다우가 0.20% 하락한 데 비해 S&P500은 0.13%, 나스닥은 0.29% 각각 상승했다.이는 CPI가 상승했으나 변동성이 높은 식품과 에너지 가격을 제외한 ‘근원 CPI’는 시장의 예상에 부합했기 때문으로 풀이된다. 나스닥의 상승폭이 비교적 컸다. 이에 따라 엔비디아도 상승한 것으로 보인다. 엔비디아뿐만 아니라 ‘제2의 엔비디아’로 불리는 AMD도 2.28% 급등했다.'"
      ]
     },
     "execution_count": 194,
     "metadata": {},
     "output_type": "execute_result"
    }
   ],
   "source": [
    "contents[0]"
   ]
  },
  {
   "cell_type": "code",
   "execution_count": 201,
   "id": "014337a7",
   "metadata": {},
   "outputs": [
    {
     "data": {
      "text/plain": [
       "[[],\n",
       " ['중공서 소리 없이 테슬라 목 비틀고 있다.',\n",
       "  '어이폰15 한쿡만 비싸졌네',\n",
       "  '파인디앤씨...최저가매집찬스 풀매집해두시오',\n",
       "  '중국공산당규제와 최근 아이폰15가 혁신이 부족했다는 점이 애플 주가하락을 불러왔네요. 하지만 애플은 언제나 판매량으로보여주니 판매량이 잘나온다면 다시 주가가 상승할 것으로보입니다 ㅎㅎ 그렇다면 지금 애플주식을 사야겠네요 ㅎㅎ 주식으로 부자되는 방법 latesuccess.tistory.com',\n",
       "  '애플 망하는것 봤지 섹렬아?? 우리가 중국한테 뎀비면 당장 폭망, 굶어죽는다 알긋나?? 다소 맘에 안내키더라도 시진핑과 중국을 하늘같이 섬겨라. 우리의 5000년 주인이다. 솔까 우리는 중국의 속국이었지.'],\n",
       " [],\n",
       " ['마이뭇다 아이가 숨고르기하는거지', '50조 부자가 500억 팔았다. 호들갑 좀 떨지마라.', '엔디비아 대주주 매도']]"
      ]
     },
     "execution_count": 201,
     "metadata": {},
     "output_type": "execute_result"
    }
   ],
   "source": [
    "comments"
   ]
  },
  {
   "cell_type": "markdown",
   "id": "748159fc",
   "metadata": {},
   "source": [
    "- <span style = 'font-size:1.2em;line-height:1.5em'><b>단일 데이터에 대해서 제목, 본문, 댓글부터 추출해보자</b></span>"
   ]
  },
  {
   "cell_type": "code",
   "execution_count": 202,
   "id": "853bd08e",
   "metadata": {},
   "outputs": [],
   "source": [
    "# 페이지 로드를 위해 기다리는 시간\n",
    "driver.implicitly_wait(3)\n",
    "\n",
    "url = df_link['link'][3]\n",
    "driver.get(url)"
   ]
  },
  {
   "cell_type": "code",
   "execution_count": 210,
   "id": "034cc0c9",
   "metadata": {},
   "outputs": [
    {
     "name": "stdout",
     "output_type": "stream",
     "text": [
      "https://n.news.naver.com/mnews/article/008/0004937630?sid=101\n"
     ]
    }
   ],
   "source": [
    "print(url)"
   ]
  },
  {
   "cell_type": "code",
   "execution_count": 214,
   "id": "2ab7f7d6",
   "metadata": {},
   "outputs": [
    {
     "name": "stdout",
     "output_type": "stream",
     "text": [
      "\"젠슨 황, 주식 왜 팔았어?\"…엔비디아, 올들어 최장기 하락세\n"
     ]
    }
   ],
   "source": [
    "# 제목, 본문을 추출하는 코드를 작성하시오.\n",
    "title = driver.find_elements(\n",
    "    By.CLASS_NAME, 'media_end_head_headline'\n",
    ")\n",
    "for x in title:\n",
    "    print(x.text)"
   ]
  },
  {
   "cell_type": "code",
   "execution_count": 223,
   "id": "941d37b2",
   "metadata": {
    "scrolled": true
   },
   "outputs": [
    {
     "name": "stdout",
     "output_type": "stream",
     "text": [
      "엔비디아 /로이터=뉴스1\n",
      "\n",
      "AI 최애주로 각광받는 엔비디아가 12일(현지시간) 증권사의 긍정적인 평가에도 5거래일째 하락세를 이어갔다.\n",
      "\n",
      "엔비디아는 이날 0.7% 하락한 448.70달러로 마감했다.\n",
      "\n",
      "엔비디아는 지난 6일부터 이날까지 5거래일 연속 약세를 이어가며 7.6% 떨어졌다. 이는 지난해 12월20일까지 5거래일 연속 하락한 이후 최장기 내림세다.\n",
      "\n",
      "엔비디아는 지난 8월31일 493.55달러로 사상최고치를 기록한 뒤 9월 들어 9.1% 내려갔다.\n",
      "\n",
      "이날 뱅크 오브 아메리카는 보고서를 통해 뱅크 오브 아메리카 글로벌 AI 콘퍼런스에서 엔비디아 경영진과 면담한 후 엔비디아에 대해 이전보다 더욱 낙관적이 됐다며 '매수' 의견을 유지했다.\n",
      "\n",
      "뱅크 오브 아메리카는 \"(엔비디아 경영진과) 대화를 나눈 뒤 엔비디아가 성장 모멘텀을 유지할 수 있는 역량을 갖췄다는 믿음이 커졌다\"며 \"엔비디아는 가속 서버 및 생성형 AI 칩 사용이 늘면서 수혜를 받고 있는데 가속 서버 및 생성형 AI 칩 채택율은 1조달러에 이르는 클라우드 회사와 기업 데이터센터에서 10~15%에 불과할 뿐\"이라고 밝혔다.\n",
      "\n",
      "투자 전문 매체인 배런스는 엔비디아 주가가 9월 들어 하락한데 대해 몇 가지 이유가 있다고 지적했다.\n",
      "\n",
      "첫째는 투자자들의 차익 실현이다. 엔비디아는 지난 8월31일 493.55달러로 사상최고치를 경신한 뒤 하락세를 타고 있다. 493.55달러면 올들어 상승률이 238%에 달한다.\n",
      "\n",
      "엔비디아는 지난 8월에 놀랄만한 실적을 발표한 뒤에도 오히려 주가가 하락했다. 긍정적인 소문에 사서 막상 좋은 소식이 나오면 판다는 월가 격언이 그대로 이뤄진 것이다.\n",
      "\n",
      "둘째는 국채수익률 문제다. 최근 국채수익률이 높은 수준을 유지하면서 엔비디아와 같은 고성장주가 고전하고 있다.\n",
      "\n",
      "셋째는 중국에 대한 우려다. 중국이 중앙정부 공무원들에게 아이폰 사용을 금지했다는 소식에 애플 주가가 하락하자 여전히 중국 매출 비중이 높은 엔비디아도 덩달아 타격을 받는 모습이다.\n",
      "\n",
      "넷째는 엔비디아 내부자의 주식 매도다. 지난 7일 미국 증권거래위원회(SEC)에 제출된 공시 자료에 따르면 젠슨 황 엔비디아 최고경영자(CEO)는 9월1~6일에 엔비디아 주식을 2만9788주 장내 매도했다.\n",
      "\n",
      "이 주식은 스톡옵션을 실행해 얻은 것으로 행사가격이 주당 4달러에 불과하다.\n",
      "\n",
      "지난달 말에는 오랫동안 엔비디아 이사회에서 이사로 활동해온 마크 스티븐슨과 최고채무책임자(CFO)인 콜레트 크레스가 엔비디아 주식을 대거 팔아치웠다.\n",
      "\n",
      "하지만 이날 보고서를 낸 뱅크 오브 아메리카를 포함해 월가 애널리스트들은 엔비디아에 대해 계속 긍정적으로 평가하고 있다.\n",
      "\n",
      "팩트셋에 따르면 엔비디아를 커버하는 애널리스트 52명 가운데 49명이 '매수' 의견을 부여하고 있으며 전체 애널리스트들의 평균 목표주가는 624달러에 이른다. 이는 이날 종가 대비 39%의 상승을 의미하는 것이다.\n",
      "\n",
      "권성희 기자 (shkwon@mt.co.kr)\n",
      "기자 프로필\n",
      "권성희 기자\n",
      "구독\n",
      "구독자 13,310\n",
      "응원수 3,892\n",
      "中 아이폰 금지에 화웨이 돌풍까지…애플 주가는 어디로?[오미주]\n",
      "테슬라 신중론자, 테슬람이 된 이유…\"상상 이상 더 큰 것이 온다\"\n",
      "Copyright ⓒ 머니투데이. All rights reserved. 무단 전재 및 재배포 금지.\n",
      "이 기사는 언론사에서 경제 섹션으로 분류했습니다.\n",
      "구독\n",
      "메인에서\n",
      "바로 보는 언론사 편집 뉴스 지금 바로 구독해보세요!\n",
      "다시 보는 기상천외한 사건 사고 [뉴스속오늘]\n",
      "QR 코드를 클릭하면 크게 볼 수 있어요.\n",
      "머니투데이 스타트업 미디어 플랫폼 [유니콘팩토리]\n",
      "QR 코드를 클릭하면 크게 볼 수 있어요.\n",
      "주요뉴스\n",
      "해당 언론사에서 선정하며 언론사 페이지(아웃링크)로 이동해 볼 수 있습니다.\n",
      "홍지윤 \"전남친에 월급통장 줬는데…후배와 바람나\"\n",
      "송가인의 결혼 열망…\"미팅 실패 후 울었다\"\n",
      "김보성 \"두 아들과 연락두절, 근황 몰라…'사나이' 강조한 내 책임\"\n",
      "\"명품백 환불해\"…장영란, 大자로 누운 ♥한창에 눈치보더니\n",
      "신현지 \"13살 때부터 공황…식이장애까지 오면서 13㎏ 빠져\"\n",
      "이 기사를 추천합니다\n",
      "쏠쏠정보\n",
      "0\n",
      "흥미진진\n",
      "0\n",
      "공감백배\n",
      "0\n",
      "분석탁월\n",
      "0\n",
      "후속강추\n",
      "1\n",
      "\n",
      "머니투데이 언론사홈 바로가기\n",
      "\n"
     ]
    }
   ],
   "source": [
    "content = driver.find_elements(\n",
    "    By.CLASS_NAME, 'newsct_body'\n",
    ")\n",
    "for x in content:\n",
    "    print(x.text)\n",
    "    print()"
   ]
  },
  {
   "cell_type": "code",
   "execution_count": 216,
   "id": "785f875d",
   "metadata": {},
   "outputs": [
    {
     "name": "stdout",
     "output_type": "stream",
     "text": [
      "마이뭇다 아이가 숨고르기하는거지\n",
      "\n",
      "50조 부자가 500억 팔았다. 호들갑 좀 떨지마라.\n",
      "\n",
      "엔디비아 대주주 매도\n",
      "\n"
     ]
    }
   ],
   "source": [
    "comment = driver.find_elements(\n",
    "    By.CLASS_NAME, 'u_cbox_contents'\n",
    ")\n",
    "for x in comment:\n",
    "    print(x.text)\n",
    "    print()"
   ]
  },
  {
   "cell_type": "markdown",
   "id": "508af198",
   "metadata": {},
   "source": [
    "### 댓글 더보기 버튼 (베댓 말고 전체 댓글 보기)\n",
    "#### 댓글이 존재한다면 활성화되는 버튼"
   ]
  },
  {
   "cell_type": "code",
   "execution_count": 188,
   "id": "32f1ffbd",
   "metadata": {},
   "outputs": [],
   "source": [
    "all_comment_btn = driver.find_element(By.CLASS_NAME, 'u_cbox_in_view_comment')\n",
    "all_comment_btn.click()"
   ]
  },
  {
   "cell_type": "markdown",
   "id": "6eec2666",
   "metadata": {},
   "source": [
    "### 댓글 더보기 버튼 (추가로 댓글 보기)\n",
    "\n",
    "#### 댓글이 10개 이상 존재한다면 활성화되는 버튼"
   ]
  },
  {
   "cell_type": "code",
   "execution_count": 189,
   "id": "e078e601",
   "metadata": {},
   "outputs": [],
   "source": [
    "more_comment_btn = driver.find_element(By.CLASS_NAME, 'u_cbox_btn_more')\n",
    "\n",
    "while True:\n",
    "    try: # 댓글 더보기 버튼이 있으면\n",
    "        more_comment.click() # 계속 클릭하고\n",
    "    except: # 없으면\n",
    "        break # Stop!"
   ]
  },
  {
   "cell_type": "code",
   "execution_count": 190,
   "id": "48870ec2",
   "metadata": {},
   "outputs": [],
   "source": [
    "comments = driver.find_elements(By.CLASS_NAME, 'u_cbox_contents') \n",
    "comments = [x.text for x in comments]"
   ]
  },
  {
   "cell_type": "code",
   "execution_count": 191,
   "id": "466efb45",
   "metadata": {},
   "outputs": [
    {
     "data": {
      "text/plain": [
       "['마이뭇다 아이가 숨고르기하는거지', '50조 부자가 500억 팔았다. 호들갑 좀 떨지마라.', '엔디비아 대주주 매도']"
      ]
     },
     "execution_count": 191,
     "metadata": {},
     "output_type": "execute_result"
    }
   ],
   "source": [
    "comments"
   ]
  },
  {
   "cell_type": "markdown",
   "id": "fc320e30",
   "metadata": {},
   "source": [
    "- <span style = 'font-size:1.2em;line-height:1.5em'><b>이제 모든 링크에 대해서 데이터를 추출해보자.</b></span>"
   ]
  },
  {
   "cell_type": "markdown",
   "id": "3579746d",
   "metadata": {},
   "source": [
    "- Beautiful Soup Version"
   ]
  },
  {
   "cell_type": "code",
   "execution_count": 258,
   "id": "66cd9ce2",
   "metadata": {},
   "outputs": [],
   "source": [
    "results = []\n",
    "\n",
    "for url in df_link['link']:\n",
    "    driver.get(url)\n",
    "    page = driver.page_source\n",
    "    bs_obj = BeautifulSoup(page, 'html.parser')\n",
    "    \n",
    "    title = bs_obj.find_all('h2', {'id': 'title_area'})\n",
    "    content = bs_obj.find_all('article', {'id': 'dic_area'})\n",
    "    \n",
    "    com = driver.find_elements(By.CLASS_NAME, 'u_cbox_contents') \n",
    "    comments = [x.text for x in com]\n",
    "    \n",
    "    # 각 URL에 대한 데이터를 딕셔너리로 저장\n",
    "    data = {\n",
    "        'url': url,\n",
    "        'titles': title[0].text if title else '',\n",
    "        'contents': content[0].text.replace('\\n', '').replace('\\t', '') if content else '',\n",
    "        'comments': comments\n",
    "    }\n",
    "    \n",
    "    # 결과를 results 리스트에 추가\n",
    "    results.append(data)\n",
    "\n",
    "results = pd.DataFrame(results)"
   ]
  },
  {
   "cell_type": "code",
   "execution_count": 259,
   "id": "c17d8a94",
   "metadata": {},
   "outputs": [
    {
     "data": {
      "text/html": [
       "<div>\n",
       "<style scoped>\n",
       "    .dataframe tbody tr th:only-of-type {\n",
       "        vertical-align: middle;\n",
       "    }\n",
       "\n",
       "    .dataframe tbody tr th {\n",
       "        vertical-align: top;\n",
       "    }\n",
       "\n",
       "    .dataframe thead th {\n",
       "        text-align: right;\n",
       "    }\n",
       "</style>\n",
       "<table border=\"1\" class=\"dataframe\">\n",
       "  <thead>\n",
       "    <tr style=\"text-align: right;\">\n",
       "      <th></th>\n",
       "      <th>url</th>\n",
       "      <th>titles</th>\n",
       "      <th>contents</th>\n",
       "      <th>comments</th>\n",
       "    </tr>\n",
       "  </thead>\n",
       "  <tbody>\n",
       "    <tr>\n",
       "      <th>0</th>\n",
       "      <td>https://n.news.naver.com/mnews/article/421/000...</td>\n",
       "      <td>생성형 AI 최대 수혜주 엔비디아 간만에 1.37%↑(상보)</td>\n",
       "      <td>엔비디아 일일 주가추이 - 야후 파이낸스 갈무리(서울=뉴스1) 박형기 기자 = 최근...</td>\n",
       "      <td>[]</td>\n",
       "    </tr>\n",
       "    <tr>\n",
       "      <th>1</th>\n",
       "      <td>https://n.news.naver.com/mnews/article/029/000...</td>\n",
       "      <td>고개숙인 애플, 테슬라·엔비디아는 1%대 상승...뉴욕증시</td>\n",
       "      <td>다음 갈무리.    미국 뉴욕증시가 혼조세로 마감했다. 시장 예상을 웃도는  8월 ...</td>\n",
       "      <td>[중공서 소리 없이 테슬라 목 비틀고 있다., 어이폰15 한쿡만 비싸졌네, 파인디앤...</td>\n",
       "    </tr>\n",
       "    <tr>\n",
       "      <th>2</th>\n",
       "      <td>https://n.news.naver.com/mnews/article/421/000...</td>\n",
       "      <td>엔비디아 1.37% 상승, 필라델피아반도체지수 0.55%↑(종합)</td>\n",
       "      <td>필라델피아반도체지수 일일 추이 - 야후 파이낸스 갈무리(서울=뉴스1) 박형기 기자 ...</td>\n",
       "      <td>[]</td>\n",
       "    </tr>\n",
       "    <tr>\n",
       "      <th>3</th>\n",
       "      <td>https://n.news.naver.com/mnews/article/008/000...</td>\n",
       "      <td>\"젠슨 황, 주식 왜 팔았어?\"…엔비디아, 올들어 최장기 하락세</td>\n",
       "      <td>엔비디아 /로이터=뉴스1AI 최애주로 각광받는 엔비디아가 12일(현지시간) 증권사의...</td>\n",
       "      <td>[마이뭇다 아이가 숨고르기하는거지, 50조 부자가 500억 팔았다. 호들갑 좀 떨지...</td>\n",
       "    </tr>\n",
       "  </tbody>\n",
       "</table>\n",
       "</div>"
      ],
      "text/plain": [
       "                                                 url  \\\n",
       "0  https://n.news.naver.com/mnews/article/421/000...   \n",
       "1  https://n.news.naver.com/mnews/article/029/000...   \n",
       "2  https://n.news.naver.com/mnews/article/421/000...   \n",
       "3  https://n.news.naver.com/mnews/article/008/000...   \n",
       "\n",
       "                                 titles  \\\n",
       "0     생성형 AI 최대 수혜주 엔비디아 간만에 1.37%↑(상보)   \n",
       "1      고개숙인 애플, 테슬라·엔비디아는 1%대 상승...뉴욕증시   \n",
       "2  엔비디아 1.37% 상승, 필라델피아반도체지수 0.55%↑(종합)   \n",
       "3   \"젠슨 황, 주식 왜 팔았어?\"…엔비디아, 올들어 최장기 하락세   \n",
       "\n",
       "                                            contents  \\\n",
       "0  엔비디아 일일 주가추이 - 야후 파이낸스 갈무리(서울=뉴스1) 박형기 기자 = 최근...   \n",
       "1  다음 갈무리.    미국 뉴욕증시가 혼조세로 마감했다. 시장 예상을 웃도는  8월 ...   \n",
       "2  필라델피아반도체지수 일일 추이 - 야후 파이낸스 갈무리(서울=뉴스1) 박형기 기자 ...   \n",
       "3  엔비디아 /로이터=뉴스1AI 최애주로 각광받는 엔비디아가 12일(현지시간) 증권사의...   \n",
       "\n",
       "                                            comments  \n",
       "0                                                 []  \n",
       "1  [중공서 소리 없이 테슬라 목 비틀고 있다., 어이폰15 한쿡만 비싸졌네, 파인디앤...  \n",
       "2                                                 []  \n",
       "3  [마이뭇다 아이가 숨고르기하는거지, 50조 부자가 500억 팔았다. 호들갑 좀 떨지...  "
      ]
     },
     "execution_count": 259,
     "metadata": {},
     "output_type": "execute_result"
    }
   ],
   "source": [
    "df_comments = results\n",
    "df_comments"
   ]
  },
  {
   "cell_type": "markdown",
   "id": "68a56b46",
   "metadata": {},
   "source": [
    "- Webdriver Version"
   ]
  },
  {
   "cell_type": "code",
   "execution_count": 265,
   "id": "be9bfa79",
   "metadata": {},
   "outputs": [],
   "source": [
    "results = []\n",
    "\n",
    "for url in df_link['link']:\n",
    "    driver.get(url)\n",
    "    page = driver.page_source\n",
    "    bs_obj = BeautifulSoup(page, 'html.parser')\n",
    "    \n",
    "    tit = driver.find_elements(By.CLASS_NAME, 'media_end_head_headline')\n",
    "    title = [x.text for x in tit]\n",
    "    \n",
    "    cont = driver.find_elements(By.CLASS_NAME, 'newsct_body')\n",
    "    content = [x.text.replace('\\n', '').replace('\\t', '') for x in cont]\n",
    "    \n",
    "    com = driver.find_elements(By.CLASS_NAME, 'u_cbox_contents') \n",
    "    comments = [x.text for x in com]\n",
    "    \n",
    "    # 각 URL에 대한 데이터를 딕셔너리로 저장\n",
    "    data = {\n",
    "        'url': url,\n",
    "        'titles': title[0],\n",
    "        'contents': content[0],\n",
    "        'comments': comments\n",
    "    }\n",
    "    \n",
    "    # 결과를 results 리스트에 추가\n",
    "    results.append(data)\n",
    "\n",
    "results = pd.DataFrame(results)"
   ]
  },
  {
   "cell_type": "code",
   "execution_count": 266,
   "id": "f4027a0a",
   "metadata": {},
   "outputs": [
    {
     "data": {
      "text/html": [
       "<div>\n",
       "<style scoped>\n",
       "    .dataframe tbody tr th:only-of-type {\n",
       "        vertical-align: middle;\n",
       "    }\n",
       "\n",
       "    .dataframe tbody tr th {\n",
       "        vertical-align: top;\n",
       "    }\n",
       "\n",
       "    .dataframe thead th {\n",
       "        text-align: right;\n",
       "    }\n",
       "</style>\n",
       "<table border=\"1\" class=\"dataframe\">\n",
       "  <thead>\n",
       "    <tr style=\"text-align: right;\">\n",
       "      <th></th>\n",
       "      <th>url</th>\n",
       "      <th>titles</th>\n",
       "      <th>contents</th>\n",
       "      <th>comments</th>\n",
       "    </tr>\n",
       "  </thead>\n",
       "  <tbody>\n",
       "    <tr>\n",
       "      <th>0</th>\n",
       "      <td>https://n.news.naver.com/mnews/article/421/000...</td>\n",
       "      <td>생성형 AI 최대 수혜주 엔비디아 간만에 1.37%↑(상보)</td>\n",
       "      <td>엔비디아 일일 주가추이 - 야후 파이낸스 갈무리(서울=뉴스1) 박형기 기자 = 최근...</td>\n",
       "      <td>[]</td>\n",
       "    </tr>\n",
       "    <tr>\n",
       "      <th>1</th>\n",
       "      <td>https://n.news.naver.com/mnews/article/029/000...</td>\n",
       "      <td>고개숙인 애플, 테슬라·엔비디아는 1%대 상승...뉴욕증시</td>\n",
       "      <td>다음 갈무리.미국 뉴욕증시가 혼조세로 마감했다. 시장 예상을 웃도는 8월 소비자물가...</td>\n",
       "      <td>[중공서 소리 없이 테슬라 목 비틀고 있다., 어이폰15 한쿡만 비싸졌네, 파인디앤...</td>\n",
       "    </tr>\n",
       "    <tr>\n",
       "      <th>2</th>\n",
       "      <td>https://n.news.naver.com/mnews/article/421/000...</td>\n",
       "      <td>엔비디아 1.37% 상승, 필라델피아반도체지수 0.55%↑(종합)</td>\n",
       "      <td>필라델피아반도체지수 일일 추이 - 야후 파이낸스 갈무리(서울=뉴스1) 박형기 기자 ...</td>\n",
       "      <td>[]</td>\n",
       "    </tr>\n",
       "    <tr>\n",
       "      <th>3</th>\n",
       "      <td>https://n.news.naver.com/mnews/article/008/000...</td>\n",
       "      <td>\"젠슨 황, 주식 왜 팔았어?\"…엔비디아, 올들어 최장기 하락세</td>\n",
       "      <td>엔비디아 /로이터=뉴스1AI 최애주로 각광받는 엔비디아가 12일(현지시간) 증권사의...</td>\n",
       "      <td>[마이뭇다 아이가 숨고르기하는거지, 50조 부자가 500억 팔았다. 호들갑 좀 떨지...</td>\n",
       "    </tr>\n",
       "  </tbody>\n",
       "</table>\n",
       "</div>"
      ],
      "text/plain": [
       "                                                 url  \\\n",
       "0  https://n.news.naver.com/mnews/article/421/000...   \n",
       "1  https://n.news.naver.com/mnews/article/029/000...   \n",
       "2  https://n.news.naver.com/mnews/article/421/000...   \n",
       "3  https://n.news.naver.com/mnews/article/008/000...   \n",
       "\n",
       "                                 titles  \\\n",
       "0     생성형 AI 최대 수혜주 엔비디아 간만에 1.37%↑(상보)   \n",
       "1      고개숙인 애플, 테슬라·엔비디아는 1%대 상승...뉴욕증시   \n",
       "2  엔비디아 1.37% 상승, 필라델피아반도체지수 0.55%↑(종합)   \n",
       "3   \"젠슨 황, 주식 왜 팔았어?\"…엔비디아, 올들어 최장기 하락세   \n",
       "\n",
       "                                            contents  \\\n",
       "0  엔비디아 일일 주가추이 - 야후 파이낸스 갈무리(서울=뉴스1) 박형기 기자 = 최근...   \n",
       "1  다음 갈무리.미국 뉴욕증시가 혼조세로 마감했다. 시장 예상을 웃도는 8월 소비자물가...   \n",
       "2  필라델피아반도체지수 일일 추이 - 야후 파이낸스 갈무리(서울=뉴스1) 박형기 기자 ...   \n",
       "3  엔비디아 /로이터=뉴스1AI 최애주로 각광받는 엔비디아가 12일(현지시간) 증권사의...   \n",
       "\n",
       "                                            comments  \n",
       "0                                                 []  \n",
       "1  [중공서 소리 없이 테슬라 목 비틀고 있다., 어이폰15 한쿡만 비싸졌네, 파인디앤...  \n",
       "2                                                 []  \n",
       "3  [마이뭇다 아이가 숨고르기하는거지, 50조 부자가 500억 팔았다. 호들갑 좀 떨지...  "
      ]
     },
     "execution_count": 266,
     "metadata": {},
     "output_type": "execute_result"
    }
   ],
   "source": [
    "df_comments = results\n",
    "df_comments"
   ]
  },
  {
   "cell_type": "markdown",
   "id": "ac2ab19a",
   "metadata": {},
   "source": [
    "<span style = 'font-size:1.3em;line-height:1.5em'><b>5. </b>네이버 블로그에서(blog.naver.com) '엔비디아'를 검색한 첫번째 페이지에 있는 글들의 제목, 본문, 링크, 댓글을 추출하여 pandas DataFrame형태로 정리하시오. 단, 반드시 Naver API를 사용해야 하며, 매 페이지를 방문할 때마다 반드시 time.sleep(1)을 입력하시오. (사용할 검색어는 '하이퍼클로바X')</span>"
   ]
  },
  {
   "cell_type": "code",
   "execution_count": 280,
   "id": "7f88cb65",
   "metadata": {},
   "outputs": [],
   "source": [
    "from bs4 import BeautifulSoup\n",
    "import urllib\n",
    "from selenium import webdriver"
   ]
  },
  {
   "cell_type": "code",
   "execution_count": 281,
   "id": "46ba42f6",
   "metadata": {},
   "outputs": [],
   "source": [
    "# Naver API client_id, client_secret을 입력하세요.\n",
    "\n",
    "client_id = 'RWuRpSQWzKGXVmEEjFa3'\n",
    "client_secret = 'ed44ctBboJ'"
   ]
  },
  {
   "cell_type": "code",
   "execution_count": 283,
   "id": "96667b24",
   "metadata": {},
   "outputs": [],
   "source": [
    "query = '엔디비아'\n",
    "encQuery = urllib.parse.quote(query)\n",
    "n_display = 10\n",
    "start = 1\n",
    "sort = 'sim'"
   ]
  },
  {
   "cell_type": "markdown",
   "id": "1f68aa97",
   "metadata": {},
   "source": [
    "## 검색어에 대한 블로그 검색결과(link, postdate) 추출하기"
   ]
  },
  {
   "cell_type": "code",
   "execution_count": 284,
   "id": "ea6d7066",
   "metadata": {},
   "outputs": [],
   "source": [
    "url = \"https://openapi.naver.com/v1/search/blog?query=\" + encQuery # JSON 결과\n",
    "request = urllib.request.Request(url)\n",
    "request.add_header(\"X-Naver-Client-Id\",client_id)\n",
    "request.add_header(\"X-Naver-Client-Secret\",client_secret)\n",
    "response = urllib.request.urlopen(request)\n",
    "rescode = response.getcode()\n",
    "if(rescode==200):\n",
    "    response_body = response.read()\n",
    "#     print(response_body.decode('utf-8'))\n",
    "else:\n",
    "    print(\"Error Code:\" + rescode)"
   ]
  },
  {
   "cell_type": "code",
   "execution_count": 285,
   "id": "12ec3b45",
   "metadata": {
    "scrolled": true
   },
   "outputs": [
    {
     "data": {
      "text/plain": [
       "[{'title': '<b>엔디비아</b>와 삼정전자의 만남 다급한 해결사는 유진테크 주가 전망',\n",
       "  'link': 'https://blog.naver.com/ajbirthdayis1122/223203055770',\n",
       "  'description': '이슈 분석 <b>엔디비아</b> - 삼성전자로부터 HBM3제품 공급 최근 삼성전자 주주분들께 확실한 이정표를 엔비디아 젠 상황께서 제시해 주셨다. 사실 <b>엔디비아</b>는 TSMC 독주에 발맞춰 몰아주기 식이었지만 최근의... ',\n",
       "  'bloggername': '왕장군의 주식정벌',\n",
       "  'bloggerlink': 'blog.naver.com/ajbirthdayis1122',\n",
       "  'postdate': '20230906'},\n",
       " {'title': '<b>엔디비아</b> 주가를 보며 든 생각 S&amp;P 500 ETF 장기투자... ',\n",
       "  'link': 'https://blog.naver.com/gmlwjd715/223111165593',\n",
       "  'description': '<b>엔디비아</b> 주가차트 그래프를 보고 나니, 개인은 S&amp;P 500 지수 추종 ETF에 퇴직연금 DC + 연금저축펀드에 투자하고 나머지 금액은 인생의 행복을 위해 적절히 소비하는 삶. = 걱정 없는 편안한 삶이지 않을까... ',\n",
       "  'bloggername': '쩡이언니와 그남자',\n",
       "  'bloggerlink': 'blog.naver.com/gmlwjd715',\n",
       "  'postdate': '20230525'},\n",
       " {'title': '<b>엔디비아</b> 주가 전망 2023년 실적발표 가이던스 충격',\n",
       "  'link': 'https://blog.naver.com/kikima117/223116769699',\n",
       "  'description': '<b>엔디비아</b> 주가 전망이 급속도로 좋아지면서 많은 사람들이 매수를 하고 있습니다. 작년 9월과... 오늘은 제가 4시간동안 구글링과 챗 GPT를 통해 <b>엔디비아</b>에 대한 모든 정보를 조사한 내용들을 제 블로그에... ',\n",
       "  'bloggername': '실행하는타이탄',\n",
       "  'bloggerlink': 'blog.naver.com/kikima117',\n",
       "  'postdate': '20230531'},\n",
       " {'title': '[<b>엔디비아</b> 관련주] <b>엔디비아</b> 주가 예상',\n",
       "  'link': 'https://blog.naver.com/abcde10/223196255511',\n",
       "  'description': '<b>엔디비아</b>는 생성형 AI 관련주의 최대 대장주로 성장했는데요. 사람처럼 묻고 말하는 챗GPT가 큰... 엔비디아 젠슨 황 <b>엔디비아</b> CEO)는 엔비디아의 연례 개발자 콘퍼런스에서 &quot;AI의 아이폰 시대가 시작됐다... ',\n",
       "  'bloggername': '부자의 풍경',\n",
       "  'bloggerlink': 'blog.naver.com/abcde10',\n",
       "  'postdate': '20230829'},\n",
       " {'title': '엔비디아 관련주, 챗GPT AI에 물어보니 (<b>엔디비아</b> 아닙니다)',\n",
       "  'link': 'https://blog.naver.com/starstarlight/223027196086',\n",
       "  'description': '엔비디아 관련주, 챗GPT AI에 물어보니 (<b>엔디비아</b> 아님) 챗GPT 가 주목을 받으며 GPT-3 에 들어가는... 한참 포스팅을 다 하고 나니 제가 엔비디아를 몽땅 <b>엔디비아</b>로 잘못 써놨더라구요. 심지어 영어도 NVIDIA가... ',\n",
       "  'bloggername': '실버스타의 별빛 마케팅 나침반',\n",
       "  'bloggerlink': 'blog.naver.com/starstarlight',\n",
       "  'postdate': '20230225'},\n",
       " {'title': '인공지능 AI 반도체 관련주 - 엔비디아 주가 전망 (<b>엔디비아</b> 아님)',\n",
       "  'link': 'https://blog.naver.com/resumet/223017388558',\n",
       "  'description': '미국주식 인공지능 AI 반도체 관련주 - 엔비디아 주가 전망 (<b>엔디비아</b> 아님) 인공지능이라는 것이... * 발음이 어려워 그런지 <b>엔디비아</b>로 발음하시는 분들이 있더군요. 심지어 미국주식 블로거들조차... ',\n",
       "  'bloggername': '블루래더 - 경제적 자유를 향한 푸른 사다리',\n",
       "  'bloggerlink': 'blog.naver.com/resumet',\n",
       "  'postdate': '20230216'},\n",
       " {'title': '<b>엔디비아</b> 주가 전망- 비메모리 업종의 상승이라고 생각하지 마라',\n",
       "  'link': 'https://blog.naver.com/billiond/223057438369',\n",
       "  'description': '<b>엔디비아</b>가 급격하게 상승하여 저점 대비 2.5배 이상 올라온 모습을 보여주었습니다. 이에 사람들은... 그렇기에 <b>엔디비아</b>의 경우 기술적 반등에 의한 일시적 상승이라고 보고 있습니다. 여기서 간혹... ',\n",
       "  'bloggername': 'Billion D',\n",
       "  'bloggerlink': 'blog.naver.com/billiond',\n",
       "  'postdate': '20230328'},\n",
       " {'title': '엔비디아 주가 주식 전망 <b>엔디비아</b> 실적 발표 배당금 GPU 관련주',\n",
       "  'link': 'https://blog.naver.com/duswp94/223155773570',\n",
       "  'description': '엔비디아 주가 주식 전망 <b>엔디비아</b> 실적 발표 GPU 관련주. 엔비디아인 거 알고 있는데 <b>엔디비아</b>로 말한 이유는? 네 맞아요. 비밀로 해주세요. 최근에 엔비디아의 주가가 역사적으로 올라가고 있습니다. 이럴 때... ',\n",
       "  'bloggername': '개처물린 주식이야기',\n",
       "  'bloggerlink': 'blog.naver.com/duswp94',\n",
       "  'postdate': '20230714'},\n",
       " {'title': '삼성전자와 SK하이닉스 미국 <b>엔디비아</b> 어닝서프라이즈 수혜... ',\n",
       "  'link': 'https://blog.naver.com/johnkth/223111372387',\n",
       "  'description': '좋아요 구독은 더 좋은 콘텐츠 제작에 큰 힘이 됩니다 안녕하세요 미국 <b>엔디비아</b>가 인공지능AI의 투자증가에 어닝서프라이즈 실적을 내놓으면서 삼성전자와 SK하이닉스에 대한 외국인투자자들의 공격적인... ',\n",
       "  'bloggername': '현명한 투자자의 바른 길잡이',\n",
       "  'bloggerlink': 'blog.naver.com/johnkth',\n",
       "  'postdate': '20230525'},\n",
       " {'title': '엔비디아 (<b>엔디비아</b>) 주가 전망 오를 수밖에 없는 이유... ',\n",
       "  'link': 'https://blog.naver.com/dlacogus5/223049275169',\n",
       "  'description': '참고로 많은 사람들이 엔비디아인지 <b>엔디비아</b> 인지 헷갈려 하시는데 엔비디아가 맞긴 하지만 <b>엔디비아</b>로 네이버에 검색해도 제대로 나옵니다 엔비디아(NVDA) 어떤 기업일까? 엔비디아 (NVDA)는 미국, 대만... ',\n",
       "  'bloggername': '직장인 부자 리치워커 직투',\n",
       "  'bloggerlink': 'blog.naver.com/dlacogus5',\n",
       "  'postdate': '20230319'}]"
      ]
     },
     "execution_count": 285,
     "metadata": {},
     "output_type": "execute_result"
    }
   ],
   "source": [
    "import json\n",
    "items = json.loads(response_body.decode('utf-8'))['items']\n",
    "items"
   ]
  },
  {
   "cell_type": "code",
   "execution_count": 286,
   "id": "4d3ad9ab",
   "metadata": {},
   "outputs": [],
   "source": [
    "def remove_tag(my_str):\n",
    "    ## 태그를 지우는 함수\n",
    "    p = re.compile('(<([^>]+)>)')\n",
    "    return p.sub('', my_str)"
   ]
  },
  {
   "cell_type": "code",
   "execution_count": 287,
   "id": "1cc69687",
   "metadata": {},
   "outputs": [],
   "source": [
    "search_results = response_body.decode('utf-8')\n",
    "search_results = eval(search_results)"
   ]
  },
  {
   "cell_type": "code",
   "execution_count": 118,
   "id": "67139137",
   "metadata": {},
   "outputs": [
    {
     "name": "stdout",
     "output_type": "stream",
     "text": [
      "matching\n",
      "matching\n",
      "matching\n",
      "matching\n",
      "matching\n",
      "matching\n",
      "matching\n",
      "matching\n",
      "matching\n",
      "matching\n"
     ]
    }
   ],
   "source": [
    "## 네이버 블로그 link가 있는 블로그만 검색하는 코드 작성하고, pandas DataFrame으로 변경하기\n",
    "\n",
    "links = []\n",
    "pubdates = []\n"
   ]
  },
  {
   "cell_type": "code",
   "execution_count": 119,
   "id": "c902ad2f",
   "metadata": {},
   "outputs": [],
   "source": [
    "import pandas as pd\n",
    "df_link = pd.DataFrame({'link': links, 'pubdate': pubdates})"
   ]
  },
  {
   "cell_type": "code",
   "execution_count": 120,
   "id": "5c83d74f",
   "metadata": {
    "scrolled": true
   },
   "outputs": [
    {
     "data": {
      "text/html": [
       "<div>\n",
       "<style scoped>\n",
       "    .dataframe tbody tr th:only-of-type {\n",
       "        vertical-align: middle;\n",
       "    }\n",
       "\n",
       "    .dataframe tbody tr th {\n",
       "        vertical-align: top;\n",
       "    }\n",
       "\n",
       "    .dataframe thead th {\n",
       "        text-align: right;\n",
       "    }\n",
       "</style>\n",
       "<table border=\"1\" class=\"dataframe\">\n",
       "  <thead>\n",
       "    <tr style=\"text-align: right;\">\n",
       "      <th></th>\n",
       "      <th>link</th>\n",
       "      <th>pubdate</th>\n",
       "    </tr>\n",
       "  </thead>\n",
       "  <tbody>\n",
       "    <tr>\n",
       "      <th>0</th>\n",
       "      <td>https://blog.naver.com/kimsbsbiz/223192462421</td>\n",
       "      <td>20230824</td>\n",
       "    </tr>\n",
       "    <tr>\n",
       "      <th>1</th>\n",
       "      <td>https://blog.naver.com/anisaver/223193024467</td>\n",
       "      <td>20230825</td>\n",
       "    </tr>\n",
       "    <tr>\n",
       "      <th>2</th>\n",
       "      <td>https://blog.naver.com/sanae_art/223196181774</td>\n",
       "      <td>20230829</td>\n",
       "    </tr>\n",
       "    <tr>\n",
       "      <th>3</th>\n",
       "      <td>https://blog.naver.com/nuzzon603/223193018856</td>\n",
       "      <td>20230825</td>\n",
       "    </tr>\n",
       "    <tr>\n",
       "      <th>4</th>\n",
       "      <td>https://blog.naver.com/ahn-sun/223195045478</td>\n",
       "      <td>20230827</td>\n",
       "    </tr>\n",
       "    <tr>\n",
       "      <th>5</th>\n",
       "      <td>https://blog.naver.com/bbyan/223193425619</td>\n",
       "      <td>20230825</td>\n",
       "    </tr>\n",
       "    <tr>\n",
       "      <th>6</th>\n",
       "      <td>https://blog.naver.com/bye5557/223205561425</td>\n",
       "      <td>20230908</td>\n",
       "    </tr>\n",
       "    <tr>\n",
       "      <th>7</th>\n",
       "      <td>https://blog.naver.com/phjhyyj/223203795787</td>\n",
       "      <td>20230906</td>\n",
       "    </tr>\n",
       "    <tr>\n",
       "      <th>8</th>\n",
       "      <td>https://blog.naver.com/4wheelparts/223192442973</td>\n",
       "      <td>20230824</td>\n",
       "    </tr>\n",
       "    <tr>\n",
       "      <th>9</th>\n",
       "      <td>https://blog.naver.com/gummio/223192428357</td>\n",
       "      <td>20230824</td>\n",
       "    </tr>\n",
       "  </tbody>\n",
       "</table>\n",
       "</div>"
      ],
      "text/plain": [
       "                                              link   pubdate\n",
       "0    https://blog.naver.com/kimsbsbiz/223192462421  20230824\n",
       "1     https://blog.naver.com/anisaver/223193024467  20230825\n",
       "2    https://blog.naver.com/sanae_art/223196181774  20230829\n",
       "3    https://blog.naver.com/nuzzon603/223193018856  20230825\n",
       "4      https://blog.naver.com/ahn-sun/223195045478  20230827\n",
       "5        https://blog.naver.com/bbyan/223193425619  20230825\n",
       "6      https://blog.naver.com/bye5557/223205561425  20230908\n",
       "7      https://blog.naver.com/phjhyyj/223203795787  20230906\n",
       "8  https://blog.naver.com/4wheelparts/223192442973  20230824\n",
       "9       https://blog.naver.com/gummio/223192428357  20230824"
      ]
     },
     "execution_count": 120,
     "metadata": {},
     "output_type": "execute_result"
    }
   ],
   "source": [
    "df_link"
   ]
  },
  {
   "cell_type": "markdown",
   "id": "bed0d39a",
   "metadata": {},
   "source": [
    "## 각 link에 접속하여 제목, 본문, 댓글 받기"
   ]
  },
  {
   "cell_type": "code",
   "execution_count": 121,
   "id": "680a5fa8",
   "metadata": {},
   "outputs": [
    {
     "name": "stderr",
     "output_type": "stream",
     "text": [
      "C:\\Users\\user\\AppData\\Local\\Temp\\ipykernel_1928\\4118828295.py:1: DeprecationWarning: executable_path has been deprecated, please pass in a Service object\n",
      "  driver = webdriver.Chrome('D:\\MyWorkspace\\chromedriver.exe')\n"
     ]
    }
   ],
   "source": [
    "\n",
    "# 페이지 로드를 위해 기다리는 시간\n",
    "driver.implicitly_wait(0.1)\n",
    "\n",
    "url = df_link['link'][4]\n",
    "driver.get(url)"
   ]
  },
  {
   "cell_type": "markdown",
   "id": "154cb067",
   "metadata": {},
   "source": [
    "- <span style = 'font-size:1.2em;line-height:1.5em'><b>단일 데이터에 대해서 제목, 본문, 댓글부터 추출해보자</b></span>"
   ]
  },
  {
   "cell_type": "markdown",
   "id": "919e81f1",
   "metadata": {},
   "source": [
    "#### 네이버 블로그는 본문이 iframe안에 있습니다. 여기로 driver의 위치를 이동해서 본격적으로 scraping을 합니다."
   ]
  },
  {
   "cell_type": "code",
   "execution_count": 122,
   "id": "32f63a32",
   "metadata": {},
   "outputs": [],
   "source": [
    "iframe = driver.find_element('id', 'mainFrame')\n",
    "driver.switch_to.frame(iframe)"
   ]
  },
  {
   "cell_type": "markdown",
   "id": "6fc76e87",
   "metadata": {},
   "source": [
    "- <span style = 'font-size:1.3em;line-height:1.5em'><b>본문</b></span>"
   ]
  },
  {
   "cell_type": "markdown",
   "id": "50bcddc1",
   "metadata": {},
   "source": [
    "- <span style = 'font-size:1.3em;line-height:1.5em'><b>제목</b></span>"
   ]
  },
  {
   "cell_type": "code",
   "execution_count": null,
   "id": "a99ed600",
   "metadata": {},
   "outputs": [],
   "source": [
    "# 제목, 본문을 추출하는 코드를 작성하시오.\n",
    "title = driver.find_elements(\n",
    "    By.##, \n",
    "    ###\n",
    ")\n",
    "\n",
    "content = driver.find_elements(\n",
    "    By.##, \n",
    "    ###\n",
    ")"
   ]
  },
  {
   "cell_type": "code",
   "execution_count": 124,
   "id": "1d30519e",
   "metadata": {
    "scrolled": true
   },
   "outputs": [
    {
     "name": "stdout",
     "output_type": "stream",
     "text": [
      "바로 며칠전 네이버 챗GPT라 불리는 하이퍼클로바X 가 출시되었는데요. 지금은 베타테스트 기간입니다. 현재 대기가 길어 바로 이용할 수 없고 회원가입 대기를 눌러놓으면 가입할 수 있을 때 알림이 옵니다.미리 대기해놓길 추천드려요! 아래링크 참고 ▼CLOVA X무한한 가능성을 여는 새로운 대화의 시작clova-x.naver.com하이퍼클로바X란?네이버가 2021년에 공개한 하이퍼클로바의 업그레이드 모델로, 오픈AI의 챗GPT가 불러온 전 세계적 생성형 AI열풍에 맞서 네이버의 미래를 책임질 비지니스 모델로 선정된 초거대 언어모델이자 인공지능 모델입니다.모바일로도 가능합니다 현재는 클로바X 서비스의 초기 안정성을 위해 3시간에 30개의 대화로 제한이 되어있어요. 추후에 대화 제공 횟수는 변경될 수 있다고 하네요하이퍼클로바X 스킬사용 방법아래 대화창 우측에 활성화 버튼을 누르면 사용 가능한 스킬 2가지가 나오고 두개 다 선택할 수 있어요.스킬을 활성화 해놓는다고 해서 매 질문마다 스킬이 적용되는 것은 아니고 질문에 맞게 제공된다고 합니다.스킬 사용방법: 스킬 활성화 ▷ 사용할 스킬 선택 ▷ 대화입력스킬 추가방법: [프로필>설정>스킬설정] 에서 원하는 스킬 추가 가능*업데이트 예정하이퍼클로바X 의 제일 기대되는건 바로 이 스킬 기능인데요. 스킬기능은 네이버쇼핑 , 네이버여행 의 최신 정보를 연동하여 최저가, 상품 정보 추천 등을 받아볼 수 있는 모드입니다.원래는 검색창에 '4인용쇼파', '헤드레스트 쇼파' 등으로 검색해서 내가 수동으로 찾아야 하지만, 클로바X의 스킬 기능을 이용해 구체적인 질문을 하면 여러개의 상품정보를 제공해 주네요.물론 마음에 드는 상품을 찾기 위해 더 많이 찾아야 할 수도있지만, 이렇게 검색이 되는게 신기하고 좋네요!이번엔 부모님 모시고 다녀오기 좋은 1박 2일 경주여행 코스를 알려달라고 질문을 해봤더니 여러 장소와 간단한 설명이 덧붙여져 있어서 여행코스를 짤 때 참고하기 좋을 것 같더라구요.해당 장소들의 플레이스 링크가 같이 제공되어 자세한 정보는 바로 클릭해서 볼 수 있어서 편했어요 스킬 기능은 앞으로 더 업데이트가 된다고 하니 기대가 되네요.하이퍼클로바X와 챗GPT 비교예시 문장: 넷플릭스 프로그램 중 '마스크걸' 출연진 정보와 1화의 간단한 줄거리 알려줘클로바챗GPT가장 큰 다른점은 챗GPT는 최신 정보가 2021년 9월 업데이트가 마지막입니다반면, 네이버 하이퍼클로바X는 최신정보를 담고 있습니다.바로 어제 새벽에 열린 경기의 승패 결과까지 아주 빠르게 업데이트하여 정보를 제공해주는 것이 가장 큰 장점이네요.그리고 또 하나의 강점은 한국어와 한국 문화 · 맥락에 특화된 서비스이며, 글을 작성할 때도 구어체에 맞게 챗GPT보다 자연스러운 글쓰기가 가능 하다는 점도 있네요.예시 문장: 방울토마토 심는 방법에 대해 글로 작성해줘클로바X챗GPT같은 질문을 했을 때 클로바의 답변내용은 해당 내용이 포함된 블로그와 티스토리 등의 정보를 찾아 제공해주고, 챗GPT의 답변내용은 스스로 학습하는 딥러닝AI 답게 글을 작성해줍니다. 답변의 양도 차이가 큰 것 같네요.오는 11월에 사용자의 피드백을 반영해 순차적으로 기능 고도화가 이루어진다고 하니 대화 갯수 제한도 없어질 것 같습니다. 구체적으로 어떤 기능이 추가된다고 발표된 것은 없습니다.간단하게 알아보았는데요, 앞으로 하이퍼 클로바 로 인해 어떤 변화가 있을지 기대가 됩니다 :)\n"
     ]
    }
   ],
   "source": [
    "print(content)"
   ]
  },
  {
   "cell_type": "markdown",
   "id": "25e23e49",
   "metadata": {},
   "source": [
    "- <span style = 'font-size:1.3em;line-height:1.5em'><b>댓글</b></span>\n",
    "    - <span style = 'font-size:1.1em;line-height:1.5em'>(1) 댓글 보기 버튼 누르기</span>\n",
    "        - <span style = 'font-size:1.0em;line-height:1.5em'>TAG가 `<a>`이며, role속성이 `button`, class 속성에 `btn_comment`, `_cmtList`라는 문자열이 포함되는 녀석만 가지고오고, 클릭하기</span>\n",
    "    - <span style = 'font-size:1.1em;line-height:1.5em'>(2) 모든 댓글 가져오기</span>"
   ]
  },
  {
   "cell_type": "code",
   "execution_count": 126,
   "id": "f508db72",
   "metadata": {
    "scrolled": true
   },
   "outputs": [
    {
     "name": "stdout",
     "output_type": "stream",
     "text": [
      "btn_comment pcol2 _cmtList _param(1|1|223195045478|0|true) _returnFalse\n"
     ]
    }
   ],
   "source": [
    "\n",
    "\n",
    "## (1) 댓글 보기 버튼 누르기\n",
    "a = driver.find_elements(By.TAG_NAME, 'a')\n",
    "### 여기에 코드를 작성하세요.\n",
    "\n",
    "## (2) 모든 댓글 가져오기\n",
    "### 여기에 코드를 작성하세요."
   ]
  },
  {
   "cell_type": "markdown",
   "id": "7134295b",
   "metadata": {},
   "source": [
    "- <span style = 'font-size:1.2em;line-height:1.5em'><b>이제 모든 링크에 대해서 데이터를 추출해보자.</b></span>"
   ]
  },
  {
   "cell_type": "code",
   "execution_count": 127,
   "id": "2ef1ac0a",
   "metadata": {},
   "outputs": [
    {
     "name": "stderr",
     "output_type": "stream",
     "text": [
      "C:\\Users\\user\\AppData\\Local\\Temp\\ipykernel_1928\\2261246184.py:2: DeprecationWarning: executable_path has been deprecated, please pass in a Service object\n",
      "  driver = webdriver.Chrome('D:\\MyWorkspace\\chromedriver.exe')\n"
     ]
    },
    {
     "name": "stdout",
     "output_type": "stream",
     "text": [
      "0\n",
      "1\n",
      "2\n",
      "3\n",
      "4\n",
      "5\n",
      "6\n",
      "7\n",
      "8\n",
      "9\n"
     ]
    }
   ],
   "source": [
    "results = []\n",
    "\n",
    "\n",
    "for i, url in enumerate(df_link['link']):\n",
    "    print(i)\n",
    "    driver.get(url)\n",
    "    iframe = driver.find_element('id', 'mainFrame')\n",
    "    driver.switch_to.frame(iframe)\n",
    "    \n",
    "    title =  # 제목\n",
    "    content = # 본문\n",
    "    \n",
    "    ## (1) 댓글 보기 버튼 누르기 & (2) 모든 댓글 가져오기\n",
    "    a = driver.find_elements(By.TAG_NAME, 'a')\n",
    "    \n",
    "    ## 여기에 코드를 작성하세요.\n",
    "\n",
    "\n",
    "    \n",
    "    comments = \n",
    "    \n",
    "    results.append([url, title, content, comments])"
   ]
  },
  {
   "cell_type": "code",
   "execution_count": 128,
   "id": "9f1a1e26",
   "metadata": {},
   "outputs": [
    {
     "data": {
      "text/html": [
       "<div>\n",
       "<style scoped>\n",
       "    .dataframe tbody tr th:only-of-type {\n",
       "        vertical-align: middle;\n",
       "    }\n",
       "\n",
       "    .dataframe tbody tr th {\n",
       "        vertical-align: top;\n",
       "    }\n",
       "\n",
       "    .dataframe thead th {\n",
       "        text-align: right;\n",
       "    }\n",
       "</style>\n",
       "<table border=\"1\" class=\"dataframe\">\n",
       "  <thead>\n",
       "    <tr style=\"text-align: right;\">\n",
       "      <th></th>\n",
       "      <th>url</th>\n",
       "      <th>title</th>\n",
       "      <th>content</th>\n",
       "      <th>comment</th>\n",
       "    </tr>\n",
       "  </thead>\n",
       "  <tbody>\n",
       "    <tr>\n",
       "      <th>0</th>\n",
       "      <td>https://blog.naver.com/kimsbsbiz/223192462421</td>\n",
       "      <td>하이퍼클로바X 효과, 네이버 30만원 회복 기대...수혜주는 어디?</td>\n",
       "      <td>재테크의 모든 것 - 크존\\n재테크의 모든 정보\\nchzone.co.kr\\n24일 ...</td>\n",
       "      <td>[좋은 내용이네요 ㅎ\\n공감 클릭하고 갑니다 ╹ ◡ ╹]</td>\n",
       "    </tr>\n",
       "    <tr>\n",
       "      <th>1</th>\n",
       "      <td>https://blog.naver.com/anisaver/223193024467</td>\n",
       "      <td>뤼튼을 넘어서는 하이퍼클로바X 네이버 챗GPT의 새로운 모습 어떨까</td>\n",
       "      <td>안\\n녕하세요, 제이디입니다 :) 어제인 8월 24일 오후 4시에 하이퍼클로바X에 ...</td>\n",
       "      <td>[챗GPT 데이터 2019년 아니고 2021년 입니다., 버전에 따라 다르지 않은가...</td>\n",
       "    </tr>\n",
       "    <tr>\n",
       "      <th>2</th>\n",
       "      <td>https://blog.naver.com/sanae_art/223196181774</td>\n",
       "      <td>하이퍼클로바X 사용법 ; CLOVA X 네이버 AI 사용 후기!</td>\n",
       "      <td>네이버가 8월 24일 CHATGPT의 대항마 격인 거대언어모델(LLM) 하이퍼클로바...</td>\n",
       "      <td>[잘보고 갑니다\\n좋은 하루 되세요\\n공감 답방 부탁드려요, , 글 잘 읽고 갑니다...</td>\n",
       "    </tr>\n",
       "    <tr>\n",
       "      <th>3</th>\n",
       "      <td>https://blog.naver.com/nuzzon603/223193018856</td>\n",
       "      <td>[8월 24일 마감시황] 네이버 '하이퍼클로바X' 공개</td>\n",
       "      <td>국내 증시 리뷰\\n[24일 마감시황] 코스피, 엔비디아발 훈풍에 상승…2537.68...</td>\n",
       "      <td>[글도, 사진도 깔끔한 포스팅잘 보고 갑니다 : ) 금요일 상쾌한 하루 되세요!!!\"]</td>\n",
       "    </tr>\n",
       "    <tr>\n",
       "      <th>4</th>\n",
       "      <td>https://blog.naver.com/ahn-sun/223195045478</td>\n",
       "      <td>하이퍼클로바X 사용법 및 후기 챗GPT와 비교 다른점</td>\n",
       "      <td>바로 며칠전 네이버 챗GPT라 불리는 하이퍼클로바X 가 출시되었는데요. 지금은 베타...</td>\n",
       "      <td>[ㅠㅠ블로그는 어떻게 될까 걱정이네요 ㅎㅎ요즘 한창 키우는 재미에 들려있눈데 ㅜㅜㅠ...</td>\n",
       "    </tr>\n",
       "    <tr>\n",
       "      <th>5</th>\n",
       "      <td>https://blog.naver.com/bbyan/223193425619</td>\n",
       "      <td>8/25 경제신문 금요일 - 한은 기준금리 동결, 네이버 AI 하이퍼클로바X 공개,...</td>\n",
       "      <td>매일 기록하는 경제 신문기사.\\n간단한 내용만 보기 쉽게 남깁니다.\\n유익한 글로 ...</td>\n",
       "      <td>[]</td>\n",
       "    </tr>\n",
       "    <tr>\n",
       "      <th>6</th>\n",
       "      <td>https://blog.naver.com/bye5557/223205561425</td>\n",
       "      <td>네이버 GPT 하이퍼클로바X 사용법 및 활용법 소개</td>\n",
       "      <td>오늘은 NAVER의 초거대 언어 모델인 네이버 GPT 하이퍼클로바X 사용법 및 활용...</td>\n",
       "      <td>[와~ 저도 이용해 봐야겠네요~\\n앞으로 인공지능이 얼마나 새상을 바꿀지 기대됩니다...</td>\n",
       "    </tr>\n",
       "    <tr>\n",
       "      <th>7</th>\n",
       "      <td>https://blog.naver.com/phjhyyj/223203795787</td>\n",
       "      <td>네이버 AI 하이퍼클로바X에게 책 추천을 물어봤습니다.</td>\n",
       "      <td>한국형 생성형 인공지능 AI, 네이버 하이퍼클로버X\\n인공지능 기술이 발전하면서 네...</td>\n",
       "      <td>[책은 아직은 사람이 추천하는게 나은듯합니다. 덕분에 새로운 세계에 대한 정보를 제...</td>\n",
       "    </tr>\n",
       "    <tr>\n",
       "      <th>8</th>\n",
       "      <td>https://blog.naver.com/4wheelparts/223192442973</td>\n",
       "      <td>네이버의 하이퍼클로바 X 공개와 첫 느낌</td>\n",
       "      <td>네이버가 만든 생성형 AI 하이퍼클로바 X가 공개되었습니다.\\n챗GPT가 워낙에 쇼...</td>\n",
       "      <td>[포스팅 잘 보고 갑니다 (๑˘ꇴ˘๑)\\n자주 방문드리겠습니다 ㅋ]</td>\n",
       "    </tr>\n",
       "    <tr>\n",
       "      <th>9</th>\n",
       "      <td>https://blog.naver.com/gummio/223192428357</td>\n",
       "      <td>230824 네이버 하이퍼 클로바 X AI 양자 컴퓨터 특징주</td>\n",
       "      <td>상승 순위 종목 키워드\\n시큐레터 : 신규\\n폴라리스 오피스 : 네이버클로바X 공개...</td>\n",
       "      <td>[]</td>\n",
       "    </tr>\n",
       "  </tbody>\n",
       "</table>\n",
       "</div>"
      ],
      "text/plain": [
       "                                               url  \\\n",
       "0    https://blog.naver.com/kimsbsbiz/223192462421   \n",
       "1     https://blog.naver.com/anisaver/223193024467   \n",
       "2    https://blog.naver.com/sanae_art/223196181774   \n",
       "3    https://blog.naver.com/nuzzon603/223193018856   \n",
       "4      https://blog.naver.com/ahn-sun/223195045478   \n",
       "5        https://blog.naver.com/bbyan/223193425619   \n",
       "6      https://blog.naver.com/bye5557/223205561425   \n",
       "7      https://blog.naver.com/phjhyyj/223203795787   \n",
       "8  https://blog.naver.com/4wheelparts/223192442973   \n",
       "9       https://blog.naver.com/gummio/223192428357   \n",
       "\n",
       "                                               title  \\\n",
       "0              하이퍼클로바X 효과, 네이버 30만원 회복 기대...수혜주는 어디?   \n",
       "1              뤼튼을 넘어서는 하이퍼클로바X 네이버 챗GPT의 새로운 모습 어떨까   \n",
       "2                하이퍼클로바X 사용법 ; CLOVA X 네이버 AI 사용 후기!   \n",
       "3                     [8월 24일 마감시황] 네이버 '하이퍼클로바X' 공개   \n",
       "4                      하이퍼클로바X 사용법 및 후기 챗GPT와 비교 다른점   \n",
       "5  8/25 경제신문 금요일 - 한은 기준금리 동결, 네이버 AI 하이퍼클로바X 공개,...   \n",
       "6                       네이버 GPT 하이퍼클로바X 사용법 및 활용법 소개   \n",
       "7                     네이버 AI 하이퍼클로바X에게 책 추천을 물어봤습니다.   \n",
       "8                             네이버의 하이퍼클로바 X 공개와 첫 느낌   \n",
       "9                 230824 네이버 하이퍼 클로바 X AI 양자 컴퓨터 특징주   \n",
       "\n",
       "                                             content  \\\n",
       "0  재테크의 모든 것 - 크존\\n재테크의 모든 정보\\nchzone.co.kr\\n24일 ...   \n",
       "1  안\\n녕하세요, 제이디입니다 :) 어제인 8월 24일 오후 4시에 하이퍼클로바X에 ...   \n",
       "2  네이버가 8월 24일 CHATGPT의 대항마 격인 거대언어모델(LLM) 하이퍼클로바...   \n",
       "3  국내 증시 리뷰\\n[24일 마감시황] 코스피, 엔비디아발 훈풍에 상승…2537.68...   \n",
       "4  바로 며칠전 네이버 챗GPT라 불리는 하이퍼클로바X 가 출시되었는데요. 지금은 베타...   \n",
       "5  매일 기록하는 경제 신문기사.\\n간단한 내용만 보기 쉽게 남깁니다.\\n유익한 글로 ...   \n",
       "6  오늘은 NAVER의 초거대 언어 모델인 네이버 GPT 하이퍼클로바X 사용법 및 활용...   \n",
       "7  한국형 생성형 인공지능 AI, 네이버 하이퍼클로버X\\n인공지능 기술이 발전하면서 네...   \n",
       "8  네이버가 만든 생성형 AI 하이퍼클로바 X가 공개되었습니다.\\n챗GPT가 워낙에 쇼...   \n",
       "9  상승 순위 종목 키워드\\n시큐레터 : 신규\\n폴라리스 오피스 : 네이버클로바X 공개...   \n",
       "\n",
       "                                             comment  \n",
       "0                    [좋은 내용이네요 ㅎ\\n공감 클릭하고 갑니다 ╹ ◡ ╹]  \n",
       "1  [챗GPT 데이터 2019년 아니고 2021년 입니다., 버전에 따라 다르지 않은가...  \n",
       "2  [잘보고 갑니다\\n좋은 하루 되세요\\n공감 답방 부탁드려요, , 글 잘 읽고 갑니다...  \n",
       "3   [글도, 사진도 깔끔한 포스팅잘 보고 갑니다 : ) 금요일 상쾌한 하루 되세요!!!\"]  \n",
       "4  [ㅠㅠ블로그는 어떻게 될까 걱정이네요 ㅎㅎ요즘 한창 키우는 재미에 들려있눈데 ㅜㅜㅠ...  \n",
       "5                                                 []  \n",
       "6  [와~ 저도 이용해 봐야겠네요~\\n앞으로 인공지능이 얼마나 새상을 바꿀지 기대됩니다...  \n",
       "7  [책은 아직은 사람이 추천하는게 나은듯합니다. 덕분에 새로운 세계에 대한 정보를 제...  \n",
       "8              [포스팅 잘 보고 갑니다 (๑˘ꇴ˘๑)\\n자주 방문드리겠습니다 ㅋ]  \n",
       "9                                                 []  "
      ]
     },
     "execution_count": 128,
     "metadata": {},
     "output_type": "execute_result"
    }
   ],
   "source": [
    "df_comments = pd.DataFrame(results, columns=['url', 'title', 'content', 'comment'])\n",
    "df_comments"
   ]
  }
 ],
 "metadata": {
  "kernelspec": {
   "display_name": "Python 3 (ipykernel)",
   "language": "python",
   "name": "python3"
  },
  "language_info": {
   "codemirror_mode": {
    "name": "ipython",
    "version": 3
   },
   "file_extension": ".py",
   "mimetype": "text/x-python",
   "name": "python",
   "nbconvert_exporter": "python",
   "pygments_lexer": "ipython3",
   "version": "3.9.12"
  },
  "varInspector": {
   "cols": {
    "lenName": 16,
    "lenType": 16,
    "lenVar": 40
   },
   "kernels_config": {
    "python": {
     "delete_cmd_postfix": "",
     "delete_cmd_prefix": "del ",
     "library": "var_list.py",
     "varRefreshCmd": "print(var_dic_list())"
    },
    "r": {
     "delete_cmd_postfix": ") ",
     "delete_cmd_prefix": "rm(",
     "library": "var_list.r",
     "varRefreshCmd": "cat(var_dic_list()) "
    }
   },
   "types_to_exclude": [
    "module",
    "function",
    "builtin_function_or_method",
    "instance",
    "_Feature"
   ],
   "window_display": false
  }
 },
 "nbformat": 4,
 "nbformat_minor": 5
}
