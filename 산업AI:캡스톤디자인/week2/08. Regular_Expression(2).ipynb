{
 "cells": [
  {
   "cell_type": "code",
   "execution_count": 3,
   "id": "b0d4fe05",
   "metadata": {},
   "outputs": [],
   "source": [
    "import re"
   ]
  },
  {
   "cell_type": "code",
   "execution_count": 4,
   "id": "f1b3f017",
   "metadata": {},
   "outputs": [],
   "source": [
    "my_str = \"\"\"It's the thought of being young\n",
    "When your heart's just like a drum\n",
    "Beating louder with no way to guard it\n",
    "When it all seems like it's wrong\n",
    "Just sing along to Elton John\n",
    "And to that feeling, we're just getting started\n",
    "When the nights get colder\n",
    "And the rhythms got you falling behind\n",
    "Just dream about that moment\n",
    "When you look yourself right in the eye, eye, eye\n",
    "Then you say\n",
    "I wanna dance\n",
    "The music's got me going\n",
    "Ain't nothing that can stop how we move yeah\n",
    "Let's break our plans\n",
    "And live just like we're golden\n",
    "And roll in like we're dancing fools\n",
    "We don't need to worry\n",
    "'Cause when we fall we know how to land\n",
    "Don't need to talk the talk, just walk the walk tonight\n",
    "'Cause we don't need permission to dance\n",
    "There's always something that's standing in the way\n",
    "But if you don't let it faze ya\n",
    "You'll know just how to break\n",
    "Just keep the right vibe yeah\n",
    "'Cause there's no looking back\n",
    "There ain't no one to prove\n",
    "We don't got this on lock yeah\n",
    "The wait is over\n",
    "The time is now so let's do it right\n",
    "Yeah we'll keep going\n",
    "And stay up until we see the sunrise\n",
    "And we'll say\n",
    "I wanna dance\n",
    "The music's got me going\n",
    "Ain't nothing that can stop how we move yeah\n",
    "Let's break our plans\n",
    "And live just like we're golden\n",
    "And roll in like we're dancing fools\n",
    "We don't need to worry\n",
    "'Cause when we fall we know how to land\n",
    "Don't need to talk the talk, just walk the walk tonight\n",
    "'Cause we don't need permission to dance\n",
    "Da na na na na na na\n",
    "Da na na na na na na\n",
    "Da na na na na na na\n",
    "No, we don't need permission to dance\n",
    "Da na na na na na na\n",
    "Da na na na na na na\n",
    "Da na na na na na na\n",
    "Well let me show ya\n",
    "That we can keep the fire alive\n",
    "'Cause it's not over\n",
    "Till it's over say it one more time\n",
    "Say\n",
    "I wanna dance\n",
    "The music's got me going\n",
    "Ain't nothing that can stop how we move yeah\n",
    "Let's break our plans\n",
    "And live just like we're golden\n",
    "And roll in like we're dancing fools\n",
    "We don't need to worry\n",
    "'Cause when we fall we know how to land\n",
    "Don't need to talk the talk, just walk the walk tonight\n",
    "'Cause we don't need permission to dance\"\"\""
   ]
  },
  {
   "cell_type": "markdown",
   "id": "5886e6e4",
   "metadata": {},
   "source": [
    "# 1. 다양한 정규표현식 예제\n",
    "\n",
    "- 출처: 점프 투 파이썬(https://wikidocs.net/4309)"
   ]
  },
  {
   "cell_type": "markdown",
   "id": "b4d962d4",
   "metadata": {},
   "source": [
    "## (1) 대괄호([])"
   ]
  },
  {
   "cell_type": "code",
   "execution_count": 5,
   "id": "9a4246e0",
   "metadata": {},
   "outputs": [
    {
     "name": "stdout",
     "output_type": "stream",
     "text": [
      "<re.Match object; span=(628, 632), match='talk'>\n",
      "<re.Match object; span=(637, 641), match='talk'>\n",
      "<re.Match object; span=(648, 652), match='walk'>\n",
      "<re.Match object; span=(657, 661), match='walk'>\n",
      "<re.Match object; span=(1324, 1328), match='talk'>\n",
      "<re.Match object; span=(1333, 1337), match='talk'>\n",
      "<re.Match object; span=(1344, 1348), match='walk'>\n",
      "<re.Match object; span=(1353, 1357), match='walk'>\n",
      "<re.Match object; span=(1936, 1940), match='talk'>\n",
      "<re.Match object; span=(1945, 1949), match='talk'>\n",
      "<re.Match object; span=(1956, 1960), match='walk'>\n",
      "<re.Match object; span=(1965, 1969), match='walk'>\n"
     ]
    }
   ],
   "source": [
    "# 패턴\n",
    "# 제일 첫 글자가 임의의 알파벳(대소문자 모두)이고,\n",
    "# 뒤의 세글자가 a,l,k인 문자열과 매칭\n",
    "p = re.compile(\"[a-zA-Z]alk\")\n",
    "results = p.finditer(my_str)\n",
    "for result in results:\n",
    "    print(result)"
   ]
  },
  {
   "cell_type": "markdown",
   "id": "c32d2cc0",
   "metadata": {},
   "source": [
    "## (2) 중괄호({})"
   ]
  },
  {
   "cell_type": "code",
   "execution_count": 6,
   "id": "1d1ea51f",
   "metadata": {},
   "outputs": [
    {
     "name": "stdout",
     "output_type": "stream",
     "text": [
      "<re.Match object; span=(691, 701), match='permission'>\n",
      "<re.Match object; span=(1387, 1397), match='permission'>\n",
      "<re.Match object; span=(1488, 1498), match='permission'>\n",
      "<re.Match object; span=(1999, 2009), match='permission'>\n"
     ]
    }
   ],
   "source": [
    "# 패턴\n",
    "# 앞의 다섯 글자가 p,e,r,m,i\n",
    "# 뒤의 세글자가 i,o,n이며\n",
    "# 그 사이에 s가 1개 이상 3개 이하로 있는 문자열과 매칭\n",
    "p = re.compile('permis{1,3}ion')\n",
    "results = p.finditer(my_str)\n",
    "for result in results:\n",
    "    print(result)"
   ]
  },
  {
   "cell_type": "markdown",
   "id": "5ecb135c",
   "metadata": {},
   "source": [
    "## (3) 소괄호(())"
   ]
  },
  {
   "cell_type": "code",
   "execution_count": 7,
   "id": "36c4cd67",
   "metadata": {},
   "outputs": [
    {
     "name": "stdout",
     "output_type": "stream",
     "text": [
      "<re.Match object; span=(1410, 1419), match='na na na '>\n",
      "<re.Match object; span=(1431, 1440), match='na na na '>\n",
      "<re.Match object; span=(1452, 1461), match='na na na '>\n",
      "<re.Match object; span=(1511, 1520), match='na na na '>\n",
      "<re.Match object; span=(1532, 1541), match='na na na '>\n",
      "<re.Match object; span=(1553, 1562), match='na na na '>\n"
     ]
    }
   ],
   "source": [
    "# 패턴\n",
    "# \"na \"라는 문자열이 3번 반복된 문자열과 매칭\n",
    "p = re.compile(\"(na ){3}\")\n",
    "results = p.finditer(my_str)\n",
    "for result in results:\n",
    "    print(result)"
   ]
  },
  {
   "cell_type": "markdown",
   "id": "1dea5195",
   "metadata": {},
   "source": [
    "## (4) OR(|) "
   ]
  },
  {
   "cell_type": "code",
   "execution_count": 8,
   "id": "8c6262dd",
   "metadata": {},
   "outputs": [
    {
     "name": "stdout",
     "output_type": "stream",
     "text": [
      "<re.Match object; span=(628, 632), match='talk'>\n",
      "<re.Match object; span=(637, 641), match='talk'>\n",
      "<re.Match object; span=(648, 652), match='walk'>\n",
      "<re.Match object; span=(657, 661), match='walk'>\n",
      "<re.Match object; span=(1324, 1328), match='talk'>\n",
      "<re.Match object; span=(1333, 1337), match='talk'>\n",
      "<re.Match object; span=(1344, 1348), match='walk'>\n",
      "<re.Match object; span=(1353, 1357), match='walk'>\n",
      "<re.Match object; span=(1936, 1940), match='talk'>\n",
      "<re.Match object; span=(1945, 1949), match='talk'>\n",
      "<re.Match object; span=(1956, 1960), match='walk'>\n",
      "<re.Match object; span=(1965, 1969), match='walk'>\n"
     ]
    }
   ],
   "source": [
    "# 패턴\n",
    "# talk 혹은 walk의 문자열과 매칭\n",
    "p = re.compile('talk|walk')\n",
    "results = p.finditer(my_str)\n",
    "for result in results:\n",
    "    print(result)"
   ]
  },
  {
   "cell_type": "markdown",
   "id": "38a9d803",
   "metadata": {},
   "source": [
    "## (5) STARTSWITH(^)"
   ]
  },
  {
   "cell_type": "code",
   "execution_count": 9,
   "id": "7920add7",
   "metadata": {},
   "outputs": [
    {
     "name": "stdout",
     "output_type": "stream",
     "text": [
      "<re.Match object; span=(170, 176), match='And to'>\n",
      "<re.Match object; span=(245, 252), match='And the'>\n",
      "<re.Match object; span=(482, 490), match='And live'>\n",
      "<re.Match object; span=(514, 522), match='And roll'>\n",
      "<re.Match object; span=(1021, 1029), match='And stay'>\n",
      "<re.Match object; span=(1058, 1064), match='And we'>\n",
      "<re.Match object; span=(1178, 1186), match='And live'>\n",
      "<re.Match object; span=(1210, 1218), match='And roll'>\n",
      "<re.Match object; span=(1790, 1798), match='And live'>\n",
      "<re.Match object; span=(1822, 1830), match='And roll'>\n"
     ]
    }
   ],
   "source": [
    "# 패턴\n",
    "# 문자열 시작이 대소문자 a로 시작하고,\n",
    "# 그 뒤에 한칸 띄고 영어 대소문자가 1개 이상 있는 문자열과 매칭\n",
    "# re.M을 사용하여 각 라인에서 매칭\n",
    "p = re.compile('^[aA]nd [a-zA-Z]+', re.MULTILINE)\n",
    "results = p.finditer(my_str)\n",
    "for result in results:\n",
    "    print(result)"
   ]
  },
  {
   "cell_type": "markdown",
   "id": "f32d9a76",
   "metadata": {},
   "source": [
    "- <span style = 'font-size:1.1em;line-height:1.5em'><b>주의</b>: 대괄호 안에 ^를 사용하면, \"문자를 제외하고\"의 뜻이다.</span>"
   ]
  },
  {
   "cell_type": "code",
   "execution_count": 10,
   "id": "a9990ad4",
   "metadata": {},
   "outputs": [
    {
     "name": "stdout",
     "output_type": "stream",
     "text": [
      "<re.Match object; span=(8, 11), match='1bc'>\n",
      "<re.Match object; span=(12, 15), match='2bc'>\n"
     ]
    }
   ],
   "source": [
    "# 패턴\n",
    "# 문자열의 첫글자가 소문자 알파벳이 아니고 않고,\n",
    "# 그 뒤에 글자가 b,c인 문자열과 매칭\n",
    "p = re.compile('[^a-z]bc')\n",
    "tmp_str = 'abc bbc 1bc 2bc'\n",
    "results = p.finditer(tmp_str)\n",
    "for result in results:\n",
    "    print(result)"
   ]
  },
  {
   "cell_type": "markdown",
   "id": "571b3837",
   "metadata": {},
   "source": [
    "## (6) ENDSWITH(\\$\\)"
   ]
  },
  {
   "cell_type": "code",
   "execution_count": 11,
   "id": "fe10e2b3",
   "metadata": {},
   "outputs": [
    {
     "name": "stdout",
     "output_type": "stream",
     "text": [
      "<re.Match object; span=(450, 459), match='move yeah'> , 추출 문자열: move yeah\n",
      "<re.Match object; span=(845, 854), match='vibe yeah'> , 추출 문자열: vibe yeah\n",
      "<re.Match object; span=(935, 944), match='lock yeah'> , 추출 문자열: lock yeah\n",
      "<re.Match object; span=(1146, 1155), match='move yeah'> , 추출 문자열: move yeah\n",
      "<re.Match object; span=(1758, 1767), match='move yeah'> , 추출 문자열: move yeah\n"
     ]
    }
   ],
   "source": [
    "# 패턴\n",
    "# 대소문자 알파벳이 1개 이상 존재한 뒤, 한칸 띄고,\n",
    "# 대소문자 y로 시작하며 그 뒤에 e,a,h가 존재하며\n",
    "# 위와 같이 끝나는 문자열과 매칭\n",
    "p = re.compile('[a-zA-Z]+ [yY]eah$', re.MULTILINE)\n",
    "results = p.finditer(my_str)\n",
    "for result in results:\n",
    "    print(result,f\", 추출 문자열: {result.group()}\")"
   ]
  },
  {
   "cell_type": "code",
   "execution_count": 12,
   "id": "4c9b0a0b",
   "metadata": {
    "scrolled": true
   },
   "outputs": [
    {
     "data": {
      "text/plain": [
       "'move yeah'"
      ]
     },
     "execution_count": 12,
     "metadata": {},
     "output_type": "execute_result"
    }
   ],
   "source": [
    "result.group()"
   ]
  },
  {
   "cell_type": "markdown",
   "id": "3697e6ab",
   "metadata": {},
   "source": [
    "# 2. 전방탐색\n",
    "- <span style = 'font-size:1.2em;line-height:1.5em'>문자열의 전방부터 탐색하는 방식</span>"
   ]
  },
  {
   "cell_type": "markdown",
   "id": "1df9409a",
   "metadata": {},
   "source": [
    "## (1) 긍정형 전방탐색\n",
    "- <span style = 'font-size:1.2em;line-height:1.5em'><b>사용: </b>(?=문자)</span>\n",
    "- <span style = 'font-size:1.2em;line-height:1.5em'><b>조건: </b>등호(=)뒤의 문자와 일치하는 텍스트를 전방에서 탐색</span>\n",
    "- <span style = 'font-size:1.2em;line-height:1.5em'><b>결과: </b>문자는 검색 조건으로 사용되나, 결과에는 포함되지 않음</span>"
   ]
  },
  {
   "cell_type": "markdown",
   "id": "c21294a9",
   "metadata": {},
   "source": [
    "### 예제: http://www.naver.com, ftp://000.000.000.000 에서 http, ftp만 추출"
   ]
  },
  {
   "cell_type": "code",
   "execution_count": 13,
   "id": "ad9d6b08",
   "metadata": {},
   "outputs": [
    {
     "name": "stdout",
     "output_type": "stream",
     "text": [
      "['http:', 'ftp:']\n"
     ]
    }
   ],
   "source": [
    "p = re.compile('.+:')\n",
    "tmp_str = '''http://www.naver.com\n",
    "ftp://000.000.000.000'''\n",
    "result = p.findall(tmp_str)\n",
    "print(result)"
   ]
  },
  {
   "cell_type": "markdown",
   "id": "88bedf4f",
   "metadata": {},
   "source": [
    "- <span style = 'font-size:1.0em;line-height:1.5em'>위와 같이 실행하면 http:가 추출(not http). 즉, Colon(:)이 포함됨</span>\n",
    "- <span style = 'font-size:1.0em;line-height:1.5em'>다음과 같이 조건을 주되, 결과를 추출할 때는 포함되지 않도록 할 수 있음</span>"
   ]
  },
  {
   "cell_type": "code",
   "execution_count": 14,
   "id": "9bb94b19",
   "metadata": {},
   "outputs": [
    {
     "name": "stdout",
     "output_type": "stream",
     "text": [
      "['http', 'ftp']\n"
     ]
    }
   ],
   "source": [
    "p = re.compile('.+(?=:)')\n",
    "tmp_str = '''http://www.naver.com\n",
    "ftp://000.000.000.000'''\n",
    "result = p.findall(tmp_str)\n",
    "print(result)"
   ]
  },
  {
   "cell_type": "markdown",
   "id": "30b9fc5d",
   "metadata": {},
   "source": [
    "## (2) 부정형 전방탐색\n",
    "- <span style = 'font-size:1.2em;line-height:1.5em'><b>사용: </b>(?!문자)</span>\n",
    "- <span style = 'font-size:1.2em;line-height:1.5em'><b>조건: </b>not equal(!)뒤의 문자와 일치하지 않는 텍스트를 탐색</span>\n",
    "- <span style = 'font-size:1.2em;line-height:1.5em'><b>결과: </b>문자는 검색 조건으로 사용되며, 해당 문자가 들어있지 않는 텍스트를 탐색</span>"
   ]
  },
  {
   "cell_type": "code",
   "execution_count": 15,
   "id": "36a1cfc6",
   "metadata": {},
   "outputs": [],
   "source": [
    "tmp_str = \"\"\"\n",
    "foo.bar\n",
    "autoexec.bat\n",
    "sendmail.cf\n",
    "autorun.exe\"\"\""
   ]
  },
  {
   "cell_type": "code",
   "execution_count": 16,
   "id": "1e5ed6f9",
   "metadata": {},
   "outputs": [
    {
     "name": "stdout",
     "output_type": "stream",
     "text": [
      "<re.Match object; span=(1, 8), match='foo.bar'>\n",
      "<re.Match object; span=(9, 21), match='autoexec.bat'>\n",
      "<re.Match object; span=(22, 33), match='sendmail.cf'>\n",
      "<re.Match object; span=(34, 45), match='autorun.exe'>\n"
     ]
    }
   ],
   "source": [
    "p = re.compile('.+[.].+$', re.M)\n",
    "results = p.finditer(tmp_str)\n",
    "for result in results:\n",
    "    print(result)"
   ]
  },
  {
   "cell_type": "markdown",
   "id": "9d408c10",
   "metadata": {},
   "source": [
    "- <span style = 'font-size:1.3em;line-height:1.5em'><b>(예제) </b>확장자가 bar가 아닌 문자열을 추출하기 위해선 어떻게 해야할까?</span>"
   ]
  },
  {
   "cell_type": "markdown",
   "id": "9f51f96b",
   "metadata": {},
   "source": [
    "- <span style = 'font-size:1.1em;line-height:1.5em'><b>후보1: </b>다음과 같이 확장자가 b로 시작하지 않는 문자열 추출하는 방법</span>\n",
    "    - <span style = 'font-size:1.0em;line-height:1.5em'>그러나, 이는 확장자가 bat인 문자열을 추출하지 못함</span>"
   ]
  },
  {
   "cell_type": "code",
   "execution_count": 17,
   "id": "18321435",
   "metadata": {},
   "outputs": [
    {
     "name": "stdout",
     "output_type": "stream",
     "text": [
      "<re.Match object; span=(22, 33), match='sendmail.cf'>\n",
      "<re.Match object; span=(34, 45), match='autorun.exe'>\n"
     ]
    }
   ],
   "source": [
    "p = re.compile('.+[.][^b].+', re.M)\n",
    "results = p.finditer(tmp_str)\n",
    "for result in results:\n",
    "    print(result)"
   ]
  },
  {
   "cell_type": "markdown",
   "id": "649d5808",
   "metadata": {},
   "source": [
    "- <span style = 'font-size:1.1em;line-height:1.5em'><b>후보2: </b>첫번째 글자가 b가 아니거나, 두번째 글자가 a가 아니거나, 세번째 글자가 r이 아니거나</span>\n",
    "    - <span style = 'font-size:1.0em;line-height:1.5em'>그러나, 이는 확장자의 길이가 2인 sendmail.cf도 추출하지 못함</span>"
   ]
  },
  {
   "cell_type": "code",
   "execution_count": 18,
   "id": "7cffa4f7",
   "metadata": {},
   "outputs": [
    {
     "name": "stdout",
     "output_type": "stream",
     "text": [
      "<re.Match object; span=(9, 21), match='autoexec.bat'>\n",
      "<re.Match object; span=(34, 45), match='autorun.exe'>\n"
     ]
    }
   ],
   "source": [
    "p = re.compile('.*[.]([^b]..|.[^a].|..[^r])$', re.M)\n",
    "results = p.finditer(tmp_str)\n",
    "for result in results:\n",
    "    print(result)"
   ]
  },
  {
   "cell_type": "markdown",
   "id": "4401c16e",
   "metadata": {},
   "source": [
    "- <span style = 'font-size:1.1em;line-height:1.5em'>결과적으로는 다음과 같이 써야 함</span>"
   ]
  },
  {
   "cell_type": "code",
   "execution_count": 19,
   "id": "815419de",
   "metadata": {},
   "outputs": [
    {
     "name": "stdout",
     "output_type": "stream",
     "text": [
      "<re.Match object; span=(1, 8), match='foo.bar'>\n",
      "<re.Match object; span=(22, 33), match='sendmail.cf'>\n",
      "<re.Match object; span=(34, 45), match='autorun.exe'>\n"
     ]
    }
   ],
   "source": [
    "p = re.compile('.*[.]([^b].?.?|.[^a]?.?|..?[^t]?)$', re.M)\n",
    "results = p.finditer(tmp_str)\n",
    "for result in results:\n",
    "    print(result)"
   ]
  },
  {
   "cell_type": "markdown",
   "id": "5a3e8bc7",
   "metadata": {},
   "source": [
    "- <span style = 'font-size:1.1em;line-height:1.5em'>게다가 여기에 조건이 더 추가된다면? </span>\n",
    "    - <span style = 'font-size:1.0em;line-height:1.5em'>예) 확장자가 bar, exe인 파일은 제외하고 추출</span>\n",
    "- <span style = 'font-size:1.1em;line-height:1.5em'>결국 이렇게 하면 정규표현식을 이해하기 매우 복잡해지고 작성이 어려워짐</span>"
   ]
  },
  {
   "cell_type": "markdown",
   "id": "5ce4adef",
   "metadata": {},
   "source": [
    "- <span style = 'font-size:1.2em;line-height:1.5em'><b>이럴 때 부정형 전방 탐색을 활용하여 쉽게 해결 가능</b></span>\n",
    "- <span style = 'font-size:1.1em;line-height:1.5em'><b>예시1) </b>확장자가 bar인 파일을 제외하고 추출</span>"
   ]
  },
  {
   "cell_type": "code",
   "execution_count": 20,
   "id": "1ebddd1d",
   "metadata": {},
   "outputs": [
    {
     "name": "stdout",
     "output_type": "stream",
     "text": [
      "<re.Match object; span=(9, 21), match='autoexec.bat'>\n",
      "<re.Match object; span=(22, 33), match='sendmail.cf'>\n",
      "<re.Match object; span=(34, 45), match='autorun.exe'>\n"
     ]
    }
   ],
   "source": [
    "p = re.compile('.*[.](?!bar).*$', re.M)\n",
    "results = p.finditer(tmp_str)\n",
    "for result in results:\n",
    "    print(result)"
   ]
  },
  {
   "cell_type": "markdown",
   "id": "7afd26e5",
   "metadata": {},
   "source": [
    "- <span style = 'font-size:1.1em;line-height:1.5em'><b>예시2) </b>확장자가 bar이거나 exe인 파일을 제외하고 추출</span>"
   ]
  },
  {
   "cell_type": "code",
   "execution_count": 21,
   "id": "a54fc7aa",
   "metadata": {},
   "outputs": [
    {
     "name": "stdout",
     "output_type": "stream",
     "text": [
      "<re.Match object; span=(9, 21), match='autoexec.bat'>\n",
      "<re.Match object; span=(22, 33), match='sendmail.cf'>\n"
     ]
    }
   ],
   "source": [
    "p = re.compile('.*[.](?!bar|exe).*$', re.M)\n",
    "results = p.finditer(tmp_str)\n",
    "for result in results:\n",
    "    print(result)"
   ]
  },
  {
   "cell_type": "markdown",
   "id": "6f24a373",
   "metadata": {},
   "source": [
    "# 3. 후방탐색\n",
    "- <span style = 'font-size:1.2em;line-height:1.5em'>문자열의 후방부터 탐색하는 방식</span>"
   ]
  },
  {
   "cell_type": "markdown",
   "id": "79e2209e",
   "metadata": {},
   "source": [
    "## (1) 긍정형 후방탐색\n",
    "- <span style = 'font-size:1.2em;line-height:1.5em'><b>사용: </b>(?<=문자)</span>\n",
    "- <span style = 'font-size:1.2em;line-height:1.5em'><b>조건: </b><=뒤의 문자와 일치하는 텍스트를 후방에서 탐색</span>\n",
    "- <span style = 'font-size:1.2em;line-height:1.5em'><b>결과: </b>문자는 검색 조건으로 사용되나, 결과에는 포함되지 않음</span>"
   ]
  },
  {
   "cell_type": "code",
   "execution_count": 22,
   "id": "67f46be2",
   "metadata": {},
   "outputs": [
    {
     "name": "stdout",
     "output_type": "stream",
     "text": [
      "['www.naver.com', '000.000.000.000']\n"
     ]
    }
   ],
   "source": [
    "p = re.compile('(?<=\\/)[a-z0-9.]+')\n",
    "tmp_str = '''http://www.naver.com\n",
    "ftp://000.000.000.000'''\n",
    "result = p.findall(tmp_str)\n",
    "print(result)"
   ]
  },
  {
   "cell_type": "markdown",
   "id": "8cc6703b",
   "metadata": {},
   "source": [
    "## (2) 부정형 후방탐색\n",
    "- <span style = 'font-size:1.2em;line-height:1.5em'><b>사용: </b>(?<!문자)</span>\n",
    "- <span style = 'font-size:1.2em;line-height:1.5em'><b>조건: </b><!뒤의 문자와 일치하지 않는 텍스트를 후방에서 탐색</span>\n",
    "- <span style = 'font-size:1.2em;line-height:1.5em'><b>결과: </b>문자는 검색 조건으로 사용되며, 해당 문자가 들어있지 않은 텍스트를 탐색</span>"
   ]
  },
  {
   "cell_type": "code",
   "execution_count": 23,
   "id": "022977ef",
   "metadata": {},
   "outputs": [
    {
     "name": "stdout",
     "output_type": "stream",
     "text": [
      "[' 7', ' 755']\n"
     ]
    }
   ],
   "source": [
    "p = re.compile(' (?<!$)[0-9]+')\n",
    "tmp_str = '''121 $100 7 $98 755'''\n",
    "result = p.findall(tmp_str)\n",
    "print(result)"
   ]
  }
 ],
 "metadata": {
  "kernelspec": {
   "display_name": "Python 3 (ipykernel)",
   "language": "python",
   "name": "python3"
  },
  "language_info": {
   "codemirror_mode": {
    "name": "ipython",
    "version": 3
   },
   "file_extension": ".py",
   "mimetype": "text/x-python",
   "name": "python",
   "nbconvert_exporter": "python",
   "pygments_lexer": "ipython3",
   "version": "3.9.12"
  }
 },
 "nbformat": 4,
 "nbformat_minor": 5
}
