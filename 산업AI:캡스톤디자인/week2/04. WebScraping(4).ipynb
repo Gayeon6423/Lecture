{
 "cells": [
  {
   "cell_type": "code",
   "execution_count": 3,
   "id": "94cdcd3c",
   "metadata": {},
   "outputs": [],
   "source": [
    "from bs4 import BeautifulSoup\n",
    "from urllib.request import urlopen"
   ]
  },
  {
   "cell_type": "code",
   "execution_count": 13,
   "id": "e13b9573",
   "metadata": {},
   "outputs": [],
   "source": [
    "endpoint = 'https://api.odcloud.kr/api/RealEstateTradingSvc/v1/getRealEstateTradingCount'\n",
    "service_key = 'eOCWH%2FCPN7A3KO79lNiCypt%2BHQYgfm6wZz1oMjycwpy0%2FVso2V8B15%2BbF%2BW4C2ebWfLahhBwe0YeFMjSA4qbzA%3D%3D'\n",
    "page = 1\n",
    "perpage = 10\n",
    "start_month = '202101'\n",
    "end_month = '202102'\n",
    "region = '11290'\n",
    "trading_type='05'"
   ]
  },
  {
   "cell_type": "code",
   "execution_count": 14,
   "id": "e19a4adf",
   "metadata": {},
   "outputs": [],
   "source": [
    "cond1 = f'cond%5BRESEARCH_DATE%3A%3ALT%5D={end_month}'\n",
    "cond2 = f'cond%5BRESEARCH_DATE%3A%3AGTE%5D={start_month}&'\n",
    "cond3 = f'cond%5BREGION_CD%3A%3AEQ%5D={region}'\n",
    "cond4 = f'cond%5BDEAL_OBJ%3A%3AEQ%5D={trading_type}'\n",
    "\n",
    "url = f'{endpoint}?page={page}&perPage={perpage}&{cond1}&{cond2}&{cond3}&{cond4}&serviceKey={service_key}'"
   ]
  },
  {
   "cell_type": "code",
   "execution_count": 15,
   "id": "a753dccb",
   "metadata": {},
   "outputs": [],
   "source": [
    "cond1 = f'cond%5BRESEARCH_DATE%3A%3ALT%5D={end_month}'\n",
    "cond2 = f'cond%5BRESEARCH_DATE%3A%3AGTE%5D={start_month}&'\n",
    "cond3 = f'cond%5BREGION_CD%3A%3AEQ%5D={region}'\n",
    "cond4 = f'cond%5BDEAL_OBJ%3A%3AEQ%5D={trading_type}'\n",
    "\n",
    "url = f'{endpoint}?page={page}&perPage={perpage}&{cond1}&{cond2}&{cond3}&{cond4}&serviceKey={service_key}'"
   ]
  },
  {
   "cell_type": "markdown",
   "id": "284e6dc2",
   "metadata": {},
   "source": [
    "### 시군구 표준 코드\n",
    "https://jamdol.tistory.com/91"
   ]
  },
  {
   "cell_type": "code",
   "execution_count": 16,
   "id": "cc70b980",
   "metadata": {},
   "outputs": [],
   "source": [
    "html = urlopen(url)\n",
    "bs_obj = BeautifulSoup(html, 'html.parser')"
   ]
  },
  {
   "cell_type": "code",
   "execution_count": 17,
   "id": "601aa072",
   "metadata": {},
   "outputs": [
    {
     "name": "stdout",
     "output_type": "stream",
     "text": [
      "{\"currentCount\":1,\"data\":[{\"ALL_CNT\":609,\"DEAL_OBJ\":\"05\",\"LEVEL_NO\":\"1\",\"REGION_CD\":\"11290\",\"REGION_NM\":\"성북구\",\"RESEARCH_DATE\":\"202101\"}],\"matchCount\":1,\"page\":1,\"perPage\":10,\"totalCount\":424923}\n",
      "\n",
      "<class 'bs4.BeautifulSoup'>\n"
     ]
    }
   ],
   "source": [
    "print(bs_obj)\n",
    "print(type(bs_obj))"
   ]
  },
  {
   "cell_type": "code",
   "execution_count": 18,
   "id": "690be06e",
   "metadata": {},
   "outputs": [
    {
     "name": "stdout",
     "output_type": "stream",
     "text": [
      "{\"currentCount\":1,\"data\":[{\"ALL_CNT\":609,\"DEAL_OBJ\":\"05\",\"LEVEL_NO\":\"1\",\"REGION_CD\":\"11290\",\"REGION_NM\":\"성북구\",\"RESEARCH_DATE\":\"202101\"}],\"matchCount\":1,\"page\":1,\"perPage\":10,\"totalCount\":424923}\n",
      "\n",
      "<class 'str'>\n"
     ]
    }
   ],
   "source": [
    "print(bs_obj.text)\n",
    "print(type(bs_obj.text))"
   ]
  },
  {
   "cell_type": "markdown",
   "id": "904bff92",
   "metadata": {},
   "source": [
    "### 여기서 ALL_CNT에 해당하는 데이터만 추출하기\n",
    "### Extract 'ALL_CNT' value"
   ]
  },
  {
   "cell_type": "markdown",
   "id": "9f3a29c0",
   "metadata": {},
   "source": [
    "#### 방법 1: 정규표현식의 긍정형 후방탐색 사용하기\n",
    "#### Method 1: Use Regular expression(Positive lookbehind)"
   ]
  },
  {
   "cell_type": "code",
   "execution_count": 19,
   "id": "f0029b24",
   "metadata": {},
   "outputs": [],
   "source": [
    "import re"
   ]
  },
  {
   "cell_type": "code",
   "execution_count": 20,
   "id": "d5b6b1a8",
   "metadata": {},
   "outputs": [
    {
     "data": {
      "text/plain": [
       "['ALL_CNT\":609']"
      ]
     },
     "execution_count": 20,
     "metadata": {},
     "output_type": "execute_result"
    }
   ],
   "source": [
    "p = re.compile('ALL_CNT\\\"\\:[0-9]+')\n",
    "p.findall(bs_obj.text)"
   ]
  },
  {
   "cell_type": "code",
   "execution_count": 21,
   "id": "2b452b8b",
   "metadata": {},
   "outputs": [],
   "source": [
    "p = re.compile('(?<=\"ALL_CNT\":)[0-9]+')"
   ]
  },
  {
   "cell_type": "code",
   "execution_count": 22,
   "id": "96aa5d99",
   "metadata": {
    "scrolled": true
   },
   "outputs": [
    {
     "data": {
      "text/plain": [
       "['609']"
      ]
     },
     "execution_count": 22,
     "metadata": {},
     "output_type": "execute_result"
    }
   ],
   "source": [
    "p.findall(bs_obj.text)"
   ]
  },
  {
   "cell_type": "code",
   "execution_count": 23,
   "id": "40df85e8",
   "metadata": {},
   "outputs": [
    {
     "data": {
      "text/plain": [
       "609"
      ]
     },
     "execution_count": 23,
     "metadata": {},
     "output_type": "execute_result"
    }
   ],
   "source": [
    "int(p.findall(bs_obj.text)[0])"
   ]
  },
  {
   "cell_type": "markdown",
   "id": "631fc9d7",
   "metadata": {},
   "source": [
    "#### 방법 2: eval()함수를 사용하여 dict형태의 문자열을 실제 dict로 변경해서 탐색\n",
    "#### Method2: Convert dictionary-like string into real dictionry by using eval() function"
   ]
  },
  {
   "cell_type": "code",
   "execution_count": 24,
   "id": "95ad092f",
   "metadata": {},
   "outputs": [
    {
     "data": {
      "text/plain": [
       "str"
      ]
     },
     "execution_count": 24,
     "metadata": {},
     "output_type": "execute_result"
    }
   ],
   "source": [
    "type(bs_obj.text)"
   ]
  },
  {
   "cell_type": "code",
   "execution_count": 25,
   "id": "a334d3a7",
   "metadata": {},
   "outputs": [
    {
     "name": "stdout",
     "output_type": "stream",
     "text": [
      "{'currentCount': 1, 'data': [{'ALL_CNT': 609, 'DEAL_OBJ': '05', 'LEVEL_NO': '1', 'REGION_CD': '11290', 'REGION_NM': '성북구', 'RESEARCH_DATE': '202101'}], 'matchCount': 1, 'page': 1, 'perPage': 10, 'totalCount': 424923}\n",
      "<class 'dict'>\n"
     ]
    }
   ],
   "source": [
    "result = eval(bs_obj.text)\n",
    "print(result)\n",
    "print(type(result))"
   ]
  },
  {
   "cell_type": "code",
   "execution_count": 26,
   "id": "9f8c453f",
   "metadata": {},
   "outputs": [
    {
     "name": "stdout",
     "output_type": "stream",
     "text": [
      "[{'ALL_CNT': 609, 'DEAL_OBJ': '05', 'LEVEL_NO': '1', 'REGION_CD': '11290', 'REGION_NM': '성북구', 'RESEARCH_DATE': '202101'}]\n"
     ]
    },
    {
     "data": {
      "text/plain": [
       "list"
      ]
     },
     "execution_count": 26,
     "metadata": {},
     "output_type": "execute_result"
    }
   ],
   "source": [
    "#### key를 사용할 수 있음\n",
    "print(result['data'])\n",
    "type(result['data'])"
   ]
  },
  {
   "cell_type": "code",
   "execution_count": 27,
   "id": "53876d06",
   "metadata": {},
   "outputs": [
    {
     "name": "stdout",
     "output_type": "stream",
     "text": [
      "{'ALL_CNT': 609, 'DEAL_OBJ': '05', 'LEVEL_NO': '1', 'REGION_CD': '11290', 'REGION_NM': '성북구', 'RESEARCH_DATE': '202101'}\n"
     ]
    },
    {
     "data": {
      "text/plain": [
       "dict"
      ]
     },
     "execution_count": 27,
     "metadata": {},
     "output_type": "execute_result"
    }
   ],
   "source": [
    "print(result['data'][0])\n",
    "type(result['data'][0])"
   ]
  },
  {
   "cell_type": "code",
   "execution_count": 28,
   "id": "28ed6c4b",
   "metadata": {},
   "outputs": [
    {
     "data": {
      "text/plain": [
       "609"
      ]
     },
     "execution_count": 28,
     "metadata": {},
     "output_type": "execute_result"
    }
   ],
   "source": [
    "result['data'][0]['ALL_CNT']"
   ]
  }
 ],
 "metadata": {
  "kernelspec": {
   "display_name": "Python 3 (ipykernel)",
   "language": "python",
   "name": "python3"
  },
  "language_info": {
   "codemirror_mode": {
    "name": "ipython",
    "version": 3
   },
   "file_extension": ".py",
   "mimetype": "text/x-python",
   "name": "python",
   "nbconvert_exporter": "python",
   "pygments_lexer": "ipython3",
   "version": "3.9.12"
  },
  "varInspector": {
   "cols": {
    "lenName": 16,
    "lenType": 16,
    "lenVar": 40
   },
   "kernels_config": {
    "python": {
     "delete_cmd_postfix": "",
     "delete_cmd_prefix": "del ",
     "library": "var_list.py",
     "varRefreshCmd": "print(var_dic_list())"
    },
    "r": {
     "delete_cmd_postfix": ") ",
     "delete_cmd_prefix": "rm(",
     "library": "var_list.r",
     "varRefreshCmd": "cat(var_dic_list()) "
    }
   },
   "types_to_exclude": [
    "module",
    "function",
    "builtin_function_or_method",
    "instance",
    "_Feature"
   ],
   "window_display": false
  }
 },
 "nbformat": 4,
 "nbformat_minor": 5
}
