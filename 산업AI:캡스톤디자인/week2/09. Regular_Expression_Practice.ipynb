{
 "cells": [
  {
   "cell_type": "code",
   "execution_count": 1,
   "id": "ca28ba01",
   "metadata": {},
   "outputs": [],
   "source": [
    "import re"
   ]
  },
  {
   "cell_type": "markdown",
   "id": "1e88e300",
   "metadata": {},
   "source": [
    "- <span style = 'font-size:1.2em;line-height:1.5em'><b>1.</b> words 리스트에 저장된 여러 단어 중 a로 시작하는 단어를 추출하여 ans라는 list에 저장하려고 한다. 정규표현식을 활용하여 코드를 작성하시오.</span>\n",
    "    - <span style = 'font-size:1.0em;line-height:1.5em'>ans=['apple', 'arise', 'above']여야 한다.</span>\n"
   ]
  },
  {
   "cell_type": "code",
   "execution_count": 2,
   "id": "56645870",
   "metadata": {},
   "outputs": [],
   "source": [
    "words = ['apple', 'cat', 'brave', 'drama', 'arise', 'blow', 'coat', 'above']\n",
    "ans = []\n",
    "## 여기에 코드를 작성하세요.\n",
    "## 힌트: for문을 사용하여 words 리스트내의 각 문자열을 순회하면서 매칭하세요.\n"
   ]
  },
  {
   "cell_type": "markdown",
   "id": "c05c7902",
   "metadata": {},
   "source": [
    "- <span style = 'font-size:1.2em;line-height:1.5em'><b>2.</b> my_str에 저장한 문자열에서 전화번호만 추출해 리스트로 반환하려고 한다. 정규표현식을 활용하여 코드를 작성하시오.</span>\n",
    "    - <span style = 'font-size:1.0em;line-height:1.5em'>ans=['010-1111-2222', '010-3333-4444', '02-555-1234', '010-7777-8888', '010-9999-0000']여야 한다.</span>"
   ]
  },
  {
   "cell_type": "code",
   "execution_count": 21,
   "id": "4eb9c850",
   "metadata": {},
   "outputs": [],
   "source": [
    "my_str = '''\n",
    "저는 최근에 새로운 핸드폰을 구입해서, 주변 사람들의 연락처를 다시 입력해야 했습니다.\n",
    "가족들의 전화번호는 이미 기억하고 있어서 문제 없었지만, 친구들의 전화번호는 다시 입력해야 했습니다. \n",
    "예를 들어, 제 친한 친구인 010-1111-2222와 010-3333-4444의 전화번호를 새로 등록했고, \n",
    "회사에서 일하는 동료인 02-555-1234와 010-7777-8888의 전화번호도 추가했습니다. \n",
    "또한, 이번 주말에 만날 예정인 친구의 번호는 010-9999-0000입니다. \n",
    "핸드폰의 주소록에 연락처를 등록하는 것은 꽤 번거로운 작업이지만, 한 번 등록해 놓으면 훨씬 편리하게 사용할 수 있습니다.\n",
    "'''\n",
    "## 여기에 코드를 작성하세요.\n"
   ]
  },
  {
   "cell_type": "markdown",
   "id": "400caf76",
   "metadata": {},
   "source": [
    "- <span style = 'font-size:1.2em;line-height:1.5em'><b>3.</b> 다음과 같이 my_str에는 대사와 지문이 섞여있는 문자열이 저장되어 있다. 이 때, 인물만 추출해서 리스트에 저장하고 싶다. 정규표현식을 활용하여 코드를 작성하시오. 이 때, set()을 활용하여 중복되는 인물은 제거하시오.</span>\n",
    "    - <span style = 'font-size:1.0em;line-height:1.5em'>ans=['Chandler', 'Phoebe']여야 한다.</span>"
   ]
  },
  {
   "cell_type": "code",
   "execution_count": 25,
   "id": "bc04f8ba",
   "metadata": {},
   "outputs": [],
   "source": [
    "my_str = '''Chandler: All right Joey, be nice. So does he have a hump? A hump and a hair-\n",
    "piece? Phoebe: Wiat, does he eat chalk? Phoebe: Just, because, I do not want her \n",
    "to go through what I went through with Carl- oh!'''\n",
    "\n",
    "## 여기에 코드를 작성하세요."
   ]
  },
  {
   "cell_type": "code",
   "execution_count": null,
   "id": "2cba5559",
   "metadata": {},
   "outputs": [],
   "source": []
  }
 ],
 "metadata": {
  "kernelspec": {
   "display_name": "Python 3 (ipykernel)",
   "language": "python",
   "name": "python3"
  },
  "language_info": {
   "codemirror_mode": {
    "name": "ipython",
    "version": 3
   },
   "file_extension": ".py",
   "mimetype": "text/x-python",
   "name": "python",
   "nbconvert_exporter": "python",
   "pygments_lexer": "ipython3",
   "version": "3.9.12"
  }
 },
 "nbformat": 4,
 "nbformat_minor": 5
}
